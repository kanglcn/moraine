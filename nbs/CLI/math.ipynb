{
 "cells": [
  {
   "cell_type": "markdown",
   "id": "574c623b-077b-4ab9-8aa6-38eb7b2ac34d",
   "metadata": {},
   "source": [
    "# math\n",
    "\n",
    "> Basic math routine"
   ]
  },
  {
   "cell_type": "code",
   "execution_count": null,
   "id": "ab93e648-065d-48cc-9b74-2a32846c96af",
   "metadata": {},
   "outputs": [],
   "source": [
    "#| default_exp cli/math"
   ]
  },
  {
   "cell_type": "code",
   "execution_count": null,
   "id": "4f8f537d-ed6f-4512-b57a-0a1d35c1e404",
   "metadata": {},
   "outputs": [],
   "source": [
    "#| hide\n",
    "from nbdev.showdoc import *"
   ]
  },
  {
   "cell_type": "code",
   "execution_count": null,
   "id": "0e222593-0da2-41f2-885f-79b725390904",
   "metadata": {},
   "outputs": [],
   "source": [
    "import zarr\n",
    "import numpy as np\n",
    "import moraine.cli as mc"
   ]
  },
  {
   "cell_type": "code",
   "execution_count": null,
   "id": "764bb542-acb0-405f-b264-ca3e9cc4b6ef",
   "metadata": {},
   "outputs": [],
   "source": [
    "#| export\n",
    "import logging\n",
    "import zarr\n",
    "import numpy as np\n",
    "import numexpr as ne\n",
    "import time\n",
    "\n",
    "import dask\n",
    "from dask import array as da\n",
    "from dask.distributed import Client, LocalCluster, progress\n",
    "\n",
    "from moraine.cli.logging import mc_logger"
   ]
  },
  {
   "cell_type": "code",
   "execution_count": null,
   "id": "b426be48-cbdf-4851-a828-30d46e92b8b6",
   "metadata": {},
   "outputs": [],
   "source": [
    "#| export\n",
    "def _math(operation=str,\n",
    "          **data):\n",
    "    return ne.evaluate(operation,data)"
   ]
  },
  {
   "cell_type": "code",
   "execution_count": null,
   "id": "2e9a7ef3-9796-41f4-8adc-550eb91652f5",
   "metadata": {},
   "outputs": [],
   "source": [
    "#| export\n",
    "@mc_logger\n",
    "def math(output:str, # path to output\n",
    "         operation:str, # operation\n",
    "         **data):\n",
    "    '''\n",
    "    Basic math manipulation. Only elementwise operations are supported. Only one output is supported.\n",
    "    '''\n",
    "    output_path = output\n",
    "    logger = logging.getLogger(__name__)\n",
    "    for name, path in data.items():\n",
    "        path_zarr = zarr.open(path,mode='r'); logger.zarr_info(name,path_zarr)\n",
    "    logger.info('starting dask local cluster.')\n",
    "    with LocalCluster(processes=False,threads_per_worker=2) as cluster, Client(cluster) as client:\n",
    "        logger.info('dask local cluster started.')\n",
    "        logger.dask_cluster_info(cluster)\n",
    "        names = []; darrs = []\n",
    "        \n",
    "        for name, path in data.items():\n",
    "            names.append(name)\n",
    "            darr = da.from_zarr(path,inline_array=True); logger.darr_info(name,darr)\n",
    "            darrs.append(darr)\n",
    "        darr0 = darrs[0]\n",
    "        darrs = [darr.to_delayed() for darr in darrs]\n",
    "\n",
    "        output_delayed = np.empty_like(darrs[0],dtype=object)\n",
    "        math_delayed = dask.delayed(_math,pure=True,nout=1)\n",
    "        with np.nditer(darrs[0],flags=['multi_index','refs_ok'], op_flags=['readwrite']) as it:\n",
    "            for block in it:\n",
    "                idx = it.multi_index\n",
    "                math_kw = {}\n",
    "                for name, darr in zip(names, darrs):\n",
    "                    math_kw[name] = darr[idx]\n",
    "                output_delayed[idx] = math_delayed(operation,**math_kw)\n",
    "                output_delayed[idx] = da.from_delayed(output_delayed[idx],shape=darr0.blocks[idx].shape,meta=np.array(()))\n",
    "        output = da.block(output_delayed.tolist())\n",
    "        _output = output.to_zarr(output_path,overwrite=True,compute=False)\n",
    "        logger.info('computing graph setted. doing all the computing.')\n",
    "        futures = client.persist(_output)\n",
    "        progress(futures,notebook=False)\n",
    "        da.compute(futures)\n",
    "        time.sleep(0.1)\n",
    "        logger.info('computing finished.')\n",
    "    logger.info('dask cluster closed.')"
   ]
  },
  {
   "cell_type": "markdown",
   "id": "e6619bb6-956c-4994-af01-e1f90856a3bf",
   "metadata": {},
   "source": [
    "This function is based on [Numexpr](https://numexpr.readthedocs.io/en/latest/index.html).\n",
    "All [operators](https://numexpr.readthedocs.io/en/latest/user_guide.html#supported-operators) and \n",
    "[functions](https://numexpr.readthedocs.io/en/latest/user_guide.html#supported-functions)\n",
    "supported in`Numexpr` are supported except reduction operations."
   ]
  },
  {
   "cell_type": "markdown",
   "id": "a5cac6cb-b2f8-4a0a-a5c6-bda6dfd0d0e9",
   "metadata": {},
   "source": [
    "Usage:"
   ]
  },
  {
   "cell_type": "code",
   "execution_count": null,
   "id": "5d2ca737-19e7-4e8c-acf2-b6e32e07db2a",
   "metadata": {},
   "outputs": [],
   "source": [
    "a = np.random.rand(100,100).astype(np.float32)\n",
    "b = np.random.rand(100,100).astype(np.float32)\n",
    "a_zarr = zarr.open('./math/a.zarr',mode='w',shape=a.shape,dtype=a.dtype,chunks=(10,10))\n",
    "b_zarr = zarr.open('./math/b.zarr',mode='w',shape=b.shape,dtype=b.dtype,chunks=(10,10))\n",
    "a_zarr[:] = a; b_zarr[:] = b"
   ]
  },
  {
   "cell_type": "code",
   "execution_count": null,
   "id": "8b1867b5-5d67-44ba-baf3-d406f6e3b491",
   "metadata": {},
   "outputs": [],
   "source": [
    "logger = mc.get_logger()"
   ]
  },
  {
   "cell_type": "code",
   "execution_count": null,
   "id": "71bd1ac0-cfbe-4171-a896-0ecbe333f7f3",
   "metadata": {},
   "outputs": [
    {
     "name": "stdout",
     "output_type": "stream",
     "text": [
      "2025-09-18 12:18:32 - log_args - INFO - running function: math\n",
      "2025-09-18 12:18:32 - log_args - INFO - fetching args:\n",
      "2025-09-18 12:18:32 - log_args - INFO - output = './math/c.zarr'\n",
      "2025-09-18 12:18:32 - log_args - INFO - operation = 'sin(a)*exp(b)/2'\n",
      "2025-09-18 12:18:32 - log_args - INFO - data = {'a': './math/a.zarr', 'b': './math/b.zarr'}\n",
      "2025-09-18 12:18:32 - log_args - INFO - fetching args done.\n",
      "2025-09-18 12:18:32 - zarr_info - INFO - a zarray shape, chunks, dtype: (100, 100), (10, 10), float32\n",
      "2025-09-18 12:18:32 - zarr_info - INFO - b zarray shape, chunks, dtype: (100, 100), (10, 10), float32\n",
      "2025-09-18 12:18:32 - math - INFO - starting dask local cluster.\n",
      "2025-09-18 12:18:34 - math - INFO - dask local cluster started.\n",
      "2025-09-18 12:18:34 - dask_cluster_info - INFO - dask cluster: LocalCluster(dashboard_link='http://10.211.48.4:8787/status', workers=1, threads=2, memory=256.00 GiB)\n",
      "2025-09-18 12:18:34 - darr_info - INFO - a dask array shape, chunksize, dtype: (100, 100), (10, 10), float32\n",
      "2025-09-18 12:18:34 - darr_info - INFO - b dask array shape, chunksize, dtype: (100, 100), (10, 10), float32\n",
      "2025-09-18 12:18:35 - math - INFO - computing graph setted. doing all the computing.\n",
      "2025-09-18 12:18:36 - math - INFO - computing finished.eted |  1.4s\u001b[2K\n",
      "2025-09-18 12:18:36 - math - INFO - dask cluster closed.\n"
     ]
    }
   ],
   "source": [
    "math('./math/c.zarr','sin(a)*exp(b)/2',a='./math/a.zarr',b = './math/b.zarr')"
   ]
  },
  {
   "cell_type": "code",
   "execution_count": null,
   "id": "fcd297d0-a286-4877-8b6c-3db69702c6a7",
   "metadata": {},
   "outputs": [],
   "source": [
    "c = zarr.open('./math/c.zarr',mode='r')[:]\n",
    "np.testing.assert_array_almost_equal(c,np.sin(a)*np.exp(b)/2)"
   ]
  },
  {
   "cell_type": "code",
   "execution_count": null,
   "id": "d50eda76-1cf8-4fb7-9f5a-df8af874e97a",
   "metadata": {},
   "outputs": [],
   "source": [
    "#| hide\n",
    "import nbdev; nbdev.nbdev_export()"
   ]
  },
  {
   "cell_type": "code",
   "execution_count": null,
   "id": "d9197a33-c103-41da-bdd8-fe70d250b6b7",
   "metadata": {},
   "outputs": [],
   "source": []
  }
 ],
 "metadata": {
  "kernelspec": {
   "display_name": "python3",
   "language": "python",
   "name": "python3"
  }
 },
 "nbformat": 4,
 "nbformat_minor": 5
}
