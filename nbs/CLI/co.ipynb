{
 "cells": [
  {
   "cell_type": "markdown",
   "id": "4bfeebac-fba5-487a-96d6-5c21484e847f",
   "metadata": {},
   "source": [
    "# co\n",
    "\n",
    "> Covariance and Coherence Matrix Estimation"
   ]
  },
  {
   "cell_type": "code",
   "execution_count": null,
   "id": "9ca9eaed-c4c4-498b-b280-c15946104223",
   "metadata": {},
   "outputs": [],
   "source": [
    "#| default_exp cli/co"
   ]
  },
  {
   "cell_type": "code",
   "execution_count": null,
   "id": "ebdef397-9ce4-4d64-958f-e4bb98392daf",
   "metadata": {},
   "outputs": [],
   "source": [
    "#| hide\n",
    "from nbdev.showdoc import *"
   ]
  },
  {
   "cell_type": "code",
   "execution_count": null,
   "id": "4e00e329-55a9-4397-bfef-512e3c88cc1b",
   "metadata": {},
   "outputs": [],
   "source": [
    "from matplotlib import pyplot as plt\n",
    "import zarr\n",
    "import colorcet\n",
    "import moraine.cli as mc\n",
    "from moraine.utils_ import is_cuda_available"
   ]
  },
  {
   "cell_type": "code",
   "execution_count": null,
   "id": "f542f477-0d58-4d9e-8f85-67562a31774f",
   "metadata": {},
   "outputs": [],
   "source": [
    "#| export\n",
    "import logging\n",
    "import time\n",
    "from pathlib import Path\n",
    "\n",
    "import zarr\n",
    "import numpy as np\n",
    "import math\n",
    "\n",
    "import dask\n",
    "from dask import array as da\n",
    "from dask import delayed\n",
    "from dask.distributed import Client, LocalCluster, progress\n",
    "from moraine.utils_ import is_cuda_available, get_array_module\n",
    "if is_cuda_available():\n",
    "    import cupy as cp\n",
    "    from dask_cuda import LocalCUDACluster\n",
    "    from rmm.allocators.cupy import rmm_cupy_allocator\n",
    "import moraine as mr\n",
    "import moraine.cli as mc\n",
    "from moraine.cli.logging import mc_logger\n",
    "from moraine.cli import mk_clean_dir, dask_from_zarr, dask_from_zarr_overlap, dask_to_zarr"
   ]
  },
  {
   "cell_type": "code",
   "execution_count": null,
   "id": "82af9993-1f7f-45ca-9523-a52d2db46d75",
   "metadata": {},
   "outputs": [],
   "source": [
    "#| export\n",
    "@mc_logger\n",
    "def emperical_co_pc(\n",
    "    rslc:str, # input: rslc stack, shape (nlines, width, nimages)\n",
    "    is_shp_dir:str, # input: directory for bool array indicating the SHPs of pc\n",
    "    gix:str, # input: bool array indicating pc, shape (2, n_points)\n",
    "    coh_dir:str, # output: directory that hold complex coherence matrix for pc\n",
    "    image_pairs:np.ndarray=None, # input: image pairs (element in the coherence matrix) to be calculated, all image pairs by default\n",
    "    chunks:int=None, # parallel processing azimuth/range chunk size, optional. Default: rslc.chunks[:2]\n",
    "    cuda:bool=False, # if use cuda for processing, false by default\n",
    "    processes=None, # use process for dask worker over thread, the default is False for cpu, only applied if cuda==False\n",
    "    n_workers=None, # number of dask worker, the default is 1 for cpu, number of GPU for cuda\n",
    "    threads_per_worker=None, # number of threads per dask worker, the default is 2 for cpu, only applied if cuda==False\n",
    "    rmm_pool_size=0.9, # set the rmm pool size, only applied when cuda==True\n",
    "    **dask_cluster_arg, # other dask local/cudalocal cluster args\n",
    "):\n",
    "    '''estimate emperical coherence matrix on point cloud data.\n",
    "    '''\n",
    "    rslc_path = rslc\n",
    "    is_shp_dir_path = Path(is_shp_dir)\n",
    "    gix_path = gix\n",
    "    coh_dir = Path(coh_dir); mk_clean_dir(coh_dir)\n",
    "    logger = logging.getLogger(__name__)\n",
    "\n",
    "    rslc_zarr = zarr.open(rslc_path,mode='r')\n",
    "    logger.zarr_info(rslc_path, rslc_zarr)\n",
    "    assert rslc_zarr.ndim == 3, \"rslc dimentation is not 3.\"\n",
    "    nlines, width, nimage = rslc_zarr.shape\n",
    "    if chunks is None: chunks = rslc_zarr.chunks[:2]\n",
    "\n",
    "    is_shp0 = sorted(is_shp_dir_path.glob('*.zarr'))[0]\n",
    "    is_shp0_zarr = zarr.open(is_shp0,mode='r')\n",
    "    az_win, r_win = is_shp0_zarr.shape[1:]\n",
    "    az_half_win = int((az_win-1)/2)\n",
    "    r_half_win = int((r_win-1)/2)\n",
    "    logger.info(f'''azimuth window size and half azimuth window size: {az_win}, {az_half_win}''')\n",
    "    logger.info(f'''range window size and half range window size: {r_win}, {r_half_win}''')\n",
    "\n",
    "    az_chunk, r_chunk = chunks\n",
    "    n_az_chunk = math.ceil(nlines/az_chunk)\n",
    "    n_r_chunk = math.ceil(width/r_chunk)\n",
    "    logger.info(f'parallel processing azimuth chunk size: {az_chunk}')\n",
    "    logger.info(f'parallel processing range chunk size: {r_chunk}')\n",
    "\n",
    "    depth = (az_half_win, r_half_win, 0); boundary = {0:'none',1:'none',2:'none'}\n",
    "    gix_zarr = zarr.open(gix_path,mode='r')\n",
    "    logger.zarr_info(gix_path, gix_zarr)\n",
    "    assert gix_zarr.ndim == 2, \"gix dimentation is not 2.\"\n",
    "    logger.info('loading gix into memory.')\n",
    "    gix = mc.parallel_read_zarr(gix_zarr,(slice(None),slice(None)))\n",
    "    logger.info('convert gix to the order of ras chunk')\n",
    "    chunk_idx, chunk_bounds = mr.pc._pc_split_by_chunk(gix,chunks,(nlines,width))[:2]\n",
    "    pc_chunksize = tuple(np.diff(chunk_bounds))\n",
    "    sorted_gix = gix[chunk_idx]\n",
    "    ras_chunk_order_gix = mr.pc._gix_ras_chunk(sorted_gix,chunk_bounds, chunks, (nlines,width),overlap=(az_half_win,r_half_win))\n",
    "\n",
    "    if cuda:\n",
    "        Cluster = LocalCUDACluster; cluster_args= {\n",
    "            'n_workers':n_workers,\n",
    "            'rmm_pool_size':rmm_pool_size}\n",
    "        cluster_args.update(dask_cluster_arg)\n",
    "        xp = cp\n",
    "    else:\n",
    "        if processes is None: processes = False\n",
    "        if n_workers is None: n_workers = 1\n",
    "        if threads_per_worker is None: threads_per_worker = 2\n",
    "        Cluster = LocalCluster; cluster_args = {'processes':processes, 'n_workers':n_workers, 'threads_per_worker':threads_per_worker}\n",
    "        cluster_args.update(dask_cluster_arg)\n",
    "        xp = np\n",
    "\n",
    "    if image_pairs is None:\n",
    "        tnet = mr.TempNet.from_bandwidth(nimage)\n",
    "        image_pairs = tnet.image_pairs\n",
    "\n",
    "    n_image_pairs = image_pairs.shape[0]\n",
    "    \n",
    "    logger.info('starting dask cluster.')\n",
    "    with Cluster(**cluster_args) as cluster, Client(cluster) as client:\n",
    "        logger.info('dask cluster started.')\n",
    "        logger.dask_cluster_info(cluster)\n",
    "        if cuda: client.run(cp.cuda.set_allocator, rmm_cupy_allocator)\n",
    "        emperical_co_pc_delayed = delayed(mr.emperical_co_pc,pure=True,nout=1)\n",
    "\n",
    "        cpu_rslc_overlap = dask_from_zarr_overlap(rslc_path, (*chunks, rslc_zarr.shape[2]), depth)\n",
    "        logger.darr_info('rslc_overlap', cpu_rslc_overlap)\n",
    "        cpu_gix_darr = da.from_array(ras_chunk_order_gix,chunks=(pc_chunksize,(2,)))\n",
    "        logger.darr_info('gix in ras chunk order', cpu_gix_darr)\n",
    "        if cuda:\n",
    "            rslc_overlap = cpu_rslc_overlap.map_blocks(cp.asarray)\n",
    "            gix_darr = cpu_gix_darr.map_blocks(cp.asarray)\n",
    "        else:\n",
    "            rslc_overlap = cpu_rslc_overlap\n",
    "            gix_darr = cpu_gix_darr\n",
    "        rslc_overlap_delayed = rslc_overlap.to_delayed().reshape(-1)\n",
    "        gix_delayed = gix_darr.to_delayed().reshape(-1)\n",
    "\n",
    "        logger.info(f'estimating coherence matrix chunk by chunk.')\n",
    "        futures = []\n",
    "        for j in range(n_az_chunk*n_r_chunk):\n",
    "            do_log = j%math.ceil(n_az_chunk*n_r_chunk/10) == 0\n",
    "            # az_chunk_idx = j//n_az_chunk; r_chunk_idx = j%n_az_chunk\n",
    "            if pc_chunksize[j] > 0:\n",
    "                cpu_is_shp = mc.dask_from_zarr(is_shp_dir_path/f'{j}.zarr',chunks=(-1,-1,-1))\n",
    "                if do_log: logger.darr_info(f'is_shp for chunk {j}',cpu_is_shp)\n",
    "                if cuda:\n",
    "                    is_shp = cpu_is_shp.map_blocks(cp.asarray)\n",
    "                else:\n",
    "                    is_shp = cpu_is_shp\n",
    "                is_shp_delayed = is_shp.to_delayed()[0,0,0]\n",
    "                coh_delayed = emperical_co_pc_delayed(rslc_overlap_delayed[j],gix_delayed[j],is_shp_delayed,image_pairs=image_pairs)\n",
    "                coh = da.from_delayed(coh_delayed,shape=(pc_chunksize[j],n_image_pairs),meta=xp.array((),dtype=xp.complex64))\n",
    "                if cuda:\n",
    "                    cpu_coh = coh.map_blocks(cp.asnumpy)\n",
    "                else:\n",
    "                    cpu_coh = coh\n",
    "                if do_log: logger.darr_info(f'coh for chunk {j}',cpu_coh)\n",
    "                if do_log: logger.info(f'saving coh for chunk {j}')\n",
    "                _coh = dask_to_zarr(cpu_coh,coh_dir/f'{j}.zarr',chunks=(coh.shape[0],1),log_zarr=do_log)\n",
    "                futures.append(_coh)\n",
    "\n",
    "        logger.info('computing graph setted. doing all the computing.')\n",
    "        futures = client.persist(futures)\n",
    "        progress(futures,notebook=False)\n",
    "        time.sleep(0.1)\n",
    "        da.compute(futures)\n",
    "        logger.info('computing finished.')\n",
    "    logger.info('dask cluster closed.')"
   ]
  },
  {
   "cell_type": "code",
   "execution_count": null,
   "id": "25e989da-6d04-4a8a-a43e-d49e2ce2be6b",
   "metadata": {},
   "outputs": [],
   "source": [
    "logger = mc.get_logger()"
   ]
  },
  {
   "cell_type": "code",
   "execution_count": null,
   "id": "b9f2f904-46f1-4c3e-b925-531fceab12aa",
   "metadata": {},
   "outputs": [],
   "source": [
    "ds_can_gix = './shp/ds_can_gix.zarr'\n",
    "is_shp = './shp/is_shp.zarr/'\n",
    "ds_can_is_shp_dir = './co/ds_can_is_shp'\n",
    "ds_can_key = './co/ds_can_key.zarr'"
   ]
  },
  {
   "cell_type": "code",
   "execution_count": null,
   "id": "1ccabfac-fe42-4abe-9556-b0fe5d941695",
   "metadata": {},
   "outputs": [
    {
     "name": "stdout",
     "output_type": "stream",
     "text": [
      "2025-09-18 12:44:25 - log_args - INFO - running function: ras2pc_ras_chunk\n",
      "2025-09-18 12:44:25 - log_args - INFO - fetching args:\n",
      "2025-09-18 12:44:25 - log_args - INFO - gix = './shp/ds_can_gix.zarr'\n",
      "2025-09-18 12:44:25 - log_args - INFO - ras = './shp/is_shp.zarr/'\n",
      "2025-09-18 12:44:25 - log_args - INFO - pc = './co/ds_can_is_shp'\n",
      "2025-09-18 12:44:25 - log_args - INFO - key = './co/ds_can_key.zarr'\n",
      "2025-09-18 12:44:25 - log_args - INFO - chunks = (1000, 1000)\n",
      "2025-09-18 12:44:25 - log_args - INFO - processes = False\n",
      "2025-09-18 12:44:25 - log_args - INFO - n_workers = 1\n",
      "2025-09-18 12:44:25 - log_args - INFO - threads_per_worker = 1\n",
      "2025-09-18 12:44:25 - log_args - INFO - dask_cluster_arg = {}\n",
      "2025-09-18 12:44:25 - log_args - INFO - fetching args done.\n",
      "2025-09-18 12:44:25 - zarr_info - INFO - ./shp/ds_can_gix.zarr zarray shape, chunks, dtype: (732727, 2), (100000, 1), int32\n",
      "2025-09-18 12:44:25 - ras2pc_ras_chunk - INFO - loading gix into memory.\n",
      "2025-09-18 12:44:25 - ras2pc_ras_chunk - INFO - convert gix to the order of ras chunk\n",
      "2025-09-18 12:44:32 - ras2pc_ras_chunk - INFO - save key\n",
      "2025-09-18 12:44:32 - ras2pc_ras_chunk - INFO - starting dask local cluster.\n",
      "2025-09-18 12:44:34 - ras2pc_ras_chunk - INFO - dask local cluster started.\n",
      "2025-09-18 12:44:34 - dask_cluster_info - INFO - dask cluster: LocalCluster(dashboard_link='http://10.211.48.4:8787/status', workers=1, threads=1, memory=256.00 GiB)\n",
      "2025-09-18 12:44:34 - ras2pc_ras_chunk - INFO - start to slice on ./shp/is_shp.zarr/\n",
      "2025-09-18 12:44:34 - zarr_info - INFO - ./shp/is_shp.zarr/ zarray shape, chunks, dtype: (2500, 1834, 11, 11), (1000, 1000, 1, 1), bool\n",
      "2025-09-18 12:44:34 - darr_info - INFO - ras dask array shape, chunksize, dtype: (2500, 1834, 11, 11), (1000, 1000, 11, 11), bool\n",
      "2025-09-18 12:44:34 - darr_info - INFO - pc dask array shape, chunksize, dtype: (732727, 11, 11), (201403, 11, 11), bool\n",
      "2025-09-18 12:44:34 - ras2pc_ras_chunk - INFO - saving to co/ds_can_is_shp.\n",
      "2025-09-18 12:44:34 - ras2pc_ras_chunk - INFO - computing graph setted. doing all the computing.\n",
      "2025-09-18 12:44:37 - ras2pc_ras_chunk - INFO - computing finished.\u001b[2K\n",
      "2025-09-18 12:44:37 - ras2pc_ras_chunk - INFO - dask cluster closed.\n"
     ]
    }
   ],
   "source": [
    "mc.ras2pc_ras_chunk(ds_can_gix,is_shp,ds_can_is_shp_dir,ds_can_key,chunks=(1000,1000))"
   ]
  },
  {
   "cell_type": "code",
   "execution_count": null,
   "id": "4b423d4e-80f4-4b45-9eb7-32d5f637710c",
   "metadata": {},
   "outputs": [],
   "source": [
    "rslc = './raw/rslc.zarr'\n",
    "ds_can_coh_dir = './co/ds_can_coh'"
   ]
  },
  {
   "cell_type": "code",
   "execution_count": null,
   "id": "1ffcf112-d7ad-4de0-a5cf-4f8a61d9556b",
   "metadata": {},
   "outputs": [
    {
     "name": "stdout",
     "output_type": "stream",
     "text": [
      "2025-09-18 12:44:37 - log_args - INFO - running function: emperical_co_pc\n",
      "2025-09-18 12:44:37 - log_args - INFO - fetching args:\n",
      "2025-09-18 12:44:37 - log_args - INFO - rslc = './raw/rslc.zarr'\n",
      "2025-09-18 12:44:37 - log_args - INFO - is_shp_dir = './co/ds_can_is_shp'\n",
      "2025-09-18 12:44:37 - log_args - INFO - gix = './shp/ds_can_gix.zarr'\n",
      "2025-09-18 12:44:37 - log_args - INFO - coh_dir = './co/ds_can_coh'\n",
      "2025-09-18 12:44:37 - log_args - INFO - image_pairs = None\n",
      "2025-09-18 12:44:37 - log_args - INFO - chunks = (1000, 1000)\n",
      "2025-09-18 12:44:37 - log_args - INFO - cuda = False\n",
      "2025-09-18 12:44:37 - log_args - INFO - processes = None\n",
      "2025-09-18 12:44:37 - log_args - INFO - n_workers = None\n",
      "2025-09-18 12:44:37 - log_args - INFO - threads_per_worker = None\n",
      "2025-09-18 12:44:37 - log_args - INFO - rmm_pool_size = 0.9\n",
      "2025-09-18 12:44:37 - log_args - INFO - dask_cluster_arg = {}\n",
      "2025-09-18 12:44:37 - log_args - INFO - fetching args done.\n",
      "2025-09-18 12:44:38 - zarr_info - INFO - ./raw/rslc.zarr zarray shape, chunks, dtype: (2500, 1834, 17), (1000, 1000, 1), complex64\n",
      "2025-09-18 12:44:38 - emperical_co_pc - INFO - azimuth window size and half azimuth window size: 11, 5\n",
      "2025-09-18 12:44:38 - emperical_co_pc - INFO - range window size and half range window size: 11, 5\n",
      "2025-09-18 12:44:38 - emperical_co_pc - INFO - parallel processing azimuth chunk size: 1000\n",
      "2025-09-18 12:44:38 - emperical_co_pc - INFO - parallel processing range chunk size: 1000\n",
      "2025-09-18 12:44:38 - zarr_info - INFO - ./shp/ds_can_gix.zarr zarray shape, chunks, dtype: (732727, 2), (100000, 1), int32\n",
      "2025-09-18 12:44:38 - emperical_co_pc - INFO - loading gix into memory.\n",
      "2025-09-18 12:44:38 - emperical_co_pc - INFO - convert gix to the order of ras chunk\n",
      "2025-09-18 12:44:38 - emperical_co_pc - INFO - starting dask cluster.\n",
      "2025-09-18 12:44:38 - emperical_co_pc - INFO - dask cluster started.\n",
      "2025-09-18 12:44:38 - dask_cluster_info - INFO - dask cluster: LocalCluster(dashboard_link='http://10.211.48.4:8787/status', workers=1, threads=2, memory=256.00 GiB)\n",
      "2025-09-18 12:44:38 - darr_info - INFO - rslc_overlap dask array shape, chunksize, dtype: (2520, 1844, 17), (1010, 1005, 17), complex64\n",
      "2025-09-18 12:44:38 - darr_info - INFO - gix in ras chunk order dask array shape, chunksize, dtype: (732727, 2), (201403, 2), int32\n",
      "2025-09-18 12:44:38 - emperical_co_pc - INFO - estimating coherence matrix chunk by chunk.\n",
      "2025-09-18 12:44:38 - darr_info - INFO - is_shp for chunk 0 dask array shape, chunksize, dtype: (201097, 11, 11), (201097, 11, 11), bool\n",
      "2025-09-18 12:44:38 - darr_info - INFO - coh for chunk 0 dask array shape, chunksize, dtype: (201097, 136), (201097, 136), complex64\n",
      "2025-09-18 12:44:38 - emperical_co_pc - INFO - saving coh for chunk 0\n",
      "2025-09-18 12:44:38 - zarr_info - INFO - co/ds_can_coh/0.zarr zarray shape, chunks, dtype: (201097, 136), (201097, 1), complex64\n",
      "2025-09-18 12:44:38 - darr_info - INFO - is_shp for chunk 1 dask array shape, chunksize, dtype: (137562, 11, 11), (137562, 11, 11), bool\n",
      "2025-09-18 12:44:38 - darr_info - INFO - coh for chunk 1 dask array shape, chunksize, dtype: (137562, 136), (137562, 136), complex64\n",
      "2025-09-18 12:44:38 - emperical_co_pc - INFO - saving coh for chunk 1\n",
      "2025-09-18 12:44:38 - zarr_info - INFO - co/ds_can_coh/1.zarr zarray shape, chunks, dtype: (137562, 136), (137562, 1), complex64\n",
      "2025-09-18 12:44:38 - darr_info - INFO - is_shp for chunk 2 dask array shape, chunksize, dtype: (201403, 11, 11), (201403, 11, 11), bool\n",
      "2025-09-18 12:44:38 - darr_info - INFO - coh for chunk 2 dask array shape, chunksize, dtype: (201403, 136), (201403, 136), complex64\n",
      "2025-09-18 12:44:38 - emperical_co_pc - INFO - saving coh for chunk 2\n",
      "2025-09-18 12:44:38 - zarr_info - INFO - co/ds_can_coh/2.zarr zarray shape, chunks, dtype: (201403, 136), (201403, 1), complex64\n",
      "2025-09-18 12:44:38 - darr_info - INFO - is_shp for chunk 3 dask array shape, chunksize, dtype: (73518, 11, 11), (73518, 11, 11), bool\n",
      "2025-09-18 12:44:38 - darr_info - INFO - coh for chunk 3 dask array shape, chunksize, dtype: (73518, 136), (73518, 136), complex64\n",
      "2025-09-18 12:44:38 - emperical_co_pc - INFO - saving coh for chunk 3\n",
      "2025-09-18 12:44:38 - zarr_info - INFO - co/ds_can_coh/3.zarr zarray shape, chunks, dtype: (73518, 136), (73518, 1), complex64\n",
      "2025-09-18 12:44:38 - darr_info - INFO - is_shp for chunk 4 dask array shape, chunksize, dtype: (78445, 11, 11), (78445, 11, 11), bool\n",
      "2025-09-18 12:44:38 - darr_info - INFO - coh for chunk 4 dask array shape, chunksize, dtype: (78445, 136), (78445, 136), complex64\n",
      "2025-09-18 12:44:38 - emperical_co_pc - INFO - saving coh for chunk 4\n",
      "2025-09-18 12:44:38 - zarr_info - INFO - co/ds_can_coh/4.zarr zarray shape, chunks, dtype: (78445, 136), (78445, 1), complex64\n",
      "2025-09-18 12:44:39 - darr_info - INFO - is_shp for chunk 5 dask array shape, chunksize, dtype: (40702, 11, 11), (40702, 11, 11), bool\n",
      "2025-09-18 12:44:39 - darr_info - INFO - coh for chunk 5 dask array shape, chunksize, dtype: (40702, 136), (40702, 136), complex64\n",
      "2025-09-18 12:44:39 - emperical_co_pc - INFO - saving coh for chunk 5\n",
      "2025-09-18 12:44:39 - zarr_info - INFO - co/ds_can_coh/5.zarr zarray shape, chunks, dtype: (40702, 136), (40702, 1), complex64\n",
      "2025-09-18 12:44:39 - emperical_co_pc - INFO - computing graph setted. doing all the computing.\n",
      "2025-09-18 12:44:44 - emperical_co_pc - INFO - computing finished.s\u001b[2K\n",
      "2025-09-18 12:44:44 - emperical_co_pc - INFO - dask cluster closed.\n",
      "CPU times: user 37.5 s, sys: 4.48 s, total: 41.9 s\n",
      "Wall time: 6.2 s\n"
     ]
    }
   ],
   "source": [
    "%%time\n",
    "emperical_co_pc(rslc,ds_can_is_shp_dir,ds_can_gix,ds_can_coh_dir,chunks=(1000,1000),cuda=False)"
   ]
  },
  {
   "cell_type": "code",
   "execution_count": null,
   "id": "712d54da-bfe5-4e15-96d7-710c77548a4b",
   "metadata": {},
   "outputs": [
    {
     "name": "stdout",
     "output_type": "stream",
     "text": [
      "2025-09-18 12:44:44 - log_args - INFO - running function: emperical_co_pc\n",
      "2025-09-18 12:44:44 - log_args - INFO - fetching args:\n",
      "2025-09-18 12:44:44 - log_args - INFO - rslc = './raw/rslc.zarr'\n",
      "2025-09-18 12:44:44 - log_args - INFO - is_shp_dir = './co/ds_can_is_shp'\n",
      "2025-09-18 12:44:44 - log_args - INFO - gix = './shp/ds_can_gix.zarr'\n",
      "2025-09-18 12:44:44 - log_args - INFO - coh_dir = './co/ds_can_coh'\n",
      "2025-09-18 12:44:44 - log_args - INFO - image_pairs = None\n",
      "2025-09-18 12:44:44 - log_args - INFO - chunks = (1000, 1000)\n",
      "2025-09-18 12:44:44 - log_args - INFO - cuda = True\n",
      "2025-09-18 12:44:44 - log_args - INFO - processes = None\n",
      "2025-09-18 12:44:44 - log_args - INFO - n_workers = None\n",
      "2025-09-18 12:44:44 - log_args - INFO - threads_per_worker = None\n",
      "2025-09-18 12:44:44 - log_args - INFO - rmm_pool_size = 0.9\n",
      "2025-09-18 12:44:44 - log_args - INFO - dask_cluster_arg = {}\n",
      "2025-09-18 12:44:44 - log_args - INFO - fetching args done.\n",
      "2025-09-18 12:44:44 - zarr_info - INFO - ./raw/rslc.zarr zarray shape, chunks, dtype: (2500, 1834, 17), (1000, 1000, 1), complex64\n",
      "2025-09-18 12:44:44 - emperical_co_pc - INFO - azimuth window size and half azimuth window size: 11, 5\n",
      "2025-09-18 12:44:44 - emperical_co_pc - INFO - range window size and half range window size: 11, 5\n",
      "2025-09-18 12:44:44 - emperical_co_pc - INFO - parallel processing azimuth chunk size: 1000\n",
      "2025-09-18 12:44:44 - emperical_co_pc - INFO - parallel processing range chunk size: 1000\n",
      "2025-09-18 12:44:44 - zarr_info - INFO - ./shp/ds_can_gix.zarr zarray shape, chunks, dtype: (732727, 2), (100000, 1), int32\n",
      "2025-09-18 12:44:44 - emperical_co_pc - INFO - loading gix into memory.\n",
      "2025-09-18 12:44:44 - emperical_co_pc - INFO - convert gix to the order of ras chunk\n",
      "2025-09-18 12:44:44 - emperical_co_pc - INFO - starting dask cluster.\n"
     ]
    },
    {
     "name": "stderr",
     "output_type": "stream",
     "text": [
      "2025-09-18 12:44:46,495 - distributed.worker - WARNING - Setting CPU affinity for GPU failed. Please refer to the following link for troubleshooting information: https://docs.rapids.ai/api/dask-cuda/nightly/troubleshooting/#setting-cpu-affinity-failure\n",
      "2025-09-18 12:44:46,496 - distributed.worker - WARNING - Setting CPU affinity for GPU failed. Please refer to the following link for troubleshooting information: https://docs.rapids.ai/api/dask-cuda/nightly/troubleshooting/#setting-cpu-affinity-failure\n"
     ]
    },
    {
     "name": "stdout",
     "output_type": "stream",
     "text": [
      "2025-09-18 12:44:47 - emperical_co_pc - INFO - dask cluster started.\n",
      "2025-09-18 12:44:47 - dask_cluster_info - INFO - dask cluster: LocalCUDACluster(dashboard_link='http://127.0.0.1:8787/status', workers=2, threads=2, memory=256.00 GiB)\n",
      "2025-09-18 12:44:47 - darr_info - INFO - rslc_overlap dask array shape, chunksize, dtype: (2520, 1844, 17), (1010, 1005, 17), complex64\n",
      "2025-09-18 12:44:47 - darr_info - INFO - gix in ras chunk order dask array shape, chunksize, dtype: (732727, 2), (201403, 2), int32\n",
      "2025-09-18 12:44:47 - emperical_co_pc - INFO - estimating coherence matrix chunk by chunk.\n",
      "2025-09-18 12:44:47 - darr_info - INFO - is_shp for chunk 0 dask array shape, chunksize, dtype: (201097, 11, 11), (201097, 11, 11), bool\n",
      "2025-09-18 12:44:47 - darr_info - INFO - coh for chunk 0 dask array shape, chunksize, dtype: (201097, 136), (201097, 136), complex64\n",
      "2025-09-18 12:44:47 - emperical_co_pc - INFO - saving coh for chunk 0\n",
      "2025-09-18 12:44:47 - zarr_info - INFO - co/ds_can_coh/0.zarr zarray shape, chunks, dtype: (201097, 136), (201097, 1), complex64\n",
      "2025-09-18 12:44:47 - darr_info - INFO - is_shp for chunk 1 dask array shape, chunksize, dtype: (137562, 11, 11), (137562, 11, 11), bool\n",
      "2025-09-18 12:44:47 - darr_info - INFO - coh for chunk 1 dask array shape, chunksize, dtype: (137562, 136), (137562, 136), complex64\n",
      "2025-09-18 12:44:47 - emperical_co_pc - INFO - saving coh for chunk 1\n",
      "2025-09-18 12:44:47 - zarr_info - INFO - co/ds_can_coh/1.zarr zarray shape, chunks, dtype: (137562, 136), (137562, 1), complex64\n",
      "2025-09-18 12:44:47 - darr_info - INFO - is_shp for chunk 2 dask array shape, chunksize, dtype: (201403, 11, 11), (201403, 11, 11), bool\n",
      "2025-09-18 12:44:47 - darr_info - INFO - coh for chunk 2 dask array shape, chunksize, dtype: (201403, 136), (201403, 136), complex64\n",
      "2025-09-18 12:44:47 - emperical_co_pc - INFO - saving coh for chunk 2\n",
      "2025-09-18 12:44:47 - zarr_info - INFO - co/ds_can_coh/2.zarr zarray shape, chunks, dtype: (201403, 136), (201403, 1), complex64\n",
      "2025-09-18 12:44:47 - darr_info - INFO - is_shp for chunk 3 dask array shape, chunksize, dtype: (73518, 11, 11), (73518, 11, 11), bool\n",
      "2025-09-18 12:44:47 - darr_info - INFO - coh for chunk 3 dask array shape, chunksize, dtype: (73518, 136), (73518, 136), complex64\n",
      "2025-09-18 12:44:47 - emperical_co_pc - INFO - saving coh for chunk 3\n",
      "2025-09-18 12:44:47 - zarr_info - INFO - co/ds_can_coh/3.zarr zarray shape, chunks, dtype: (73518, 136), (73518, 1), complex64\n",
      "2025-09-18 12:44:47 - darr_info - INFO - is_shp for chunk 4 dask array shape, chunksize, dtype: (78445, 11, 11), (78445, 11, 11), bool\n",
      "2025-09-18 12:44:47 - darr_info - INFO - coh for chunk 4 dask array shape, chunksize, dtype: (78445, 136), (78445, 136), complex64\n",
      "2025-09-18 12:44:47 - emperical_co_pc - INFO - saving coh for chunk 4\n",
      "2025-09-18 12:44:47 - zarr_info - INFO - co/ds_can_coh/4.zarr zarray shape, chunks, dtype: (78445, 136), (78445, 1), complex64\n",
      "2025-09-18 12:44:47 - darr_info - INFO - is_shp for chunk 5 dask array shape, chunksize, dtype: (40702, 11, 11), (40702, 11, 11), bool\n",
      "2025-09-18 12:44:47 - darr_info - INFO - coh for chunk 5 dask array shape, chunksize, dtype: (40702, 136), (40702, 136), complex64\n",
      "2025-09-18 12:44:47 - emperical_co_pc - INFO - saving coh for chunk 5\n",
      "2025-09-18 12:44:47 - zarr_info - INFO - co/ds_can_coh/5.zarr zarray shape, chunks, dtype: (40702, 136), (40702, 1), complex64\n",
      "2025-09-18 12:44:47 - emperical_co_pc - INFO - computing graph setted. doing all the computing.\n",
      "2025-09-18 12:44:52 - emperical_co_pc - INFO - computing finished.s\u001b[2K\n",
      "2025-09-18 12:44:53 - emperical_co_pc - INFO - dask cluster closed.\n",
      "CPU times: user 500 ms, sys: 613 ms, total: 1.11 s\n",
      "Wall time: 9.38 s\n"
     ]
    }
   ],
   "source": [
    "%%time\n",
    "if is_cuda_available():\n",
    "    emperical_co_pc(rslc,ds_can_is_shp_dir,ds_can_gix,ds_can_coh_dir,chunks=(1000,1000),cuda=True)"
   ]
  },
  {
   "cell_type": "code",
   "execution_count": null,
   "id": "ed59e434-c6be-4baf-b4d2-91300c20d8ea",
   "metadata": {},
   "outputs": [],
   "source": [
    "ds_can_coh = './co/ds_can_coh.zarr'"
   ]
  },
  {
   "cell_type": "code",
   "execution_count": null,
   "id": "83d312fb-ee6d-477e-8908-1b75e14572aa",
   "metadata": {},
   "outputs": [
    {
     "name": "stdout",
     "output_type": "stream",
     "text": [
      "2025-09-18 12:44:53 - log_args - INFO - running function: pc_concat\n",
      "2025-09-18 12:44:53 - log_args - INFO - fetching args:\n",
      "2025-09-18 12:44:53 - log_args - INFO - pcs = './co/ds_can_coh'\n",
      "2025-09-18 12:44:53 - log_args - INFO - pc = './co/ds_can_coh.zarr'\n",
      "2025-09-18 12:44:53 - log_args - INFO - key = './co/ds_can_key.zarr'\n",
      "2025-09-18 12:44:53 - log_args - INFO - chunks = 100000\n",
      "2025-09-18 12:44:53 - log_args - INFO - processes = False\n",
      "2025-09-18 12:44:53 - log_args - INFO - n_workers = 1\n",
      "2025-09-18 12:44:53 - log_args - INFO - threads_per_worker = 1\n",
      "2025-09-18 12:44:53 - log_args - INFO - dask_cluster_arg = {}\n",
      "2025-09-18 12:44:53 - log_args - INFO - fetching args done.\n",
      "2025-09-18 12:44:53 - pc_concat - INFO - input pcs: [[Path('co/ds_can_coh/0.zarr'), Path('co/ds_can_coh/1.zarr'), Path('co/ds_can_coh/2.zarr'), Path('co/ds_can_coh/3.zarr'), Path('co/ds_can_coh/4.zarr'), Path('co/ds_can_coh/5.zarr')]]\n",
      "2025-09-18 12:44:53 - pc_concat - INFO - output pc: ['./co/ds_can_coh.zarr']\n",
      "2025-09-18 12:44:53 - pc_concat - INFO - load key\n",
      "2025-09-18 12:44:53 - zarr_info - INFO - ./co/ds_can_key.zarr zarray shape, chunks, dtype: (732727,), (100000,), int64\n",
      "2025-09-18 12:44:53 - pc_concat - INFO - starting dask local cluster.\n",
      "2025-09-18 12:44:53 - pc_concat - INFO - dask local cluster started.\n",
      "2025-09-18 12:44:53 - dask_cluster_info - INFO - dask cluster: LocalCluster(dashboard_link='http://10.211.48.4:8787/status', workers=1, threads=1, memory=256.00 GiB)\n",
      "2025-09-18 12:44:53 - pc_concat - INFO - read pc from [Path('co/ds_can_coh/0.zarr'), Path('co/ds_can_coh/1.zarr'), Path('co/ds_can_coh/2.zarr'), Path('co/ds_can_coh/3.zarr'), Path('co/ds_can_coh/4.zarr'), Path('co/ds_can_coh/5.zarr')]\n",
      "2025-09-18 12:44:53 - darr_info - INFO - concatenated pc dask array shape, chunksize, dtype: (732727, 136), (732727, 1), complex64\n",
      "2025-09-18 12:44:53 - pc_concat - INFO - sort pc according to key\n",
      "2025-09-18 12:44:53 - darr_info - INFO - sorted pc dask array shape, chunksize, dtype: (732727, 136), (732727, 1), complex64\n",
      "2025-09-18 12:44:53 - pc_concat - INFO - save pc to ./co/ds_can_coh.zarr\n",
      "2025-09-18 12:44:54 - zarr_info - INFO - ./co/ds_can_coh.zarr zarray shape, chunks, dtype: (732727, 136), (100000, 1), complex64\n",
      "2025-09-18 12:44:54 - pc_concat - INFO - computing graph setted. doing all the computing.\n",
      "2025-09-18 12:44:59 - pc_concat - INFO - computing finished.|  5.2s\u001b[2K\n",
      "2025-09-18 12:44:59 - pc_concat - INFO - dask cluster closed.\n"
     ]
    }
   ],
   "source": [
    "chunks = zarr.open(ds_can_gix,mode='r').chunks[0]\n",
    "mc.pc_concat(ds_can_coh_dir,ds_can_coh,key=ds_can_key,chunks=chunks)"
   ]
  },
  {
   "cell_type": "code",
   "execution_count": null,
   "id": "c4132900-98ac-44ae-aa1e-565b67655064",
   "metadata": {},
   "outputs": [],
   "source": [
    "ds_can_coh_ave = './co/ds_can_coh_ave.zarr'"
   ]
  },
  {
   "cell_type": "code",
   "execution_count": null,
   "id": "c1343e81-d76c-4fbf-807d-63277720d5e8",
   "metadata": {},
   "outputs": [
    {
     "name": "stdout",
     "output_type": "stream",
     "text": [
      "2025-09-18 12:44:59 - log_args - INFO - running function: data_reduce\n",
      "2025-09-18 12:44:59 - log_args - INFO - fetching args:\n",
      "2025-09-18 12:44:59 - log_args - INFO - data_in = './co/ds_can_coh.zarr'\n",
      "2025-09-18 12:44:59 - log_args - INFO - out = './co/ds_can_coh_ave.zarr'\n",
      "2025-09-18 12:44:59 - log_args - INFO - map_func = <ufunc 'absolute'>\n",
      "2025-09-18 12:44:59 - log_args - INFO - reduce_func = <function sum>\n",
      "2025-09-18 12:44:59 - log_args - INFO - axis = 0\n",
      "2025-09-18 12:44:59 - log_args - INFO - post_map_func = <function <lambda>>\n",
      "2025-09-18 12:44:59 - log_args - INFO - processes = False\n",
      "2025-09-18 12:44:59 - log_args - INFO - n_workers = 1\n",
      "2025-09-18 12:44:59 - log_args - INFO - threads_per_worker = 1\n",
      "2025-09-18 12:44:59 - log_args - INFO - dask_cluster_arg = {}\n",
      "2025-09-18 12:44:59 - log_args - INFO - fetching args done.\n",
      "2025-09-18 12:44:59 - zarr_info - INFO - ./co/ds_can_coh.zarr zarray shape, chunks, dtype: (732727, 136), (100000, 1), complex64\n",
      "2025-09-18 12:44:59 - data_reduce - INFO - starting dask local cluster.\n",
      "2025-09-18 12:44:59 - data_reduce - INFO - dask local cluster started.\n",
      "2025-09-18 12:44:59 - dask_cluster_info - INFO - dask cluster: LocalCluster(dashboard_link='http://10.211.48.4:8787/status', workers=1, threads=1, memory=256.00 GiB)\n",
      "2025-09-18 12:44:59 - darr_info - INFO - data_in dask array shape, chunksize, dtype: (732727, 136), (100000, 1), complex64\n",
      "2025-09-18 12:44:59 - darr_info - INFO - maped_data_in dask array shape, chunksize, dtype: (732727, 136), (100000, 1), float32\n",
      "2025-09-18 12:44:59 - darr_info - INFO - reduced data in every chunk dask array shape, chunksize, dtype: (8, 136), (1, 1), float32\n",
      "2025-09-18 12:44:59 - data_reduce - INFO - computing graph setted. doing all the computing.\n",
      "2025-09-18 12:45:04 - data_reduce - INFO - computing finished. 4.4s\u001b[2K\n",
      "2025-09-18 12:45:04 - data_reduce - INFO - dask cluster closed.\n",
      "2025-09-18 12:45:04 - data_reduce - INFO - continue the reduction on reduced data over every chunk\n",
      "2025-09-18 12:45:04 - data_reduce - INFO - post mapping\n",
      "2025-09-18 12:45:04 - data_reduce - INFO - writing output.\n",
      "2025-09-18 12:45:04 - data_reduce - INFO - done.\n"
     ]
    }
   ],
   "source": [
    "n_point = zarr.open(ds_can_coh,mode='r').shape[0]\n",
    "mc.data_reduce(ds_can_coh,ds_can_coh_ave,map_func=np.abs,reduce_func=np.sum,post_map_func=lambda x: x/n_point)"
   ]
  },
  {
   "cell_type": "code",
   "execution_count": null,
   "id": "8091baaf-c00f-4f6b-aba3-8eba7423e8c4",
   "metadata": {},
   "outputs": [
    {
     "data": {
      "image/png": "[encoded data removed]",
      "text/plain": [
       "<Figure size 1500x1000 with 2 Axes>"
      ]
     },
     "metadata": {},
     "output_type": "display_data"
    }
   ],
   "source": [
    "ds_can_coh_ave_ = mr.uncompress_coh(zarr.open(ds_can_coh_ave,mode='r')[:])\n",
    "fig, ax = plt.subplots(1,1,figsize=(15,10))\n",
    "pcm = ax.imshow(ds_can_coh_ave_,cmap=colorcet.cm.fire)\n",
    "ax.set(title='Average coherence matrix',xlabel='Image Index',ylabel='Image Index')\n",
    "fig.colorbar(pcm)\n",
    "fig.show()"
   ]
  },
  {
   "cell_type": "code",
   "execution_count": null,
   "id": "f3e745d5-90a7-4ed1-a149-7bfdba7a5e49",
   "metadata": {},
   "outputs": [],
   "source": [
    "#| hide\n",
    "import nbdev; nbdev.nbdev_export()"
   ]
  },
  {
   "cell_type": "code",
   "execution_count": null,
   "id": "817aa92d-a076-4d5e-bb1b-2f6ce279d60e",
   "metadata": {},
   "outputs": [],
   "source": []
  }
 ],
 "metadata": {
  "kernelspec": {
   "display_name": "python3",
   "language": "python",
   "name": "python3"
  }
 },
 "nbformat": 4,
 "nbformat_minor": 5
}
