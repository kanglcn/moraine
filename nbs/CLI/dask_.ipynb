{
 "cells": [
  {
   "cell_type": "markdown",
   "id": "383ced29-021f-491e-9792-e498023ff3b9",
   "metadata": {},
   "source": [
    "# dask\n",
    "\n",
    "> Convenient functions for dask"
   ]
  },
  {
   "cell_type": "code",
   "execution_count": null,
   "id": "9b5cdd21-da19-4289-b383-434fa948b1f2",
   "metadata": {},
   "outputs": [],
   "source": [
    "#| default_exp cli/dask_"
   ]
  },
  {
   "cell_type": "code",
   "execution_count": null,
   "id": "3762b487-6263-4d1a-a61f-497295745465",
   "metadata": {},
   "outputs": [],
   "source": [
    "#| hide\n",
    "from nbdev.showdoc import *"
   ]
  },
  {
   "cell_type": "code",
   "execution_count": null,
   "id": "e20ae940-9198-4e59-a64e-99304c76f117",
   "metadata": {},
   "outputs": [],
   "source": [
    "#| export\n",
    "import math\n",
    "import itertools\n",
    "import concurrent\n",
    "import logging\n",
    "from pathlib import Path\n",
    "\n",
    "import numpy as np\n",
    "from dask import array as da\n",
    "from dask import delayed\n",
    "import zarr\n",
    "\n",
    "from moraine.chunk_ import fill_slice as _fill_slice\n",
    "from moraine.chunk_ import all_chunk_slices, all_chunk_slices_with_overlap\n",
    "from moraine.cli.logging import mc_logger_"
   ]
  },
  {
   "cell_type": "code",
   "execution_count": null,
   "id": "6cf037c4-ed2a-4601-bf4f-4f1f084ee1fe",
   "metadata": {},
   "outputs": [],
   "source": [
    "#| export\n",
    "def _one_chunk_slices_and_out_shape(data_zarr,slices):\n",
    "    '''divide input slices into slices of every zarr chunk\n",
    "    and return the shape of subdata to be reade'''\n",
    "    zarr_1chunk_slice = []\n",
    "    out_1chunk_slice = []\n",
    "    out_shape = []\n",
    "    for i in range(len(slices)):\n",
    "        chunk_size = data_zarr.chunks[i]\n",
    "        shape = data_zarr.shape[i]\n",
    "        zarr_slices = slices[i]\n",
    "        start = zarr_slices.start\n",
    "        stop = zarr_slices.stop\n",
    "        out_shape.append(stop-start)\n",
    "\n",
    "        start_ = math.floor(start/chunk_size)*chunk_size    \n",
    "        zarr_1dim_bound = np.arange(start_,stop+chunk_size,chunk_size)\n",
    "        zarr_1dim_bound[0] = start\n",
    "        if zarr_1dim_bound[-1] > stop: zarr_1dim_bound[-1] = stop\n",
    "        out_1dim_bound = zarr_1dim_bound-start\n",
    "\n",
    "        zarr_1chunk_1dim_slice = []\n",
    "        out_1chunk_1dim_slice = []\n",
    "        for j in range(zarr_1dim_bound.shape[0]-1):\n",
    "            zarr_1chunk_1dim_slice.append(slice(zarr_1dim_bound[j],zarr_1dim_bound[j+1]))\n",
    "            out_1chunk_1dim_slice.append(slice(out_1dim_bound[j],out_1dim_bound[j+1]))\n",
    "\n",
    "        zarr_1chunk_slice.append(zarr_1chunk_1dim_slice)\n",
    "        out_1chunk_slice.append(out_1chunk_1dim_slice)\n",
    "\n",
    "    zarr_1chunk_slice = list(itertools.product(*zarr_1chunk_slice))\n",
    "    out_1chunk_slice = list(itertools.product(*out_1chunk_slice))\n",
    "\n",
    "    return zarr_1chunk_slice, out_1chunk_slice, tuple(out_shape)"
   ]
  },
  {
   "cell_type": "code",
   "execution_count": null,
   "id": "ef67e093-ebb4-4132-8a28-9986b4cdbcdf",
   "metadata": {},
   "outputs": [],
   "source": [
    "#| export\n",
    "def _read_one_chunk(data_zarr,out,zarr_slices,out_slices):\n",
    "    out[out_slices] = data_zarr[zarr_slices]"
   ]
  },
  {
   "cell_type": "code",
   "execution_count": null,
   "id": "7c23ec0b-2a8a-4052-a30d-31fa2a83d22a",
   "metadata": {},
   "outputs": [],
   "source": [
    "#| export\n",
    "def parallel_read_zarr(data_zarr,slices,thread_pool_size=None,fill_slice=True):\n",
    "    if fill_slice:\n",
    "        slices = _fill_slice(data_zarr.shape,slices)\n",
    "    zarr_1chunk_slices, out_1chunk_slices, out_shape = \\\n",
    "    _one_chunk_slices_and_out_shape(data_zarr,slices)\n",
    "    # global out\n",
    "    out = np.empty(out_shape,dtype=data_zarr.dtype)\n",
    "\n",
    "    with concurrent.futures.ThreadPoolExecutor(thread_pool_size) as executor:\n",
    "        for zarr_1chunk_slice,out_1chunk_slice in zip(zarr_1chunk_slices,out_1chunk_slices):\n",
    "            future = executor.submit(_read_one_chunk,data_zarr,out,zarr_1chunk_slice,out_1chunk_slice)\n",
    "    return out"
   ]
  },
  {
   "cell_type": "code",
   "execution_count": null,
   "id": "ddca5a9f-e613-4c59-a288-9abf5157b9f0",
   "metadata": {},
   "outputs": [],
   "source": [
    "#| hide\n",
    "data = np.random.rand(13165,68467,4)\n",
    "data = data+1j*data\n",
    "data = data.astype(np.complex64)\n",
    "data_path = './dask_/data.zarr'\n",
    "data_zarr = zarr.open(data_path,mode='w',shape=data.shape,dtype=data.dtype,chunks=(50,68467,1))\n",
    "data_zarr[:] = data"
   ]
  },
  {
   "cell_type": "code",
   "execution_count": null,
   "id": "6fd0f9e7-ec15-4ecd-8da9-fec14b4cd79d",
   "metadata": {},
   "outputs": [],
   "source": [
    "rslc_path = '/users/kangl/work/insar_denoising/NorthDallas_34_105_2019_ascending/moraine/load_data/rslc.zarr/'\n",
    "rslc_zarr = zarr.open(rslc_path,mode='r')"
   ]
  },
  {
   "cell_type": "code",
   "execution_count": null,
   "id": "0d9ba291-1b75-4a9d-ae1f-4fccbfc9d873",
   "metadata": {},
   "outputs": [
    {
     "data": {
      "text/plain": [
       "(13165, 68467, 27)"
      ]
     },
     "execution_count": null,
     "metadata": {},
     "output_type": "execute_result"
    }
   ],
   "source": [
    "rslc_zarr.shape"
   ]
  },
  {
   "cell_type": "code",
   "execution_count": null,
   "id": "1906ecc7-9c85-46dc-91f7-53f33b0ba2c3",
   "metadata": {},
   "outputs": [
    {
     "data": {
      "text/plain": [
       "(50, 68467, 1)"
      ]
     },
     "execution_count": null,
     "metadata": {},
     "output_type": "execute_result"
    }
   ],
   "source": [
    "rslc_zarr.chunks"
   ]
  },
  {
   "cell_type": "code",
   "execution_count": null,
   "id": "4a8aec18-5456-4cfc-986b-c155c2faf34c",
   "metadata": {},
   "outputs": [],
   "source": [
    "data_path = './dask_/data.zarr'\n",
    "data_zarr = zarr.open(data_path,mode='r')"
   ]
  },
  {
   "cell_type": "code",
   "execution_count": null,
   "id": "b419ed7c-273e-436b-b996-d955ebe7761c",
   "metadata": {},
   "outputs": [
    {
     "name": "stdout",
     "output_type": "stream",
     "text": [
      "CPU times: user 18.8 s, sys: 5.84 s, total: 24.6 s\n",
      "Wall time: 1.69 s\n"
     ]
    }
   ],
   "source": [
    "%%time\n",
    "out = parallel_read_zarr(data_zarr,(slice(0,13165),slice(0,68467),slice(0,1)))"
   ]
  },
  {
   "cell_type": "code",
   "execution_count": null,
   "id": "8760e734-bd50-4e9a-85d6-1cb5be017fe7",
   "metadata": {},
   "outputs": [
    {
     "name": "stdout",
     "output_type": "stream",
     "text": [
      "CPU times: user 17 s, sys: 1.83 s, total: 18.8 s\n",
      "Wall time: 2.27 s\n"
     ]
    }
   ],
   "source": [
    "%%time\n",
    "out = data_zarr[:,:,0:1]"
   ]
  },
  {
   "cell_type": "code",
   "execution_count": null,
   "id": "17d347b3-b26e-4705-8de0-5403acbf9e23",
   "metadata": {},
   "outputs": [
    {
     "name": "stdout",
     "output_type": "stream",
     "text": [
      "CPU times: user 5.01 s, sys: 6.06 s, total: 11.1 s\n",
      "Wall time: 1.32 s\n"
     ]
    }
   ],
   "source": [
    "%%time\n",
    "out = parallel_read_zarr(rslc_zarr,(slice(0,13165),slice(0,68467),slice(0,1)))"
   ]
  },
  {
   "cell_type": "code",
   "execution_count": null,
   "id": "fca2c32a-2dc2-4337-b358-77ed45dc55ad",
   "metadata": {},
   "outputs": [
    {
     "name": "stdout",
     "output_type": "stream",
     "text": [
      "CPU times: user 3.36 s, sys: 2.4 s, total: 5.76 s\n",
      "Wall time: 1.49 s\n"
     ]
    }
   ],
   "source": [
    "%%time\n",
    "out = rslc_zarr[:,:,0:1]"
   ]
  },
  {
   "cell_type": "code",
   "execution_count": null,
   "id": "3f562540-2f07-45ca-8892-be72303bf77f",
   "metadata": {},
   "outputs": [],
   "source": [
    "# test with 128 core to see if parallel read really accelerate\n",
    "# in version 2, parallel_read takes 760 ms, directly read takes 3.5 s\n",
    "# 目前还是不是很清楚为什么升级到v3以后速度上有这些差异， \n",
    "# v2版本的数据为什么直接读取速度会比v3快？\n",
    "# 为什么parallel read 不会取得明显的加速效果？\n",
    "# 这些问题都需要等待zarr v3 稳定以后再说，包括plot 要不要用sharding，暂时先搁置"
   ]
  },
  {
   "cell_type": "code",
   "execution_count": null,
   "id": "04dc4fce-93dd-4751-b9da-0f98b6a9be6e",
   "metadata": {},
   "outputs": [],
   "source": [
    "np.testing.assert_array_equal(data_zarr[:,:,2:3],parallel_read_zarr(data_zarr,(slice(0,13165),slice(0,68467),slice(2,3))))"
   ]
  },
  {
   "cell_type": "code",
   "execution_count": null,
   "id": "afe89d10-1d3a-4dea-b7d2-c2a6acb27b4e",
   "metadata": {},
   "outputs": [],
   "source": [
    "np.testing.assert_array_equal(data_zarr[345:3845,299:29394,2:3],parallel_read_zarr(data_zarr,(slice(345,3845),slice(299,29394),slice(2,3))))"
   ]
  },
  {
   "cell_type": "code",
   "execution_count": null,
   "id": "0f17a8db-26a3-4a7d-bb4e-9f267f41f05e",
   "metadata": {},
   "outputs": [],
   "source": [
    "#| export\n",
    "def dask_from_zarr(\n",
    "    data_path:str,\n",
    "    parallel_dims:int|tuple=None,\n",
    "    chunks:tuple=None,\n",
    "):\n",
    "    # chunks provide more control of chunking compared with parallel_dims\n",
    "    data_zarr = zarr.open(data_path,mode='r')\n",
    "    if chunks is None: chunks = data_zarr.chunks\n",
    "    chunks = list(chunks)\n",
    "    if parallel_dims is not None:\n",
    "        if isinstance(parallel_dims,int):\n",
    "            parallel_dims = (parallel_dims,)\n",
    "\n",
    "        for pdim in parallel_dims:\n",
    "            chunks[pdim] = data_zarr.shape[pdim]\n",
    "    for i in range(len(chunks)):\n",
    "        if chunks[i] <0: chunks[i] = data_zarr.shape[i]\n",
    "    chunks = tuple(chunks)\n",
    "\n",
    "    slices = all_chunk_slices(data_zarr.shape,chunks)\n",
    "\n",
    "    _p_read_zarr_delayed = delayed(parallel_read_zarr,pure=True,nout=1)\n",
    "    out_delayed = np.empty(len(slices),dtype=object)\n",
    "    for i in range(len(slices)):\n",
    "        slices_i = _fill_slice(data_zarr.shape,slices[i])\n",
    "        out_delayed[i] = _p_read_zarr_delayed(data_zarr,slices_i,fill_slice=False)\n",
    "        shape = []\n",
    "        for slice_ in slices_i:\n",
    "            shape.append(slice_.stop-slice_.start)\n",
    "        shape = tuple(shape)\n",
    "        out_delayed[i] = da.from_delayed(out_delayed[i],shape=shape,dtype=data_zarr.dtype,meta=np.array((),dtype=data_zarr.dtype))\n",
    "\n",
    "    nchunks = [math.ceil(shape/chunk) for chunk, shape in zip(chunks,data_zarr.shape)]\n",
    "    out_delayed = out_delayed.reshape(tuple(nchunks))\n",
    "    data_darr = da.block(out_delayed.tolist())\n",
    "    return data_darr"
   ]
  },
  {
   "cell_type": "code",
   "execution_count": null,
   "id": "e54f064f-d3a7-4a8c-b92c-097b8bb075df",
   "metadata": {},
   "outputs": [
    {
     "data": {
      "text/html": [
       "<table>\n",
       "    <tr>\n",
       "        <td>\n",
       "            <table style=\"border-collapse: collapse;\">\n",
       "                <thead>\n",
       "                    <tr>\n",
       "                        <td> </td>\n",
       "                        <th> Array </th>\n",
       "                        <th> Chunk </th>\n",
       "                    </tr>\n",
       "                </thead>\n",
       "                <tbody>\n",
       "                    \n",
       "                    <tr>\n",
       "                        <th> Bytes </th>\n",
       "                        <td> 26.86 GiB </td>\n",
       "                        <td> 6.72 GiB </td>\n",
       "                    </tr>\n",
       "                    \n",
       "                    <tr>\n",
       "                        <th> Shape </th>\n",
       "                        <td> (13165, 68467, 4) </td>\n",
       "                        <td> (13165, 68467, 1) </td>\n",
       "                    </tr>\n",
       "                    <tr>\n",
       "                        <th> Dask graph </th>\n",
       "                        <td colspan=\"2\"> 4 chunks in 9 graph layers </td>\n",
       "                    </tr>\n",
       "                    <tr>\n",
       "                        <th> Data type </th>\n",
       "                        <td colspan=\"2\"> complex64 numpy.ndarray </td>\n",
       "                    </tr>\n",
       "                </tbody>\n",
       "            </table>\n",
       "        </td>\n",
       "        <td>\n",
       "        <svg width=\"110\" height=\"194\" style=\"stroke:rgb(0,0,0);stroke-width:1\" >\n",
       "\n",
       "  <!-- Horizontal lines -->\n",
       "  <line x1=\"10\" y1=\"0\" x2=\"34\" y2=\"24\" style=\"stroke-width:2\" />\n",
       "  <line x1=\"10\" y1=\"120\" x2=\"34\" y2=\"144\" style=\"stroke-width:2\" />\n",
       "\n",
       "  <!-- Vertical lines -->\n",
       "  <line x1=\"10\" y1=\"0\" x2=\"10\" y2=\"120\" style=\"stroke-width:2\" />\n",
       "  <line x1=\"34\" y1=\"24\" x2=\"34\" y2=\"144\" style=\"stroke-width:2\" />\n",
       "\n",
       "  <!-- Colored Rectangle -->\n",
       "  <polygon points=\"10.0,0.0 34.612889677608635,24.61288967760863 34.612889677608635,144.61288967760862 10.0,120.0\" style=\"fill:#ECB172A0;stroke-width:0\"/>\n",
       "\n",
       "  <!-- Horizontal lines -->\n",
       "  <line x1=\"10\" y1=\"0\" x2=\"35\" y2=\"0\" style=\"stroke-width:2\" />\n",
       "  <line x1=\"34\" y1=\"24\" x2=\"60\" y2=\"24\" style=\"stroke-width:2\" />\n",
       "\n",
       "  <!-- Vertical lines -->\n",
       "  <line x1=\"10\" y1=\"0\" x2=\"34\" y2=\"24\" style=\"stroke-width:2\" />\n",
       "  <line x1=\"16\" y1=\"0\" x2=\"40\" y2=\"24\" />\n",
       "  <line x1=\"22\" y1=\"0\" x2=\"47\" y2=\"24\" />\n",
       "  <line x1=\"29\" y1=\"0\" x2=\"53\" y2=\"24\" />\n",
       "  <line x1=\"35\" y1=\"0\" x2=\"60\" y2=\"24\" style=\"stroke-width:2\" />\n",
       "\n",
       "  <!-- Colored Rectangle -->\n",
       "  <polygon points=\"10.0,0.0 35.41261651458248,0.0 60.025506192191116,24.61288967760863 34.612889677608635,24.61288967760863\" style=\"fill:#ECB172A0;stroke-width:0\"/>\n",
       "\n",
       "  <!-- Horizontal lines -->\n",
       "  <line x1=\"34\" y1=\"24\" x2=\"60\" y2=\"24\" style=\"stroke-width:2\" />\n",
       "  <line x1=\"34\" y1=\"144\" x2=\"60\" y2=\"144\" style=\"stroke-width:2\" />\n",
       "\n",
       "  <!-- Vertical lines -->\n",
       "  <line x1=\"34\" y1=\"24\" x2=\"34\" y2=\"144\" style=\"stroke-width:2\" />\n",
       "  <line x1=\"40\" y1=\"24\" x2=\"40\" y2=\"144\" />\n",
       "  <line x1=\"47\" y1=\"24\" x2=\"47\" y2=\"144\" />\n",
       "  <line x1=\"53\" y1=\"24\" x2=\"53\" y2=\"144\" />\n",
       "  <line x1=\"60\" y1=\"24\" x2=\"60\" y2=\"144\" style=\"stroke-width:2\" />\n",
       "\n",
       "  <!-- Colored Rectangle -->\n",
       "  <polygon points=\"34.612889677608635,24.61288967760863 60.025506192191116,24.61288967760863 60.025506192191116,144.61288967760862 34.612889677608635,144.61288967760862\" style=\"fill:#ECB172A0;stroke-width:0\"/>\n",
       "\n",
       "  <!-- Text -->\n",
       "  <text x=\"47.319198\" y=\"164.612890\" font-size=\"1.0rem\" font-weight=\"100\" text-anchor=\"middle\" >4</text>\n",
       "  <text x=\"80.025506\" y=\"84.612890\" font-size=\"1.0rem\" font-weight=\"100\" text-anchor=\"middle\" transform=\"rotate(-90,80.025506,84.612890)\">68467</text>\n",
       "  <text x=\"12.306445\" y=\"152.306445\" font-size=\"1.0rem\" font-weight=\"100\" text-anchor=\"middle\" transform=\"rotate(45,12.306445,152.306445)\">13165</text>\n",
       "</svg>\n",
       "        </td>\n",
       "    </tr>\n",
       "</table>"
      ],
      "text/plain": [
       "dask.array<concatenate, shape=(13165, 68467, 4), dtype=complex64, chunksize=(13165, 68467, 1), chunktype=numpy.ndarray>"
      ]
     },
     "execution_count": null,
     "metadata": {},
     "output_type": "execute_result"
    }
   ],
   "source": [
    "data_darr = dask_from_zarr('dask_/data.zarr/',parallel_dims=(0,1))\n",
    "data_darr"
   ]
  },
  {
   "cell_type": "code",
   "execution_count": null,
   "id": "874113ac-08a9-436e-ad9c-2e8389c0a128",
   "metadata": {},
   "outputs": [
    {
     "data": {
      "image/png": "[encoded data removed]",
      "text/plain": [
       "<IPython.core.display.Image object>"
      ]
     },
     "execution_count": null,
     "metadata": {},
     "output_type": "execute_result"
    }
   ],
   "source": [
    "data_darr.visualize()"
   ]
  },
  {
   "cell_type": "code",
   "execution_count": null,
   "id": "322b71f2-212e-4b61-87d6-6e73ba5c68ec",
   "metadata": {},
   "outputs": [
    {
     "data": {
      "text/html": [
       "<table>\n",
       "    <tr>\n",
       "        <td>\n",
       "            <table style=\"border-collapse: collapse;\">\n",
       "                <thead>\n",
       "                    <tr>\n",
       "                        <td> </td>\n",
       "                        <th> Array </th>\n",
       "                        <th> Chunk </th>\n",
       "                    </tr>\n",
       "                </thead>\n",
       "                <tbody>\n",
       "                    \n",
       "                    <tr>\n",
       "                        <th> Bytes </th>\n",
       "                        <td> 594.67 MiB </td>\n",
       "                        <td> 7.63 MiB </td>\n",
       "                    </tr>\n",
       "                    \n",
       "                    <tr>\n",
       "                        <th> Shape </th>\n",
       "                        <td> (2500, 1834, 17) </td>\n",
       "                        <td> (1000, 1000, 1) </td>\n",
       "                    </tr>\n",
       "                    <tr>\n",
       "                        <th> Dask graph </th>\n",
       "                        <td colspan=\"2\"> 102 chunks in 214 graph layers </td>\n",
       "                    </tr>\n",
       "                    <tr>\n",
       "                        <th> Data type </th>\n",
       "                        <td colspan=\"2\"> complex64 numpy.ndarray </td>\n",
       "                    </tr>\n",
       "                </tbody>\n",
       "            </table>\n",
       "        </td>\n",
       "        <td>\n",
       "        <svg width=\"156\" height=\"208\" style=\"stroke:rgb(0,0,0);stroke-width:1\" >\n",
       "\n",
       "  <!-- Horizontal lines -->\n",
       "  <line x1=\"10\" y1=\"0\" x2=\"80\" y2=\"70\" style=\"stroke-width:2\" />\n",
       "  <line x1=\"10\" y1=\"48\" x2=\"80\" y2=\"118\" />\n",
       "  <line x1=\"10\" y1=\"88\" x2=\"80\" y2=\"158\" style=\"stroke-width:2\" />\n",
       "\n",
       "  <!-- Vertical lines -->\n",
       "  <line x1=\"10\" y1=\"0\" x2=\"10\" y2=\"88\" style=\"stroke-width:2\" />\n",
       "  <line x1=\"38\" y1=\"28\" x2=\"38\" y2=\"116\" />\n",
       "  <line x1=\"66\" y1=\"56\" x2=\"66\" y2=\"144\" />\n",
       "  <line x1=\"80\" y1=\"70\" x2=\"80\" y2=\"158\" style=\"stroke-width:2\" />\n",
       "\n",
       "  <!-- Colored Rectangle -->\n",
       "  <polygon points=\"10.0,0.0 80.58823529411765,70.58823529411765 80.58823529411765,158.62023529411766 10.0,88.032\" style=\"fill:#ECB172A0;stroke-width:0\"/>\n",
       "\n",
       "  <!-- Horizontal lines -->\n",
       "  <line x1=\"10\" y1=\"0\" x2=\"35\" y2=\"0\" style=\"stroke-width:2\" />\n",
       "  <line x1=\"38\" y1=\"28\" x2=\"63\" y2=\"28\" />\n",
       "  <line x1=\"66\" y1=\"56\" x2=\"91\" y2=\"56\" />\n",
       "  <line x1=\"80\" y1=\"70\" x2=\"106\" y2=\"70\" style=\"stroke-width:2\" />\n",
       "\n",
       "  <!-- Vertical lines -->\n",
       "  <line x1=\"10\" y1=\"0\" x2=\"80\" y2=\"70\" style=\"stroke-width:2\" />\n",
       "  <line x1=\"11\" y1=\"0\" x2=\"82\" y2=\"70\" />\n",
       "  <line x1=\"12\" y1=\"0\" x2=\"83\" y2=\"70\" />\n",
       "  <line x1=\"14\" y1=\"0\" x2=\"85\" y2=\"70\" />\n",
       "  <line x1=\"15\" y1=\"0\" x2=\"86\" y2=\"70\" />\n",
       "  <line x1=\"17\" y1=\"0\" x2=\"88\" y2=\"70\" />\n",
       "  <line x1=\"18\" y1=\"0\" x2=\"89\" y2=\"70\" />\n",
       "  <line x1=\"20\" y1=\"0\" x2=\"91\" y2=\"70\" />\n",
       "  <line x1=\"21\" y1=\"0\" x2=\"92\" y2=\"70\" />\n",
       "  <line x1=\"23\" y1=\"0\" x2=\"94\" y2=\"70\" />\n",
       "  <line x1=\"24\" y1=\"0\" x2=\"95\" y2=\"70\" />\n",
       "  <line x1=\"26\" y1=\"0\" x2=\"97\" y2=\"70\" />\n",
       "  <line x1=\"27\" y1=\"0\" x2=\"98\" y2=\"70\" />\n",
       "  <line x1=\"29\" y1=\"0\" x2=\"100\" y2=\"70\" />\n",
       "  <line x1=\"30\" y1=\"0\" x2=\"101\" y2=\"70\" />\n",
       "  <line x1=\"32\" y1=\"0\" x2=\"103\" y2=\"70\" />\n",
       "  <line x1=\"33\" y1=\"0\" x2=\"104\" y2=\"70\" />\n",
       "  <line x1=\"35\" y1=\"0\" x2=\"106\" y2=\"70\" style=\"stroke-width:2\" />\n",
       "\n",
       "  <!-- Colored Rectangle -->\n",
       "  <polygon points=\"10.0,0.0 35.41261651458248,0.0 106.00085180870013,70.58823529411765 80.58823529411765,70.58823529411765\" style=\"fill:#ECB172A0;stroke-width:0\"/>\n",
       "\n",
       "  <!-- Horizontal lines -->\n",
       "  <line x1=\"80\" y1=\"70\" x2=\"106\" y2=\"70\" style=\"stroke-width:2\" />\n",
       "  <line x1=\"80\" y1=\"118\" x2=\"106\" y2=\"118\" />\n",
       "  <line x1=\"80\" y1=\"158\" x2=\"106\" y2=\"158\" style=\"stroke-width:2\" />\n",
       "\n",
       "  <!-- Vertical lines -->\n",
       "  <line x1=\"80\" y1=\"70\" x2=\"80\" y2=\"158\" style=\"stroke-width:2\" />\n",
       "  <line x1=\"82\" y1=\"70\" x2=\"82\" y2=\"158\" />\n",
       "  <line x1=\"83\" y1=\"70\" x2=\"83\" y2=\"158\" />\n",
       "  <line x1=\"85\" y1=\"70\" x2=\"85\" y2=\"158\" />\n",
       "  <line x1=\"86\" y1=\"70\" x2=\"86\" y2=\"158\" />\n",
       "  <line x1=\"88\" y1=\"70\" x2=\"88\" y2=\"158\" />\n",
       "  <line x1=\"89\" y1=\"70\" x2=\"89\" y2=\"158\" />\n",
       "  <line x1=\"91\" y1=\"70\" x2=\"91\" y2=\"158\" />\n",
       "  <line x1=\"92\" y1=\"70\" x2=\"92\" y2=\"158\" />\n",
       "  <line x1=\"94\" y1=\"70\" x2=\"94\" y2=\"158\" />\n",
       "  <line x1=\"95\" y1=\"70\" x2=\"95\" y2=\"158\" />\n",
       "  <line x1=\"97\" y1=\"70\" x2=\"97\" y2=\"158\" />\n",
       "  <line x1=\"98\" y1=\"70\" x2=\"98\" y2=\"158\" />\n",
       "  <line x1=\"100\" y1=\"70\" x2=\"100\" y2=\"158\" />\n",
       "  <line x1=\"101\" y1=\"70\" x2=\"101\" y2=\"158\" />\n",
       "  <line x1=\"103\" y1=\"70\" x2=\"103\" y2=\"158\" />\n",
       "  <line x1=\"104\" y1=\"70\" x2=\"104\" y2=\"158\" />\n",
       "  <line x1=\"106\" y1=\"70\" x2=\"106\" y2=\"158\" style=\"stroke-width:2\" />\n",
       "\n",
       "  <!-- Colored Rectangle -->\n",
       "  <polygon points=\"80.58823529411765,70.58823529411765 106.00085180870013,70.58823529411765 106.00085180870013,158.62023529411766 80.58823529411765,158.62023529411766\" style=\"fill:#ECB172A0;stroke-width:0\"/>\n",
       "\n",
       "  <!-- Text -->\n",
       "  <text x=\"93.294544\" y=\"178.620235\" font-size=\"1.0rem\" font-weight=\"100\" text-anchor=\"middle\" >17</text>\n",
       "  <text x=\"126.000852\" y=\"114.604235\" font-size=\"1.0rem\" font-weight=\"100\" text-anchor=\"middle\" transform=\"rotate(-90,126.000852,114.604235)\">1834</text>\n",
       "  <text x=\"35.294118\" y=\"143.326118\" font-size=\"1.0rem\" font-weight=\"100\" text-anchor=\"middle\" transform=\"rotate(45,35.294118,143.326118)\">2500</text>\n",
       "</svg>\n",
       "        </td>\n",
       "    </tr>\n",
       "</table>"
      ],
      "text/plain": [
       "dask.array<concatenate, shape=(2500, 1834, 17), dtype=complex64, chunksize=(1000, 1000, 1), chunktype=numpy.ndarray>"
      ]
     },
     "execution_count": null,
     "metadata": {},
     "output_type": "execute_result"
    }
   ],
   "source": [
    "rslc_darr = dask_from_zarr('raw/rslc.zarr/',chunks=(1000,1000,1))\n",
    "rslc_darr"
   ]
  },
  {
   "cell_type": "code",
   "execution_count": null,
   "id": "97b0fcc8-9146-41a3-b2b8-c296ba131bea",
   "metadata": {},
   "outputs": [],
   "source": [
    "np.testing.assert_array_equal(rslc_darr.compute(),zarr.open('raw/rslc.zarr',mode='r')[:])"
   ]
  },
  {
   "cell_type": "code",
   "execution_count": null,
   "id": "02fd57d8-b76e-4d1d-abe7-10a4af032db7",
   "metadata": {},
   "outputs": [],
   "source": [
    "#| export\n",
    "def dask_from_zarr_overlap(\n",
    "    data_path:str,\n",
    "    chunks:tuple,\n",
    "    depth:tuple,\n",
    "):\n",
    "    # chunks provide more control of chunking compared with parallel_dims\n",
    "    data_zarr = zarr.open(data_path,mode='r')\n",
    "\n",
    "    chunks = list(chunks)\n",
    "    for i in range(len(chunks)):\n",
    "        if chunks[i] <0: chunks[i] = data_zarr.shape[i]\n",
    "    chunks = tuple(chunks)\n",
    "\n",
    "    slices = all_chunk_slices_with_overlap(data_zarr.shape,chunks,depth)\n",
    "\n",
    "    _p_read_zarr_delayed = delayed(parallel_read_zarr,pure=True,nout=1)\n",
    "    out_delayed = np.empty(len(slices),dtype=object)\n",
    "    for i in range(len(slices)):\n",
    "        slices_i = _fill_slice(data_zarr.shape,slices[i])\n",
    "        out_delayed[i] = _p_read_zarr_delayed(data_zarr,slices_i,fill_slice=False)\n",
    "        shape = []\n",
    "        for slice_ in slices_i:\n",
    "            shape.append(slice_.stop-slice_.start)\n",
    "        shape = tuple(shape)\n",
    "        out_delayed[i] = da.from_delayed(out_delayed[i],shape=shape,dtype=data_zarr.dtype,meta=np.array((),dtype=data_zarr.dtype))\n",
    "\n",
    "    nchunks = [math.ceil(shape/chunk) for chunk, shape in zip(chunks,data_zarr.shape)]\n",
    "    out_delayed = out_delayed.reshape(tuple(nchunks))\n",
    "    data_darr = da.block(out_delayed.tolist())\n",
    "    return data_darr"
   ]
  },
  {
   "cell_type": "code",
   "execution_count": null,
   "id": "a3a9b3b8-ff5b-422b-a4f1-63216c52e022",
   "metadata": {},
   "outputs": [
    {
     "data": {
      "text/html": [
       "<table>\n",
       "    <tr>\n",
       "        <td>\n",
       "            <table style=\"border-collapse: collapse;\">\n",
       "                <thead>\n",
       "                    <tr>\n",
       "                        <td> </td>\n",
       "                        <th> Array </th>\n",
       "                        <th> Chunk </th>\n",
       "                    </tr>\n",
       "                </thead>\n",
       "                <tbody>\n",
       "                    \n",
       "                    <tr>\n",
       "                        <th> Bytes </th>\n",
       "                        <td> 602.70 MiB </td>\n",
       "                        <td> 15.49 MiB </td>\n",
       "                    </tr>\n",
       "                    \n",
       "                    <tr>\n",
       "                        <th> Shape </th>\n",
       "                        <td> (2520, 1844, 17) </td>\n",
       "                        <td> (1010, 1005, 2) </td>\n",
       "                    </tr>\n",
       "                    <tr>\n",
       "                        <th> Dask graph </th>\n",
       "                        <td colspan=\"2\"> 54 chunks in 118 graph layers </td>\n",
       "                    </tr>\n",
       "                    <tr>\n",
       "                        <th> Data type </th>\n",
       "                        <td colspan=\"2\"> complex64 numpy.ndarray </td>\n",
       "                    </tr>\n",
       "                </tbody>\n",
       "            </table>\n",
       "        </td>\n",
       "        <td>\n",
       "        <svg width=\"156\" height=\"208\" style=\"stroke:rgb(0,0,0);stroke-width:1\" >\n",
       "\n",
       "  <!-- Horizontal lines -->\n",
       "  <line x1=\"10\" y1=\"0\" x2=\"80\" y2=\"70\" style=\"stroke-width:2\" />\n",
       "  <line x1=\"10\" y1=\"47\" x2=\"80\" y2=\"118\" />\n",
       "  <line x1=\"10\" y1=\"87\" x2=\"80\" y2=\"158\" style=\"stroke-width:2\" />\n",
       "\n",
       "  <!-- Vertical lines -->\n",
       "  <line x1=\"10\" y1=\"0\" x2=\"10\" y2=\"87\" style=\"stroke-width:2\" />\n",
       "  <line x1=\"38\" y1=\"28\" x2=\"38\" y2=\"115\" />\n",
       "  <line x1=\"66\" y1=\"56\" x2=\"66\" y2=\"144\" />\n",
       "  <line x1=\"80\" y1=\"70\" x2=\"80\" y2=\"158\" style=\"stroke-width:2\" />\n",
       "\n",
       "  <!-- Colored Rectangle -->\n",
       "  <polygon points=\"10.0,0.0 80.58823529411765,70.58823529411765 80.58823529411765,158.39775910364148 10.0,87.80952380952381\" style=\"fill:#ECB172A0;stroke-width:0\"/>\n",
       "\n",
       "  <!-- Horizontal lines -->\n",
       "  <line x1=\"10\" y1=\"0\" x2=\"35\" y2=\"0\" style=\"stroke-width:2\" />\n",
       "  <line x1=\"38\" y1=\"28\" x2=\"63\" y2=\"28\" />\n",
       "  <line x1=\"66\" y1=\"56\" x2=\"91\" y2=\"56\" />\n",
       "  <line x1=\"80\" y1=\"70\" x2=\"106\" y2=\"70\" style=\"stroke-width:2\" />\n",
       "\n",
       "  <!-- Vertical lines -->\n",
       "  <line x1=\"10\" y1=\"0\" x2=\"80\" y2=\"70\" style=\"stroke-width:2\" />\n",
       "  <line x1=\"12\" y1=\"0\" x2=\"83\" y2=\"70\" />\n",
       "  <line x1=\"15\" y1=\"0\" x2=\"86\" y2=\"70\" />\n",
       "  <line x1=\"18\" y1=\"0\" x2=\"89\" y2=\"70\" />\n",
       "  <line x1=\"21\" y1=\"0\" x2=\"92\" y2=\"70\" />\n",
       "  <line x1=\"24\" y1=\"0\" x2=\"95\" y2=\"70\" />\n",
       "  <line x1=\"27\" y1=\"0\" x2=\"98\" y2=\"70\" />\n",
       "  <line x1=\"30\" y1=\"0\" x2=\"101\" y2=\"70\" />\n",
       "  <line x1=\"33\" y1=\"0\" x2=\"104\" y2=\"70\" />\n",
       "  <line x1=\"35\" y1=\"0\" x2=\"106\" y2=\"70\" style=\"stroke-width:2\" />\n",
       "\n",
       "  <!-- Colored Rectangle -->\n",
       "  <polygon points=\"10.0,0.0 35.41261651458248,0.0 106.00085180870013,70.58823529411765 80.58823529411765,70.58823529411765\" style=\"fill:#ECB172A0;stroke-width:0\"/>\n",
       "\n",
       "  <!-- Horizontal lines -->\n",
       "  <line x1=\"80\" y1=\"70\" x2=\"106\" y2=\"70\" style=\"stroke-width:2\" />\n",
       "  <line x1=\"80\" y1=\"118\" x2=\"106\" y2=\"118\" />\n",
       "  <line x1=\"80\" y1=\"158\" x2=\"106\" y2=\"158\" style=\"stroke-width:2\" />\n",
       "\n",
       "  <!-- Vertical lines -->\n",
       "  <line x1=\"80\" y1=\"70\" x2=\"80\" y2=\"158\" style=\"stroke-width:2\" />\n",
       "  <line x1=\"83\" y1=\"70\" x2=\"83\" y2=\"158\" />\n",
       "  <line x1=\"86\" y1=\"70\" x2=\"86\" y2=\"158\" />\n",
       "  <line x1=\"89\" y1=\"70\" x2=\"89\" y2=\"158\" />\n",
       "  <line x1=\"92\" y1=\"70\" x2=\"92\" y2=\"158\" />\n",
       "  <line x1=\"95\" y1=\"70\" x2=\"95\" y2=\"158\" />\n",
       "  <line x1=\"98\" y1=\"70\" x2=\"98\" y2=\"158\" />\n",
       "  <line x1=\"101\" y1=\"70\" x2=\"101\" y2=\"158\" />\n",
       "  <line x1=\"104\" y1=\"70\" x2=\"104\" y2=\"158\" />\n",
       "  <line x1=\"106\" y1=\"70\" x2=\"106\" y2=\"158\" style=\"stroke-width:2\" />\n",
       "\n",
       "  <!-- Colored Rectangle -->\n",
       "  <polygon points=\"80.58823529411765,70.58823529411765 106.00085180870013,70.58823529411765 106.00085180870013,158.39775910364148 80.58823529411765,158.39775910364148\" style=\"fill:#ECB172A0;stroke-width:0\"/>\n",
       "\n",
       "  <!-- Text -->\n",
       "  <text x=\"93.294544\" y=\"178.397759\" font-size=\"1.0rem\" font-weight=\"100\" text-anchor=\"middle\" >17</text>\n",
       "  <text x=\"126.000852\" y=\"114.492997\" font-size=\"1.0rem\" font-weight=\"100\" text-anchor=\"middle\" transform=\"rotate(-90,126.000852,114.492997)\">1844</text>\n",
       "  <text x=\"35.294118\" y=\"143.103641\" font-size=\"1.0rem\" font-weight=\"100\" text-anchor=\"middle\" transform=\"rotate(45,35.294118,143.103641)\">2520</text>\n",
       "</svg>\n",
       "        </td>\n",
       "    </tr>\n",
       "</table>"
      ],
      "text/plain": [
       "dask.array<concatenate, shape=(2520, 1844, 17), dtype=complex64, chunksize=(1010, 1005, 2), chunktype=numpy.ndarray>"
      ]
     },
     "execution_count": null,
     "metadata": {},
     "output_type": "execute_result"
    }
   ],
   "source": [
    "rslc_darr = dask_from_zarr('raw/rslc.zarr/',chunks=(1000,1000,2))\n",
    "rslc_overlap_darr_ = da.overlap.overlap(rslc_darr,depth=(5,5,0),boundary = {0:'none',1:'none',2:'none'})\n",
    "rslc_overlap_darr = dask_from_zarr_overlap('raw/rslc.zarr/',chunks=(1000,1000,2),depth=(5,5,0))\n",
    "rslc_overlap_darr"
   ]
  },
  {
   "cell_type": "code",
   "execution_count": null,
   "id": "a44463bc-fb13-47ec-b56a-42710b615d4e",
   "metadata": {},
   "outputs": [],
   "source": [
    "np.testing.assert_array_equal(rslc_overlap_darr_.compute(),rslc_overlap_darr.compute())"
   ]
  },
  {
   "cell_type": "code",
   "execution_count": null,
   "id": "47f7bf02-d807-458f-a580-34290db51b23",
   "metadata": {},
   "outputs": [],
   "source": [
    "#| export\n",
    "#| hide\n",
    "class ZarrDir():\n",
    "    def __init__(self,zarr_path_list:list):\n",
    "        self.zarr_path_list = zarr_path_list\n",
    "        zarr0 = zarr.open(self.zarr_path_list[0])\n",
    "        self.chunksize = zarr0.chunks\n",
    "        self.ndim = zarr0.ndim\n",
    "        self.dtype = zarr0.dtype\n",
    "        \n",
    "        dim0_shape = 0\n",
    "        dim0_chunks = []\n",
    "        for zarr_path in self.zarr_path_list:\n",
    "            data_zarr = zarr.open(zarr_path,mode='r')\n",
    "            assert data_zarr.chunks[0] == data_zarr.shape[0]\n",
    "            assert data_zarr.chunks[1:] == (1,)*(data_zarr.ndim-1)\n",
    "            dim0_shape += data_zarr.shape[0]\n",
    "            dim0_chunks.append(data_zarr.chunks[0])\n",
    "        self.shape = (dim0_shape,*zarr0.shape[1:])\n",
    "        self.dim0_chunks = tuple(dim0_chunks)\n",
    "\n",
    "    @classmethod\n",
    "    def from_dir(cls,zarr_dir):\n",
    "        zarr_dir = Path(zarr_dir)\n",
    "        zarr_path_list = sorted(zarr_dir.glob('*.zarr'),key=lambda path: int(path.stem)) # if one chunk is missing, it is ok\n",
    "        return cls(zarr_path_list)"
   ]
  },
  {
   "cell_type": "code",
   "execution_count": null,
   "id": "71c7bfd1-215f-4b58-8866-54be38ff9993",
   "metadata": {},
   "outputs": [],
   "source": [
    "#| export\n",
    "#| hide\n",
    "def _parallel_read_pc_dir(\n",
    "    zarr_dir, # zarr_dir object\n",
    "    idx, # index for dim 1,2,...\n",
    "    thread_pool_size=None):\n",
    "    # global out\n",
    "    if isinstance(idx,int):\n",
    "        idx = (idx,)\n",
    "    out = np.empty(zarr_dir.shape[0],dtype=zarr_dir.dtype)\n",
    "    out_slices = []\n",
    "    start = 0\n",
    "    for chunk in zarr_dir.dim0_chunks:\n",
    "        end = start+chunk\n",
    "        out_slices.append(slice(start,end))\n",
    "        start = end\n",
    "\n",
    "    def _read_one_zarr_one_chunk(zarr_path,out,idx,out_slice):\n",
    "        data_zarr = zarr.open(zarr_path,mode='r')\n",
    "        idx = (slice(None),*idx)\n",
    "        out[out_slice] = data_zarr[idx]\n",
    "\n",
    "    with concurrent.futures.ThreadPoolExecutor(thread_pool_size) as executor:\n",
    "        for zarr_path,out_slice in zip(zarr_dir.zarr_path_list,out_slices):\n",
    "            future = executor.submit(_read_one_zarr_one_chunk,zarr_path,out,idx,out_slice)\n",
    "    return out"
   ]
  },
  {
   "cell_type": "code",
   "execution_count": null,
   "id": "0e1f0220-8c81-4b4a-923e-f6473b2af697",
   "metadata": {},
   "outputs": [],
   "source": [
    "pc_data1 = np.random.rand(32,10).astype(np.float32)\n",
    "pc_data2 = np.random.rand(64,10).astype(np.float32)\n",
    "\n",
    "pc_zarr1 = zarr.open('dask_/pc/1.zarr',mode='w',shape=pc_data1.shape,dtype=pc_data1.dtype,chunks=(32,1))\n",
    "pc_zarr2 = zarr.open('dask_/pc/2.zarr',mode='w',shape=pc_data2.shape,dtype=pc_data2.dtype,chunks=(64,1))\n",
    "pc_zarr1[:] = pc_data1\n",
    "pc_zarr2[:] = pc_data2"
   ]
  },
  {
   "cell_type": "code",
   "execution_count": null,
   "id": "8f5074a8-b555-4dcb-95c3-f49925bda9ca",
   "metadata": {},
   "outputs": [],
   "source": [
    "zarr_dir = ZarrDir.from_dir('dask_/pc')\n",
    "np.testing.assert_array_equal(np.concatenate((pc_data1,pc_data2),axis=0)[:,2],_parallel_read_pc_dir(zarr_dir,2))"
   ]
  },
  {
   "cell_type": "code",
   "execution_count": null,
   "id": "a42b257a-a78e-4c32-a93a-58275310c615",
   "metadata": {},
   "outputs": [],
   "source": [
    "#| export\n",
    "#| hide\n",
    "def _dask_from_pc_zarr_dir(zarrs):\n",
    "    if isinstance(zarrs,list):\n",
    "        zarr_dir = ZarrDir(zarrs)\n",
    "    else:\n",
    "        zarr_dir = ZarrDir.from_dir(zarrs)\n",
    "    out_shape = zarr_dir.shape[1:]\n",
    "    out_chunk_shape = (1,)*(zarr_dir.ndim-1)\n",
    "    out_delayed = np.empty((1,*out_shape),dtype=object)\n",
    "    parallel_read_delayed = delayed(_parallel_read_pc_dir,pure=True,nout=1)\n",
    "    with np.nditer(out_delayed,flags=['multi_index','refs_ok'], op_flags=['readwrite']) as arr_it:\n",
    "        for arr_block in arr_it:\n",
    "            idx = arr_it.multi_index\n",
    "            out_delayed[idx] = parallel_read_delayed(zarr_dir,idx[1:])\n",
    "            out_delayed[idx] = da.from_delayed(out_delayed[idx],shape=(zarr_dir.shape[0],),meta=np.array((),dtype=zarr_dir.dtype))\n",
    "            out_delayed[idx] = out_delayed[idx].reshape((zarr_dir.shape[0],*out_chunk_shape))\n",
    "    return da.block(out_delayed.tolist())"
   ]
  },
  {
   "cell_type": "code",
   "execution_count": null,
   "id": "efa28331-2dbe-4efb-953e-abcad262b2f1",
   "metadata": {},
   "outputs": [],
   "source": [
    "pc_darr = _dask_from_pc_zarr_dir('dask_/pc')\n",
    "np.testing.assert_array_equal(np.concatenate((pc_data1,pc_data2),axis=0),pc_darr.compute())"
   ]
  },
  {
   "cell_type": "code",
   "execution_count": null,
   "id": "42b8e4a5-5d2e-4a85-974c-dc651f0e6ecc",
   "metadata": {},
   "outputs": [],
   "source": [
    "#| export\n",
    "def _write_one_chunk(data_zarr,data,zarr_slices,data_slices):\n",
    "    data_zarr[zarr_slices] = data[data_slices]"
   ]
  },
  {
   "cell_type": "code",
   "execution_count": null,
   "id": "110166a7-9149-40e4-83d1-8c8a5a97decf",
   "metadata": {},
   "outputs": [],
   "source": [
    "#| export\n",
    "def parallel_write_zarr(data,data_zarr,slices,thread_pool_size=None,fill_slice=True):\n",
    "    if fill_slice:\n",
    "        slices = _fill_slice(data_zarr.shape,slices)\n",
    "    zarr_1chunk_slices, data_1chunk_slices = \\\n",
    "    _one_chunk_slices_and_out_shape(data_zarr,slices)[:2]\n",
    "\n",
    "    with concurrent.futures.ThreadPoolExecutor(thread_pool_size) as executor:\n",
    "        for zarr_1chunk_slice,data_1chunk_slice in zip(zarr_1chunk_slices,data_1chunk_slices):\n",
    "            future = executor.submit(_write_one_chunk,data_zarr,data,zarr_1chunk_slice,data_1chunk_slice)"
   ]
  },
  {
   "cell_type": "code",
   "execution_count": null,
   "id": "817d102b-fe59-4dc3-8a08-cb10f3281a7d",
   "metadata": {},
   "outputs": [],
   "source": [
    "out_rslc_path = './dask_/rslc.zarr'\n",
    "#rslc_path = './dask_/data.zarr/'\n",
    "rslc_path = '/users/kangl/work/insar_denoising/NorthDallas_34_105_2019_ascending/moraine/load_data/rslc.zarr/'\n",
    "rslc_zarr = zarr.open(rslc_path,mode='r')\n",
    "one_rslc = rslc_zarr[slice(0,13165),slice(0,68467),slice(0,1)]"
   ]
  },
  {
   "cell_type": "code",
   "execution_count": null,
   "id": "198f1b8a-c8f1-4e6e-a68b-ce5ad296ba53",
   "metadata": {},
   "outputs": [],
   "source": [
    "out_rslc_zarr = zarr.open(out_rslc_path,mode='w',shape=rslc_zarr.shape,dtype=rslc_zarr.dtype,chunks=rslc_zarr.chunks)"
   ]
  },
  {
   "cell_type": "code",
   "execution_count": null,
   "id": "82777e69-c415-40d4-9b1c-179cdab93035",
   "metadata": {},
   "outputs": [
    {
     "name": "stdout",
     "output_type": "stream",
     "text": [
      "CPU times: user 10.8 s, sys: 4.69 s, total: 15.5 s\n",
      "Wall time: 2.06 s\n"
     ]
    }
   ],
   "source": [
    "%%time\n",
    "out_rslc_zarr[slice(0,13165),slice(0,68467),slice(0,1)] = one_rslc"
   ]
  },
  {
   "cell_type": "code",
   "execution_count": null,
   "id": "e231ba6b-a487-48ba-a973-5619366341fc",
   "metadata": {},
   "outputs": [
    {
     "name": "stdout",
     "output_type": "stream",
     "text": [
      "CPU times: user 11.2 s, sys: 11.1 s, total: 22.4 s\n",
      "Wall time: 1.81 s\n"
     ]
    }
   ],
   "source": [
    "%%time\n",
    "parallel_write_zarr(one_rslc,out_rslc_zarr,(slice(0,13165),slice(0,68467),slice(0,1)))"
   ]
  },
  {
   "cell_type": "code",
   "execution_count": null,
   "id": "839d8ea1-a560-4096-bcb3-8278d0068322",
   "metadata": {},
   "outputs": [],
   "source": [
    "# also test here\n",
    "# 但是现在看起来用不用parallel对于速度没啥大的影响"
   ]
  },
  {
   "cell_type": "code",
   "execution_count": null,
   "id": "7a1d22e8-d748-4f53-ae9e-39263b5301c9",
   "metadata": {},
   "outputs": [],
   "source": [
    "#| export\n",
    "def _all_chunk_slices_except_pdims(data_zarr, pdims):\n",
    "    out_slices = []\n",
    "    for i in range(data_zarr.ndim):\n",
    "        if i in pdims:\n",
    "            slice_1dim = [slice(None)]\n",
    "        else:\n",
    "            shape = data_zarr.shape[i]\n",
    "            chunk = data_zarr.chunks[i]\n",
    "            if chunk <0: chunk=shape\n",
    "\n",
    "            bound_1dim = np.arange(0,shape+chunk,chunk)\n",
    "            if bound_1dim[-1] > shape: bound_1dim[-1] = shape\n",
    "\n",
    "            slice_1dim = []\n",
    "            for j in range(bound_1dim.shape[0]-1):\n",
    "                slice_1dim.append(slice(bound_1dim[j],bound_1dim[j+1]))\n",
    "        out_slices.append(slice_1dim)\n",
    "    out_slices = list(itertools.product(*out_slices))\n",
    "    return out_slices"
   ]
  },
  {
   "cell_type": "code",
   "execution_count": null,
   "id": "d06f7c5d-ce74-4a85-a2d2-180a6aca7213",
   "metadata": {},
   "outputs": [],
   "source": [
    "#| export\n",
    "@mc_logger_\n",
    "def dask_to_zarr(data_darr,url,chunks,path=None,log_zarr=True):\n",
    "    logger = logging.getLogger(__name__)\n",
    "    if isinstance(url, zarr.Array):\n",
    "        data_zarr = url\n",
    "        if log_zarr:\n",
    "            logger.zarr_info(path,data_zarr)\n",
    "    else:\n",
    "        data_zarr = zarr.open(url,mode='w',shape=data_darr.shape,dtype=data_darr.dtype,chunks=chunks)\n",
    "        if log_zarr:\n",
    "            logger.zarr_info(url,data_zarr)\n",
    "    pdims = []\n",
    "    for i in range(data_darr.ndim):\n",
    "        if data_darr.chunksize[i] != data_zarr.chunks[i]:\n",
    "            assert data_darr.chunksize[i] == data_darr.shape[i], \"dask array is not properly rechunked.\"\n",
    "            pdims.append(i)\n",
    "    pdims = tuple(pdims)\n",
    "    slices = _all_chunk_slices_except_pdims(data_zarr,pdims)\n",
    "    n_slices = len(slices)\n",
    "\n",
    "    _p_write_zarr_delayed = delayed(parallel_write_zarr,pure=True,nout=0)\n",
    "    out_delayed = np.empty(n_slices,dtype=object)\n",
    "    data_darr_delayed = data_darr.to_delayed()\n",
    "    data_darr_delayed = data_darr_delayed.reshape(n_slices)\n",
    "    for i in range(n_slices):\n",
    "        slices_i = _fill_slice(data_zarr.shape,slices[i])\n",
    "        out_delayed[i] = _p_write_zarr_delayed(data_darr_delayed[i],data_zarr,slices_i,fill_slice=False)\n",
    "        out_delayed[i] = da.from_delayed(out_delayed[i],shape=(1,),dtype=int)\n",
    "\n",
    "    return da.block(out_delayed.tolist())"
   ]
  },
  {
   "cell_type": "code",
   "execution_count": null,
   "id": "a7e26831-d0d4-409d-94a6-c86e588c26ab",
   "metadata": {},
   "outputs": [],
   "source": [
    "rslc_darr = dask_from_zarr('raw/rslc.zarr/',parallel_dims=(1,2))"
   ]
  },
  {
   "cell_type": "code",
   "execution_count": null,
   "id": "9fcb0646-774c-4dbb-8767-34f97a4e9e3a",
   "metadata": {},
   "outputs": [],
   "source": [
    "rslc_darr = rslc_darr.persist()"
   ]
  },
  {
   "cell_type": "code",
   "execution_count": null,
   "id": "6973e406-e719-4f21-aecc-36db60bbc36b",
   "metadata": {},
   "outputs": [
    {
     "data": {
      "image/png": "[encoded data removed]",
      "text/plain": [
       "<IPython.core.display.Image object>"
      ]
     },
     "execution_count": null,
     "metadata": {},
     "output_type": "execute_result"
    }
   ],
   "source": [
    "rslc_darr.visualize()"
   ]
  },
  {
   "cell_type": "code",
   "execution_count": null,
   "id": "f99c4aee-407f-4951-a2b7-05f9672d73fe",
   "metadata": {},
   "outputs": [
    {
     "data": {
      "text/html": [
       "<table>\n",
       "    <tr>\n",
       "        <td>\n",
       "            <table style=\"border-collapse: collapse;\">\n",
       "                <thead>\n",
       "                    <tr>\n",
       "                        <td> </td>\n",
       "                        <th> Array </th>\n",
       "                        <th> Chunk </th>\n",
       "                    </tr>\n",
       "                </thead>\n",
       "                <tbody>\n",
       "                    \n",
       "                    <tr>\n",
       "                        <th> Bytes </th>\n",
       "                        <td> 594.67 MiB </td>\n",
       "                        <td> 237.87 MiB </td>\n",
       "                    </tr>\n",
       "                    \n",
       "                    <tr>\n",
       "                        <th> Shape </th>\n",
       "                        <td> (2500, 1834, 17) </td>\n",
       "                        <td> (1000, 1834, 17) </td>\n",
       "                    </tr>\n",
       "                    <tr>\n",
       "                        <th> Dask graph </th>\n",
       "                        <td colspan=\"2\"> 3 chunks in 1 graph layer </td>\n",
       "                    </tr>\n",
       "                    <tr>\n",
       "                        <th> Data type </th>\n",
       "                        <td colspan=\"2\"> complex64 numpy.ndarray </td>\n",
       "                    </tr>\n",
       "                </tbody>\n",
       "            </table>\n",
       "        </td>\n",
       "        <td>\n",
       "        <svg width=\"156\" height=\"208\" style=\"stroke:rgb(0,0,0);stroke-width:1\" >\n",
       "\n",
       "  <!-- Horizontal lines -->\n",
       "  <line x1=\"10\" y1=\"0\" x2=\"80\" y2=\"70\" style=\"stroke-width:2\" />\n",
       "  <line x1=\"10\" y1=\"88\" x2=\"80\" y2=\"158\" style=\"stroke-width:2\" />\n",
       "\n",
       "  <!-- Vertical lines -->\n",
       "  <line x1=\"10\" y1=\"0\" x2=\"10\" y2=\"88\" style=\"stroke-width:2\" />\n",
       "  <line x1=\"38\" y1=\"28\" x2=\"38\" y2=\"116\" />\n",
       "  <line x1=\"66\" y1=\"56\" x2=\"66\" y2=\"144\" />\n",
       "  <line x1=\"80\" y1=\"70\" x2=\"80\" y2=\"158\" style=\"stroke-width:2\" />\n",
       "\n",
       "  <!-- Colored Rectangle -->\n",
       "  <polygon points=\"10.0,0.0 80.58823529411765,70.58823529411765 80.58823529411765,158.62023529411766 10.0,88.032\" style=\"fill:#ECB172A0;stroke-width:0\"/>\n",
       "\n",
       "  <!-- Horizontal lines -->\n",
       "  <line x1=\"10\" y1=\"0\" x2=\"35\" y2=\"0\" style=\"stroke-width:2\" />\n",
       "  <line x1=\"38\" y1=\"28\" x2=\"63\" y2=\"28\" />\n",
       "  <line x1=\"66\" y1=\"56\" x2=\"91\" y2=\"56\" />\n",
       "  <line x1=\"80\" y1=\"70\" x2=\"106\" y2=\"70\" style=\"stroke-width:2\" />\n",
       "\n",
       "  <!-- Vertical lines -->\n",
       "  <line x1=\"10\" y1=\"0\" x2=\"80\" y2=\"70\" style=\"stroke-width:2\" />\n",
       "  <line x1=\"35\" y1=\"0\" x2=\"106\" y2=\"70\" style=\"stroke-width:2\" />\n",
       "\n",
       "  <!-- Colored Rectangle -->\n",
       "  <polygon points=\"10.0,0.0 35.41261651458248,0.0 106.00085180870013,70.58823529411765 80.58823529411765,70.58823529411765\" style=\"fill:#ECB172A0;stroke-width:0\"/>\n",
       "\n",
       "  <!-- Horizontal lines -->\n",
       "  <line x1=\"80\" y1=\"70\" x2=\"106\" y2=\"70\" style=\"stroke-width:2\" />\n",
       "  <line x1=\"80\" y1=\"158\" x2=\"106\" y2=\"158\" style=\"stroke-width:2\" />\n",
       "\n",
       "  <!-- Vertical lines -->\n",
       "  <line x1=\"80\" y1=\"70\" x2=\"80\" y2=\"158\" style=\"stroke-width:2\" />\n",
       "  <line x1=\"106\" y1=\"70\" x2=\"106\" y2=\"158\" style=\"stroke-width:2\" />\n",
       "\n",
       "  <!-- Colored Rectangle -->\n",
       "  <polygon points=\"80.58823529411765,70.58823529411765 106.00085180870013,70.58823529411765 106.00085180870013,158.62023529411766 80.58823529411765,158.62023529411766\" style=\"fill:#ECB172A0;stroke-width:0\"/>\n",
       "\n",
       "  <!-- Text -->\n",
       "  <text x=\"93.294544\" y=\"178.620235\" font-size=\"1.0rem\" font-weight=\"100\" text-anchor=\"middle\" >17</text>\n",
       "  <text x=\"126.000852\" y=\"114.604235\" font-size=\"1.0rem\" font-weight=\"100\" text-anchor=\"middle\" transform=\"rotate(-90,126.000852,114.604235)\">1834</text>\n",
       "  <text x=\"35.294118\" y=\"143.326118\" font-size=\"1.0rem\" font-weight=\"100\" text-anchor=\"middle\" transform=\"rotate(45,35.294118,143.326118)\">2500</text>\n",
       "</svg>\n",
       "        </td>\n",
       "    </tr>\n",
       "</table>"
      ],
      "text/plain": [
       "dask.array<concatenate, shape=(2500, 1834, 17), dtype=complex64, chunksize=(1000, 1834, 17), chunktype=numpy.ndarray>"
      ]
     },
     "execution_count": null,
     "metadata": {},
     "output_type": "execute_result"
    }
   ],
   "source": [
    "rslc_darr"
   ]
  },
  {
   "cell_type": "code",
   "execution_count": null,
   "id": "bf21773b-d449-47e3-87b0-0eda22f11e7c",
   "metadata": {},
   "outputs": [],
   "source": [
    "out_delayed = dask_to_zarr(rslc_darr,'./dask_/rslc.zarr/',chunks=(rslc_darr.chunksize[0],rslc_darr.shape[1],1))"
   ]
  },
  {
   "cell_type": "code",
   "execution_count": null,
   "id": "4568a693-c880-4aa0-b0c3-3fbfca84f2a9",
   "metadata": {},
   "outputs": [
    {
     "data": {
      "text/plain": [
       "(array([], dtype=float64),)"
      ]
     },
     "execution_count": null,
     "metadata": {},
     "output_type": "execute_result"
    }
   ],
   "source": [
    "da.compute(out_delayed)"
   ]
  },
  {
   "cell_type": "code",
   "execution_count": null,
   "id": "d635788d-c449-422f-9fe1-ba5de3615ca7",
   "metadata": {},
   "outputs": [],
   "source": [
    "np.testing.assert_array_equal(zarr.open('./dask_/rslc.zarr',mode='r')[:], zarr.open('./raw/rslc.zarr',mode='r')[:])"
   ]
  },
  {
   "cell_type": "code",
   "execution_count": null,
   "id": "ce82e557-133d-43bd-a9c5-2f48a68b0021",
   "metadata": {},
   "outputs": [],
   "source": [
    "#| hide\n",
    "import nbdev; nbdev.nbdev_export()"
   ]
  },
  {
   "cell_type": "code",
   "execution_count": null,
   "id": "d15d9d1c-fc7a-4721-82dd-5db8417b9d72",
   "metadata": {},
   "outputs": [],
   "source": []
  }
 ],
 "metadata": {
  "kernelspec": {
   "display_name": "python3",
   "language": "python",
   "name": "python3"
  }
 },
 "nbformat": 4,
 "nbformat_minor": 5
}
