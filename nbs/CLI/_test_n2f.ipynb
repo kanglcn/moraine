{
 "cells": [
  {
   "cell_type": "code",
   "execution_count": null,
   "id": "212eda0a-a2b1-40df-9e68-c9a6e8949a33",
   "metadata": {},
   "outputs": [],
   "source": [
    "import moraine as mr\n",
    "import moraine.cli as mc\n",
    "import numpy as np\n",
    "import zarr"
   ]
  },
  {
   "cell_type": "code",
   "execution_count": null,
   "id": "ecf88036-edeb-47cc-aeb8-0c8c70c9080f",
   "metadata": {},
   "outputs": [],
   "source": [
    "logger = mc.get_logger()"
   ]
  },
  {
   "cell_type": "code",
   "execution_count": null,
   "id": "ca9b0fb5-3f91-4eb0-a5c7-3c9375f3f93f",
   "metadata": {},
   "outputs": [],
   "source": [
    "rslc = './raw/rslc.zarr/'\n",
    "intf = './dl/n2f_intf.zarr'\n",
    "tnet_path = './dl/tnet.zarr'"
   ]
  },
  {
   "cell_type": "code",
   "execution_count": null,
   "id": "e6c88c28-96be-4def-9fd1-61b001181355",
   "metadata": {},
   "outputs": [],
   "source": [
    "rslc_zarr = zarr.open(rslc,mode='r')\n",
    "tnet = mr.TempNet.from_bandwidth(rslc_zarr.shape[-1], 1)\n",
    "tnet.save(tnet_path)"
   ]
  },
  {
   "cell_type": "code",
   "execution_count": null,
   "id": "19e0fb8b-f05a-4945-9a97-8738642b8725",
   "metadata": {},
   "outputs": [
    {
     "name": "stdout",
     "output_type": "stream",
     "text": [
      "2025-09-18 12:54:41 - log_args - INFO - running function: n2f\n",
      "2025-09-18 12:54:41 - log_args - INFO - fetching args:\n",
      "2025-09-18 12:54:41 - log_args - INFO - rslc = './raw/rslc.zarr/'\n",
      "2025-09-18 12:54:41 - log_args - INFO - intf = './dl/n2f_intf.zarr'\n",
      "2025-09-18 12:54:41 - log_args - INFO - tnet = './dl/tnet.zarr'\n",
      "2025-09-18 12:54:41 - log_args - INFO - chunks = (2500, 1834)\n",
      "2025-09-18 12:54:41 - log_args - INFO - out_chunks = None\n",
      "2025-09-18 12:54:41 - log_args - INFO - depths = (0, 0)\n",
      "2025-09-18 12:54:41 - log_args - INFO - model = None\n",
      "2025-09-18 12:54:41 - log_args - INFO - cuda = True\n",
      "2025-09-18 12:54:41 - log_args - INFO - processes = None\n",
      "2025-09-18 12:54:41 - log_args - INFO - n_workers = None\n",
      "2025-09-18 12:54:41 - log_args - INFO - threads_per_worker = None\n",
      "2025-09-18 12:54:41 - log_args - INFO - rmm_pool_size = 0.5\n",
      "2025-09-18 12:54:41 - log_args - INFO - dask_cluster_arg = {}\n",
      "2025-09-18 12:54:41 - log_args - INFO - fetching args done.\n",
      "2025-09-18 12:54:41 - zarr_info - INFO - ./raw/rslc.zarr/ zarray shape, chunks, dtype: (2500, 1834, 17), (1000, 1000, 1), complex64\n",
      "2025-09-18 12:54:41 - n2f - INFO - processing azimuth chunk size: 2500\n",
      "2025-09-18 12:54:41 - n2f - INFO - processing range chunk size: 1834\n",
      "2025-09-18 12:54:41 - n2f - INFO - starting dask cluster.\n"
     ]
    },
    {
     "name": "stderr",
     "output_type": "stream",
     "text": [
      "2025-09-18 12:54:45,159 - distributed.worker - WARNING - Setting CPU affinity for GPU failed. Please refer to the following link for troubleshooting information: https://docs.rapids.ai/api/dask-cuda/nightly/troubleshooting/#setting-cpu-affinity-failure\n"
     ]
    },
    {
     "name": "stdout",
     "output_type": "stream",
     "text": [
      "2025-09-18 12:54:45 - n2f - INFO - dask cluster started.\n",
      "2025-09-18 12:54:45 - dask_cluster_info - INFO - dask cluster: LocalCUDACluster(dashboard_link='http://127.0.0.1:8787/status', workers=2, threads=2, memory=256.00 GiB)\n",
      "2025-09-18 12:54:45 - darr_info - INFO - rslc dask array shape, chunksize, dtype: (2500, 1834, 17), (2500, 1834, 1), complex64\n",
      "2025-09-18 12:54:45 - n2f - INFO - got filtered interferograms.\n",
      "2025-09-18 12:54:45 - darr_info - INFO - intf dask array shape, chunksize, dtype: (2500, 1834, 16), (2500, 1834, 1), complex64\n",
      "2025-09-18 12:54:45 - n2f - INFO - saving filtered interferograms.\n",
      "2025-09-18 12:54:45 - zarr_info - INFO - ./dl/n2f_intf.zarr zarray shape, chunks, dtype: (2500, 1834, 16), (1000, 1000, 1), complex64\n",
      "2025-09-18 12:54:45 - n2f - INFO - computing graph setted. doing all the computing.\n",
      "[                                        ] | 0% Completed |  0.0s"
     ]
    },
    {
     "name": "stderr",
     "output_type": "stream",
     "text": [
      "2025-09-18 12:54:45,596 - distributed.worker - WARNING - Setting CPU affinity for GPU failed. Please refer to the following link for troubleshooting information: https://docs.rapids.ai/api/dask-cuda/nightly/troubleshooting/#setting-cpu-affinity-failure\n"
     ]
    },
    {
     "name": "stdout",
     "output_type": "stream",
     "text": [
      "2025-09-18 12:54:54 - n2f - INFO - computing finished.leted |  8.6s\u001b[2K\n",
      "2025-09-18 12:54:55 - n2f - INFO - dask cluster closed.\n",
      "CPU times: user 2.18 s, sys: 322 ms, total: 2.5 s\n",
      "Wall time: 13.8 s\n"
     ]
    }
   ],
   "source": [
    "%%time\n",
    "mc.n2f(rslc,intf,tnet=tnet_path,chunks=(2500,1834),cuda=True)"
   ]
  },
  {
   "cell_type": "code",
   "execution_count": null,
   "id": "7b45030d-c4f8-4a9d-a25f-9958cc489507",
   "metadata": {},
   "outputs": [],
   "source": []
  }
 ],
 "metadata": {
  "kernelspec": {
   "display_name": "python3",
   "language": "python",
   "name": "python3"
  }
 },
 "nbformat": 4,
 "nbformat_minor": 5
}
