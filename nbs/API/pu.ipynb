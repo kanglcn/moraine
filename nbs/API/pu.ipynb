{
 "cells": [
  {
   "cell_type": "markdown",
   "id": "bf11c8a7-9a6c-4a38-8de6-f29a97611d8d",
   "metadata": {},
   "source": [
    "# Phase Unwrapping\n",
    "\n",
    "> phase unwrapping"
   ]
  },
  {
   "cell_type": "code",
   "execution_count": null,
   "id": "34ce125e-c053-42f4-b007-b4fad3e1e53b",
   "metadata": {},
   "outputs": [],
   "source": [
    "#| default_exp pu"
   ]
  },
  {
   "cell_type": "code",
   "execution_count": null,
   "id": "19aeb4d6-3571-488f-adad-aa00080d6c68",
   "metadata": {},
   "outputs": [],
   "source": [
    "#| hide\n",
    "from nbdev.showdoc import *"
   ]
  },
  {
   "cell_type": "code",
   "execution_count": null,
   "id": "2b0f7d94-7aa6-4d2f-aea4-5871d3a5b4c5",
   "metadata": {},
   "outputs": [],
   "source": [
    "#| export\n",
    "import math\n",
    "import numpy as np\n",
    "import tempfile\n",
    "from pathlib import Path\n",
    "import moraine as mr"
   ]
  },
  {
   "cell_type": "code",
   "execution_count": null,
   "id": "41c696f8-ff76-4696-8de5-ad348013339e",
   "metadata": {},
   "outputs": [],
   "source": [
    "#| export\n",
    "def gamma_mcf_pt(\n",
    "    pc_x:np.ndarray, # x coordinate, shape of (N,)\n",
    "    pc_y:np.ndarray, # y coordinate, shape of (N,)\n",
    "    ph:np.ndarray, # wrapped phase, shape of (N,)\n",
    "    ph_weight:np.ndarray=None, # point weight, shape of (N,), optional\n",
    "    ref_point:int=1, # reference point, the first point by default\n",
    ") -> np.ndarray: # unwrapped phase, shape of (N,)\n",
    "    pc_x = pc_x.astype(np.int32)\n",
    "    pc_y = pc_y.astype(np.int32)\n",
    "    pc_xy = np.stack((pc_x,pc_y),axis=-1)\n",
    "    ph = ph.astype(np.complex64)\n",
    "    if ph_weight is not None: ph_weight = ph_weight.astype(np.float32)\n",
    "\n",
    "    with tempfile.TemporaryDirectory() as tmpdir_str:\n",
    "        tmp_path = Path(tmpdir_str)\n",
    "        pt_path = temp_dir/'pt'\n",
    "        ph_path = temp_dir/'ph'\n",
    "        unwrap_ph_path = temp_dir/'unwrap_ph'\n",
    "        mr.write_gamma\n",
    "        pg.write_point_list(pt_g(ptx,pty),pt_path,dtype='int')\n",
    "        pg.write_point_data(ph,pt_path,ph_path,dtype='fcomplex')\n",
    "        if ph_weight is None:\n",
    "            ph_weight_path = '-'\n",
    "        else:\n",
    "            ph_weight_path = temp_dir/'ph_weight'\n",
    "            ph_wieght = ph_weight.astype(np.float32)\n",
    "            pg.write_point_data(ph_weight,pt_path,ph_weight_path,dtype='float')\n",
    "\n",
    "        pg.mcf_pt(pt_path,'-',ph_path,'-',ph_weight_path,'-',unwrap_ph_path,xps,yps,ref_point,1)\n",
    "\n",
    "        unwrap_ph = pg.read_point_data(unwrap_ph_path,pt_path,dtype='float')\n"
   ]
  },
  {
   "cell_type": "code",
   "execution_count": null,
   "id": "e743de3b-2325-4742-aeea-3f5e9876c2e4",
   "metadata": {},
   "outputs": [],
   "source": [
    "def mcf_pt(ptx,pty,xps,yps,ph,ph_weight=None,ref_point=None):\n",
    "    '''\n",
    "    a simple wrapper for mcf_pt phase unwrapping in GAMMA software.\n",
    "    \n",
    "    Parameters\n",
    "    ----------\n",
    "    ptx: ndarray\n",
    "        point target east coordinate index (int).\n",
    "    pty: ndarray\n",
    "        point target north coordinate index (int).\n",
    "    xps: float\n",
    "        East coordinate pixel spacing.\n",
    "    yps: float\n",
    "        North coordinate pixel spacing.\n",
    "    ph: (M,N) ndarray\n",
    "        Complex unwrapped interferograms. M intergerograms and \n",
    "        each has N points.\n",
    "    ph_weight: (M,N) ndarray (optional)\n",
    "        Unwrapping weight for each points.\n",
    "    ref_point: int (optional)\n",
    "        Reference points.\n",
    "    '''\n",
    "\n",
    "    if ref_point is None:\n",
    "        ref_point = '-'\n",
    "    ph = ph.astype(np.complex64)\n",
    "    temp_dir = Path.cwd()/unique_str(ph)\n",
    "    temp_dir.mkdir()\n",
    "    pt_path = temp_dir/'pt'\n",
    "    ph_path = temp_dir/'ph'\n",
    "    unwrap_ph_path = temp_dir/'unwrap_ph'\n",
    "    pg.write_point_list(pt_g(ptx,pty),pt_path,dtype='int')\n",
    "    pg.write_point_data(ph,pt_path,ph_path,dtype='fcomplex')\n",
    "    if ph_weight is None:\n",
    "        ph_weight_path = '-'\n",
    "    else:\n",
    "        ph_weight_path = temp_dir/'ph_weight'\n",
    "        ph_wieght = ph_weight.astype(np.float32)\n",
    "        pg.write_point_data(ph_weight,pt_path,ph_weight_path,dtype='float')\n",
    "\n",
    "    pg.mcf_pt(pt_path,'-',ph_path,'-',ph_weight_path,'-',unwrap_ph_path,xps,yps,ref_point,1)\n",
    "\n",
    "    unwrap_ph = pg.read_point_data(unwrap_ph_path,pt_path,dtype='float')\n",
    "    shutil.rmtree(temp_dir)\n",
    "    \n",
    "    return unwrap_ph"
   ]
  },
  {
   "cell_type": "code",
   "execution_count": null,
   "id": "80248228-6d49-494d-a5f0-595373ccd1be",
   "metadata": {},
   "outputs": [],
   "source": [
    "#| hide\n",
    "import nbdev; nbdev.nbdev_export()"
   ]
  }
 ],
 "metadata": {
  "kernelspec": {
   "display_name": "python3",
   "language": "python",
   "name": "python3"
  }
 },
 "nbformat": 4,
 "nbformat_minor": 5
}
