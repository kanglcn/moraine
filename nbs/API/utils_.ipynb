{
 "cells": [
  {
   "cell_type": "markdown",
   "id": "91495a59-9f3a-4378-9357-9d3c55c28ef5",
   "metadata": {},
   "source": [
    "# utils\n",
    "\n",
    "> internal utilities for developing"
   ]
  },
  {
   "cell_type": "code",
   "execution_count": null,
   "id": "26336d18-4f60-45ed-a7e6-7e5b02970da9",
   "metadata": {},
   "outputs": [],
   "source": [
    "#| default_exp utils_"
   ]
  },
  {
   "cell_type": "code",
   "execution_count": null,
   "id": "a8152ce9-b6ea-4054-94a4-eaee410b7338",
   "metadata": {},
   "outputs": [],
   "source": [
    "#| export\n",
    "# Adapted from spatialpandas at https://github.com/holoviz/spatialpandas under BSD-2-Clause license."
   ]
  },
  {
   "cell_type": "code",
   "execution_count": null,
   "id": "1215172d-8c89-43dd-97c0-cd65e8a66a92",
   "metadata": {},
   "outputs": [],
   "source": [
    "#| hide\n",
    "from nbdev.showdoc import *"
   ]
  },
  {
   "cell_type": "code",
   "execution_count": null,
   "id": "3a7171ae-1802-42a4-ba6b-2494c597205c",
   "metadata": {},
   "outputs": [],
   "source": [
    "#| export\n",
    "import numpy as np\n",
    "from numba import jit\n",
    "import os"
   ]
  },
  {
   "cell_type": "code",
   "execution_count": null,
   "id": "e2419783-d67d-4b71-b3d1-83ee99652cc9",
   "metadata": {},
   "outputs": [],
   "source": [
    "#| export\n",
    "ngjit = jit(nopython=True, nogil=True)\n",
    "ngpjit = jit(nopython=True, nogil=True, parallel=True)"
   ]
  },
  {
   "cell_type": "code",
   "execution_count": null,
   "id": "ede61dd3-ad48-41e2-8240-d3f85bd67472",
   "metadata": {},
   "outputs": [],
   "source": [
    "#| export\n",
    "def is_cuda_available():\n",
    "    if 'CUDA_VISIBLE_DEVICES' in os.environ:\n",
    "        return True\n",
    "    else:\n",
    "        return False"
   ]
  },
  {
   "cell_type": "code",
   "execution_count": null,
   "id": "c91615c3-75cd-48be-b318-8c6c3a9892bb",
   "metadata": {},
   "outputs": [],
   "source": [
    "#| export\n",
    "def get_n_cpus_avail():\n",
    "    num_available_cpus = len(os.sched_getaffinity(0))\n",
    "    return num_available_cpus"
   ]
  },
  {
   "cell_type": "code",
   "execution_count": null,
   "id": "5df74232-014b-4021-9609-6e822d912e13",
   "metadata": {},
   "outputs": [],
   "source": [
    "#| export\n",
    "def get_array_module(array):\n",
    "    if is_cuda_available():\n",
    "        try:\n",
    "            import cupy\n",
    "            return cupy.get_array_module(array)\n",
    "        except:\n",
    "            return np\n",
    "    else:\n",
    "        return np"
   ]
  },
  {
   "cell_type": "code",
   "execution_count": null,
   "id": "c3178035-28c0-4cb2-b1c2-e9fbba5d68b6",
   "metadata": {},
   "outputs": [],
   "source": [
    "#| hide\n",
    "import nbdev; nbdev.nbdev_export()"
   ]
  },
  {
   "cell_type": "code",
   "execution_count": null,
   "id": "29ff59df-ef3c-4e39-a3a6-b4e6645c621c",
   "metadata": {},
   "outputs": [],
   "source": []
  }
 ],
 "metadata": {
  "kernelspec": {
   "display_name": "python3",
   "language": "python",
   "name": "python3"
  }
 },
 "nbformat": 4,
 "nbformat_minor": 5
}
