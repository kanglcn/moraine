{
 "cells": [
  {
   "cell_type": "markdown",
   "id": "4e365ed6-e4e5-44fb-9bc5-da2beb29670c",
   "metadata": {},
   "source": [
    "# chunk\n",
    "\n",
    "> internal utilities for chunkwise data processing"
   ]
  },
  {
   "cell_type": "code",
   "execution_count": null,
   "id": "b24f94bd-09ce-4ba1-bcfc-38c72a7f706a",
   "metadata": {},
   "outputs": [],
   "source": [
    "#| default_exp chunk_"
   ]
  },
  {
   "cell_type": "code",
   "execution_count": null,
   "id": "396af32a-8c43-4df8-8d83-ed51bb478fd8",
   "metadata": {},
   "outputs": [],
   "source": [
    "#| hide\n",
    "from nbdev.showdoc import *"
   ]
  },
  {
   "cell_type": "code",
   "execution_count": null,
   "id": "42026ed4-ec41-4832-bf53-7579d1762872",
   "metadata": {},
   "outputs": [],
   "source": [
    "#| export\n",
    "import numpy as np\n",
    "import itertools\n",
    "from moraine.rtree import HilbertRtree\n",
    "from scipy.spatial import KDTree"
   ]
  },
  {
   "cell_type": "code",
   "execution_count": null,
   "id": "1bc93fd2-9efb-4c13-936f-52867b44a684",
   "metadata": {},
   "outputs": [],
   "source": [
    "#| export\n",
    "def fill_slice(\n",
    "    shape, # numpy arr, cupy arr, zarr,\n",
    "    slices, # tuple of slice object, len == data_arr.ndim\n",
    "):\n",
    "    out_slices = []\n",
    "    for i in range(len(slices)):\n",
    "        slice_i = slices[i]\n",
    "        if slice_i.start is None:\n",
    "            start = 0\n",
    "        else:\n",
    "            start = slice_i.start\n",
    "        assert start>=0\n",
    "        assert start<shape[i]\n",
    "        if slice_i.stop is None:\n",
    "            stop = shape[i]\n",
    "        else:\n",
    "            stop = slice_i.stop\n",
    "        assert stop > start\n",
    "        assert stop <= shape[i]\n",
    "        assert (slice_i.step is None) or (slice_i.step == 1)\n",
    "        step = 1\n",
    "        out_slices.append(slice(start,stop,step))\n",
    "    return tuple(out_slices)"
   ]
  },
  {
   "cell_type": "code",
   "execution_count": null,
   "id": "f3b69a49-19fa-4071-9327-f0ea5c980555",
   "metadata": {},
   "outputs": [],
   "source": [
    "#| export\n",
    "def all_chunk_slices(\n",
    "    shape, # np.array, cp.array,zarr\n",
    "    chunks,\n",
    "):\n",
    "    '''get the slices for every input chunks'''\n",
    "    out_slices = []\n",
    "    for shape_, chunk_ in zip(shape,chunks):\n",
    "        if chunk_ <0: chunk_ = shape_\n",
    "        bound_1dim = np.arange(0,shape_+chunk_,chunk_)\n",
    "        if bound_1dim[-1] > shape_: bound_1dim[-1] = shape_\n",
    "\n",
    "        slice_1dim = []\n",
    "        for j in range(bound_1dim.shape[0]-1):\n",
    "            slice_1dim.append(slice(int(bound_1dim[j]),int(bound_1dim[j+1])))\n",
    "        out_slices.append(slice_1dim)\n",
    "    out_slices = list(itertools.product(*out_slices))\n",
    "    return out_slices"
   ]
  },
  {
   "cell_type": "markdown",
   "id": "f96fa860-c6e0-4820-92d5-81c953874c90",
   "metadata": {},
   "source": [
    "usage:"
   ]
  },
  {
   "cell_type": "code",
   "execution_count": null,
   "id": "10ea8767-31b8-4638-a1e3-e192a1cdaa3b",
   "metadata": {},
   "outputs": [
    {
     "data": {
      "text/plain": [
       "[(slice(0, 15, None), slice(0, 40, None), slice(0, 6, None)),\n",
       " (slice(0, 15, None), slice(0, 40, None), slice(6, 11, None)),\n",
       " (slice(0, 15, None), slice(40, 80, None), slice(0, 6, None)),\n",
       " (slice(0, 15, None), slice(40, 80, None), slice(6, 11, None)),\n",
       " (slice(0, 15, None), slice(80, 100, None), slice(0, 6, None)),\n",
       " (slice(0, 15, None), slice(80, 100, None), slice(6, 11, None)),\n",
       " (slice(15, 30, None), slice(0, 40, None), slice(0, 6, None)),\n",
       " (slice(15, 30, None), slice(0, 40, None), slice(6, 11, None)),\n",
       " (slice(15, 30, None), slice(40, 80, None), slice(0, 6, None)),\n",
       " (slice(15, 30, None), slice(40, 80, None), slice(6, 11, None)),\n",
       " (slice(15, 30, None), slice(80, 100, None), slice(0, 6, None)),\n",
       " (slice(15, 30, None), slice(80, 100, None), slice(6, 11, None)),\n",
       " (slice(30, 45, None), slice(0, 40, None), slice(0, 6, None)),\n",
       " (slice(30, 45, None), slice(0, 40, None), slice(6, 11, None)),\n",
       " (slice(30, 45, None), slice(40, 80, None), slice(0, 6, None)),\n",
       " (slice(30, 45, None), slice(40, 80, None), slice(6, 11, None)),\n",
       " (slice(30, 45, None), slice(80, 100, None), slice(0, 6, None)),\n",
       " (slice(30, 45, None), slice(80, 100, None), slice(6, 11, None)),\n",
       " (slice(45, 50, None), slice(0, 40, None), slice(0, 6, None)),\n",
       " (slice(45, 50, None), slice(0, 40, None), slice(6, 11, None)),\n",
       " (slice(45, 50, None), slice(40, 80, None), slice(0, 6, None)),\n",
       " (slice(45, 50, None), slice(40, 80, None), slice(6, 11, None)),\n",
       " (slice(45, 50, None), slice(80, 100, None), slice(0, 6, None)),\n",
       " (slice(45, 50, None), slice(80, 100, None), slice(6, 11, None))]"
      ]
     },
     "execution_count": null,
     "metadata": {},
     "output_type": "execute_result"
    }
   ],
   "source": [
    "a = np.zeros((50,100,11))\n",
    "chunks = (15,40,6)\n",
    "all_chunk_slices(a.shape,chunks)"
   ]
  },
  {
   "cell_type": "code",
   "execution_count": null,
   "id": "53bea2e6-0d98-4956-8580-96d65ce81dc6",
   "metadata": {},
   "outputs": [
    {
     "data": {
      "text/plain": [
       "[(slice(0, 15, None),),\n",
       " (slice(15, 30, None),),\n",
       " (slice(30, 45, None),),\n",
       " (slice(45, 60, None),),\n",
       " (slice(60, 75, None),),\n",
       " (slice(75, 90, None),),\n",
       " (slice(90, 105, None),),\n",
       " (slice(105, 120, None),),\n",
       " (slice(120, 135, None),),\n",
       " (slice(135, 150, None),),\n",
       " (slice(150, 165, None),),\n",
       " (slice(165, 180, None),),\n",
       " (slice(180, 195, None),),\n",
       " (slice(195, 210, None),),\n",
       " (slice(210, 225, None),),\n",
       " (slice(225, 240, None),),\n",
       " (slice(240, 255, None),),\n",
       " (slice(255, 270, None),),\n",
       " (slice(270, 285, None),),\n",
       " (slice(285, 300, None),),\n",
       " (slice(300, 315, None),),\n",
       " (slice(315, 330, None),),\n",
       " (slice(330, 343, None),)]"
      ]
     },
     "execution_count": null,
     "metadata": {},
     "output_type": "execute_result"
    }
   ],
   "source": [
    "a = np.zeros(343)\n",
    "all_chunk_slices(a.shape,(15,))"
   ]
  },
  {
   "cell_type": "code",
   "execution_count": null,
   "id": "cf3ed893-d100-4c55-b11f-bca5b9762261",
   "metadata": {},
   "outputs": [],
   "source": [
    "#| export\n",
    "def all_chunk_slices_with_overlap(\n",
    "    shape, \n",
    "    chunks, \n",
    "    depths,\n",
    "):\n",
    "    '''get the slices for every input chunks with overlap'''\n",
    "    out_slices = []\n",
    "    for shape_, chunk_, depth_ in zip(shape,chunks,depths):\n",
    "        if chunk_ <0: chunk_ = shape_\n",
    "        starts_1dim = np.arange(-depth_,shape_-depth_,chunk_)\n",
    "        starts_1dim[starts_1dim<0] = 0\n",
    "        ends_1dim = np.arange(chunk_+depth_,shape_+chunk_+depth_,chunk_)\n",
    "        ends_1dim[ends_1dim>shape_] = shape_\n",
    "\n",
    "        slice_1dim = []\n",
    "        for j in range(starts_1dim.shape[0]):\n",
    "            slice_1dim.append(slice(int(starts_1dim[j]),int(ends_1dim[j])))\n",
    "        out_slices.append(slice_1dim)\n",
    "    out_slices = list(itertools.product(*out_slices))\n",
    "    return out_slices"
   ]
  },
  {
   "cell_type": "code",
   "execution_count": null,
   "id": "2574622d-7d48-487a-9cc5-f8d2adc5ea24",
   "metadata": {},
   "outputs": [
    {
     "data": {
      "text/plain": [
       "[(slice(0, 16, None), slice(0, 42, None), slice(0, 6, None)),\n",
       " (slice(0, 16, None), slice(0, 42, None), slice(6, 11, None)),\n",
       " (slice(0, 16, None), slice(38, 82, None), slice(0, 6, None)),\n",
       " (slice(0, 16, None), slice(38, 82, None), slice(6, 11, None)),\n",
       " (slice(0, 16, None), slice(78, 100, None), slice(0, 6, None)),\n",
       " (slice(0, 16, None), slice(78, 100, None), slice(6, 11, None)),\n",
       " (slice(14, 31, None), slice(0, 42, None), slice(0, 6, None)),\n",
       " (slice(14, 31, None), slice(0, 42, None), slice(6, 11, None)),\n",
       " (slice(14, 31, None), slice(38, 82, None), slice(0, 6, None)),\n",
       " (slice(14, 31, None), slice(38, 82, None), slice(6, 11, None)),\n",
       " (slice(14, 31, None), slice(78, 100, None), slice(0, 6, None)),\n",
       " (slice(14, 31, None), slice(78, 100, None), slice(6, 11, None)),\n",
       " (slice(29, 46, None), slice(0, 42, None), slice(0, 6, None)),\n",
       " (slice(29, 46, None), slice(0, 42, None), slice(6, 11, None)),\n",
       " (slice(29, 46, None), slice(38, 82, None), slice(0, 6, None)),\n",
       " (slice(29, 46, None), slice(38, 82, None), slice(6, 11, None)),\n",
       " (slice(29, 46, None), slice(78, 100, None), slice(0, 6, None)),\n",
       " (slice(29, 46, None), slice(78, 100, None), slice(6, 11, None)),\n",
       " (slice(44, 50, None), slice(0, 42, None), slice(0, 6, None)),\n",
       " (slice(44, 50, None), slice(0, 42, None), slice(6, 11, None)),\n",
       " (slice(44, 50, None), slice(38, 82, None), slice(0, 6, None)),\n",
       " (slice(44, 50, None), slice(38, 82, None), slice(6, 11, None)),\n",
       " (slice(44, 50, None), slice(78, 100, None), slice(0, 6, None)),\n",
       " (slice(44, 50, None), slice(78, 100, None), slice(6, 11, None))]"
      ]
     },
     "execution_count": null,
     "metadata": {},
     "output_type": "execute_result"
    }
   ],
   "source": [
    "a = np.zeros((50,100,11))\n",
    "chunks = (15,40,6)\n",
    "depth = (1,2,0)\n",
    "all_chunk_slices_with_overlap(a.shape,chunks,depth)"
   ]
  },
  {
   "cell_type": "code",
   "execution_count": null,
   "id": "f4afa15f-e896-437f-91c4-2c54a0af2d2f",
   "metadata": {},
   "outputs": [],
   "source": [
    "#| export\n",
    "def chunkwise_slicing_mapping(\n",
    "    shape,\n",
    "    chunks,\n",
    "    depths,\n",
    "):\n",
    "    '''get the slices for every input chunks with overlap\n",
    "    output chunks without overlap and their mapping slices'''\n",
    "    in_slices = []; out_slices = []; map_slices = []\n",
    "    for shape_, chunk_, depth_ in zip(shape,chunks,depths):\n",
    "        if chunk_ <0: chunk_ = shape_\n",
    "        in_starts_1dim = np.arange(-depth_,shape_-depth_,chunk_)\n",
    "        in_starts_1dim[in_starts_1dim<0] = 0\n",
    "        in_ends_1dim = np.arange(chunk_+depth_,shape_+chunk_+depth_,chunk_)\n",
    "        in_ends_1dim[in_ends_1dim>shape_] = shape_\n",
    "        out_starts_1dim = np.arange(0,shape_,chunk_)\n",
    "        out_ends_1dim = np.arange(chunk_,shape_+chunk_,chunk_)\n",
    "        out_ends_1dim[out_ends_1dim>shape_] = shape_\n",
    "\n",
    "        assert len(in_starts_1dim) == len(out_starts_1dim)\n",
    "        assert len(in_ends_1dim) == len(out_ends_1dim)\n",
    "\n",
    "        in_slice_1dim = []; out_slice_1dim = []; map_slice_1dim = []\n",
    "        for in_start, in_end, out_start, out_end in zip(in_starts_1dim, in_ends_1dim, out_starts_1dim, out_ends_1dim):\n",
    "            in_slice_1dim.append(slice(int(in_start),int(in_end)))\n",
    "            out_slice_1dim.append(slice(int(out_start),int(out_end)))\n",
    "            offset = out_start-in_start\n",
    "            map_slice_1dim.append(slice(int(offset),int(offset+out_end-out_start)))\n",
    "\n",
    "        in_slices.append(in_slice_1dim)\n",
    "        out_slices.append(out_slice_1dim)\n",
    "        map_slices.append(map_slice_1dim)\n",
    "\n",
    "    in_slices = list(itertools.product(*in_slices))\n",
    "    out_slices = list(itertools.product(*out_slices))\n",
    "    map_slices = list(itertools.product(*map_slices))\n",
    "    return in_slices, out_slices, map_slices"
   ]
  },
  {
   "cell_type": "code",
   "execution_count": null,
   "id": "10308451-b550-48ab-90d3-575cc040466b",
   "metadata": {},
   "outputs": [
    {
     "data": {
      "text/plain": [
       "([(slice(0, 16, None), slice(0, 42, None)),\n",
       "  (slice(0, 16, None), slice(38, 82, None)),\n",
       "  (slice(0, 16, None), slice(78, 100, None)),\n",
       "  (slice(14, 31, None), slice(0, 42, None)),\n",
       "  (slice(14, 31, None), slice(38, 82, None)),\n",
       "  (slice(14, 31, None), slice(78, 100, None)),\n",
       "  (slice(29, 46, None), slice(0, 42, None)),\n",
       "  (slice(29, 46, None), slice(38, 82, None)),\n",
       "  (slice(29, 46, None), slice(78, 100, None)),\n",
       "  (slice(44, 50, None), slice(0, 42, None)),\n",
       "  (slice(44, 50, None), slice(38, 82, None)),\n",
       "  (slice(44, 50, None), slice(78, 100, None))],\n",
       " [(slice(0, 15, None), slice(0, 40, None)),\n",
       "  (slice(0, 15, None), slice(40, 80, None)),\n",
       "  (slice(0, 15, None), slice(80, 100, None)),\n",
       "  (slice(15, 30, None), slice(0, 40, None)),\n",
       "  (slice(15, 30, None), slice(40, 80, None)),\n",
       "  (slice(15, 30, None), slice(80, 100, None)),\n",
       "  (slice(30, 45, None), slice(0, 40, None)),\n",
       "  (slice(30, 45, None), slice(40, 80, None)),\n",
       "  (slice(30, 45, None), slice(80, 100, None)),\n",
       "  (slice(45, 50, None), slice(0, 40, None)),\n",
       "  (slice(45, 50, None), slice(40, 80, None)),\n",
       "  (slice(45, 50, None), slice(80, 100, None))],\n",
       " [(slice(0, 15, None), slice(0, 40, None)),\n",
       "  (slice(0, 15, None), slice(2, 42, None)),\n",
       "  (slice(0, 15, None), slice(2, 22, None)),\n",
       "  (slice(1, 16, None), slice(0, 40, None)),\n",
       "  (slice(1, 16, None), slice(2, 42, None)),\n",
       "  (slice(1, 16, None), slice(2, 22, None)),\n",
       "  (slice(1, 16, None), slice(0, 40, None)),\n",
       "  (slice(1, 16, None), slice(2, 42, None)),\n",
       "  (slice(1, 16, None), slice(2, 22, None)),\n",
       "  (slice(1, 6, None), slice(0, 40, None)),\n",
       "  (slice(1, 6, None), slice(2, 42, None)),\n",
       "  (slice(1, 6, None), slice(2, 22, None))])"
      ]
     },
     "execution_count": null,
     "metadata": {},
     "output_type": "execute_result"
    }
   ],
   "source": [
    "a = np.zeros((50,100))\n",
    "chunks = (15,40)\n",
    "depth = [1,2] # or {0:1, 1:2, 2:3}\n",
    "chunkwise_slicing_mapping(a.shape,chunks,depth)"
   ]
  },
  {
   "cell_type": "code",
   "execution_count": null,
   "id": "2c091eee-f6b7-4a51-bb0f-960247815e31",
   "metadata": {},
   "outputs": [],
   "source": [
    "#| export\n",
    "def chunkwise_knn_mapping(\n",
    "    x,\n",
    "    y,\n",
    "    chunks:int,\n",
    "    k = 128\n",
    "):\n",
    "    n = y.shape[0]\n",
    "    bound = np.arange(0,n+chunks,chunks)\n",
    "    if bound[-1] > n: bound[-1] = n\n",
    "    rtree = HilbertRtree.build(x,y,page_size=chunks)\n",
    "\n",
    "    out_slices = []\n",
    "    in_indices = []\n",
    "    map_indices = []\n",
    "    for i in range(bound.shape[0]-1):\n",
    "        start = int(bound[i])\n",
    "        end = int(bound[i+1])\n",
    "        out_slices.append(slice(start,end))\n",
    "\n",
    "        y_, x_ = y[start:end], x[start:end]\n",
    "        # normalize x and y here should be better and save the ratio!\n",
    "        y_max, y_min, x_max, x_min = y_.max(), y_.min(), x_.max(), x_.min()\n",
    "        y_norm = (y_ - y_min)/(y_max - y_min)\n",
    "        x_norm = (x_ - x_min)/(x_max - x_min)\n",
    "        pos_norm = np.stack((x_norm,y_norm),axis=-1)\n",
    "\n",
    "        # select boundary points\n",
    "        if chunks<2*k:\n",
    "            bound_idx = np.arange(chunks) # select all points as boundary points\n",
    "        else:\n",
    "            bound_ratio = 0.1\n",
    "            while True:\n",
    "                h_y, h_x = bound_ratio, bound_ratio\n",
    "                mask_boundary = (y_norm > 1-h_y) | (y_norm < h_y)|(x_norm > 1-h_x)|(x_norm < h_x)\n",
    "                bound_idx = np.nonzero(mask_boundary)[0]\n",
    "                bound_ratio = bound_ratio + 0.1\n",
    "                if len(bound_idx)>=k: break\n",
    "\n",
    "        # esimate distance of kth NN of the boundary points\n",
    "        tree = KDTree(pos_norm)\n",
    "        dd = tree.query(pos_norm[bound_idx],k=[k,],workers=-1)[0]\n",
    "        max_dd = np.max(dd)\n",
    "\n",
    "        # decide halo size and query halo points\n",
    "        y_halo_size, x_halo_size = max_dd*(y_max-y_min), max_dd*(x_max-x_min)\n",
    "        halo_bounds = [x_min-x_halo_size, y_min-y_halo_size, x_max+x_halo_size, y_max+y_halo_size]\n",
    "        halo_idx = rtree.bbox_query(halo_bounds, x, y)\n",
    "        #print(halo_idx.shape)\n",
    "        y_halo, x_halo = y[halo_idx], x[halo_idx]\n",
    "\n",
    "        # find input points: union of knn in halo points for points in the chunk \n",
    "        tree = KDTree(np.stack((x_halo, y_halo),axis=-1))\n",
    "        in_idx = tree.query(np.stack((x_, y_),axis=-1),k=k,workers=-1)[1]\n",
    "        in_idx = np.unique(in_idx)\n",
    "        in_idx = halo_idx[in_idx] # idx in all points\n",
    "        in_indices.append(in_idx)\n",
    "        # assert np.all(np.isin(np.arange(start,end),in_idx))\n",
    "\n",
    "        # indices that map points in the chunk from input points\n",
    "        map_idx = (in_idx>=start) & (in_idx<end)\n",
    "        map_idx = np.flatnonzero(map_idx)\n",
    "        map_indices.append(map_idx)\n",
    "\n",
    "    return in_indices, out_slices, map_indices"
   ]
  },
  {
   "cell_type": "code",
   "execution_count": null,
   "id": "c4645ca1-d8d0-43ac-b34d-7d497345e685",
   "metadata": {},
   "outputs": [],
   "source": [
    "#| hide\n",
    "import nbdev; nbdev.nbdev_export()"
   ]
  },
  {
   "cell_type": "code",
   "execution_count": null,
   "id": "c30c3522-b063-4d2f-b0fb-33c4555aa85b",
   "metadata": {},
   "outputs": [],
   "source": []
  }
 ],
 "metadata": {
  "kernelspec": {
   "display_name": "python3",
   "language": "python",
   "name": "python3"
  }
 },
 "nbformat": 4,
 "nbformat_minor": 5
}
