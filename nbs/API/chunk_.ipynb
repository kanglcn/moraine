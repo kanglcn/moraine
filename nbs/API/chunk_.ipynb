{
 "cells": [
  {
   "cell_type": "markdown",
   "id": "4e365ed6-e4e5-44fb-9bc5-da2beb29670c",
   "metadata": {},
   "source": [
    "# chunk\n",
    "\n",
    "> internal utilities for chunkwise data processing"
   ]
  },
  {
   "cell_type": "code",
   "execution_count": null,
   "id": "b24f94bd-09ce-4ba1-bcfc-38c72a7f706a",
   "metadata": {},
   "outputs": [],
   "source": [
    "#| default_exp chunk_"
   ]
  },
  {
   "cell_type": "code",
   "execution_count": null,
   "id": "396af32a-8c43-4df8-8d83-ed51bb478fd8",
   "metadata": {},
   "outputs": [],
   "source": [
    "#| hide\n",
    "from nbdev.showdoc import *"
   ]
  },
  {
   "cell_type": "code",
   "execution_count": null,
   "id": "42026ed4-ec41-4832-bf53-7579d1762872",
   "metadata": {},
   "outputs": [],
   "source": [
    "#| export\n",
    "import numpy as np\n",
    "import itertools"
   ]
  },
  {
   "cell_type": "code",
   "execution_count": null,
   "id": "1bc93fd2-9efb-4c13-936f-52867b44a684",
   "metadata": {},
   "outputs": [],
   "source": [
    "#| export\n",
    "def fill_slice(\n",
    "    shape, # numpy arr, cupy arr, zarr,\n",
    "    slices, # tuple of slice object, len == data_arr.ndim\n",
    "):\n",
    "    out_slices = []\n",
    "    for i in range(len(slices)):\n",
    "        slice_i = slices[i]\n",
    "        if slice_i.start is None:\n",
    "            start = 0\n",
    "        else:\n",
    "            start = slice_i.start\n",
    "        assert start>=0\n",
    "        assert start<shape[i]\n",
    "        if slice_i.stop is None:\n",
    "            stop = shape[i]\n",
    "        else:\n",
    "            stop = slice_i.stop\n",
    "        assert stop > start\n",
    "        assert stop <= shape[i]\n",
    "        assert (slice_i.step is None) or (slice_i.step == 1)\n",
    "        step = 1\n",
    "        out_slices.append(slice(start,stop,step))\n",
    "    return tuple(out_slices)"
   ]
  },
  {
   "cell_type": "code",
   "execution_count": null,
   "id": "f3b69a49-19fa-4071-9327-f0ea5c980555",
   "metadata": {},
   "outputs": [],
   "source": [
    "#| export\n",
    "def all_chunk_slices(\n",
    "    shape, # np.array, cp.array,zarr\n",
    "    chunks,\n",
    "):\n",
    "    '''get the slices for every input chunks'''\n",
    "    out_slices = []\n",
    "    for shape_, chunk_ in zip(shape,chunks):\n",
    "        if chunk_ <0: chunk_ = shape_\n",
    "        bound_1dim = np.arange(0,shape_+chunk_,chunk_)\n",
    "        if bound_1dim[-1] > shape_: bound_1dim[-1] = shape_\n",
    "\n",
    "        slice_1dim = []\n",
    "        for j in range(bound_1dim.shape[0]-1):\n",
    "            slice_1dim.append(slice(bound_1dim[j],bound_1dim[j+1]))\n",
    "        out_slices.append(slice_1dim)\n",
    "    out_slices = list(itertools.product(*out_slices))\n",
    "    return out_slices"
   ]
  },
  {
   "cell_type": "markdown",
   "id": "f96fa860-c6e0-4820-92d5-81c953874c90",
   "metadata": {},
   "source": [
    "usage:"
   ]
  },
  {
   "cell_type": "code",
   "execution_count": null,
   "id": "10ea8767-31b8-4638-a1e3-e192a1cdaa3b",
   "metadata": {},
   "outputs": [
    {
     "data": {
      "text/plain": [
       "[(slice(0, 15, None), slice(0, 40, None), slice(0, 6, None)),\n",
       " (slice(0, 15, None), slice(0, 40, None), slice(6, 11, None)),\n",
       " (slice(0, 15, None), slice(40, 80, None), slice(0, 6, None)),\n",
       " (slice(0, 15, None), slice(40, 80, None), slice(6, 11, None)),\n",
       " (slice(0, 15, None), slice(80, 100, None), slice(0, 6, None)),\n",
       " (slice(0, 15, None), slice(80, 100, None), slice(6, 11, None)),\n",
       " (slice(15, 30, None), slice(0, 40, None), slice(0, 6, None)),\n",
       " (slice(15, 30, None), slice(0, 40, None), slice(6, 11, None)),\n",
       " (slice(15, 30, None), slice(40, 80, None), slice(0, 6, None)),\n",
       " (slice(15, 30, None), slice(40, 80, None), slice(6, 11, None)),\n",
       " (slice(15, 30, None), slice(80, 100, None), slice(0, 6, None)),\n",
       " (slice(15, 30, None), slice(80, 100, None), slice(6, 11, None)),\n",
       " (slice(30, 45, None), slice(0, 40, None), slice(0, 6, None)),\n",
       " (slice(30, 45, None), slice(0, 40, None), slice(6, 11, None)),\n",
       " (slice(30, 45, None), slice(40, 80, None), slice(0, 6, None)),\n",
       " (slice(30, 45, None), slice(40, 80, None), slice(6, 11, None)),\n",
       " (slice(30, 45, None), slice(80, 100, None), slice(0, 6, None)),\n",
       " (slice(30, 45, None), slice(80, 100, None), slice(6, 11, None)),\n",
       " (slice(45, 50, None), slice(0, 40, None), slice(0, 6, None)),\n",
       " (slice(45, 50, None), slice(0, 40, None), slice(6, 11, None)),\n",
       " (slice(45, 50, None), slice(40, 80, None), slice(0, 6, None)),\n",
       " (slice(45, 50, None), slice(40, 80, None), slice(6, 11, None)),\n",
       " (slice(45, 50, None), slice(80, 100, None), slice(0, 6, None)),\n",
       " (slice(45, 50, None), slice(80, 100, None), slice(6, 11, None))]"
      ]
     },
     "execution_count": null,
     "metadata": {},
     "output_type": "execute_result"
    }
   ],
   "source": [
    "a = np.zeros((50,100,11))\n",
    "chunks = (15,40,6)\n",
    "all_chunk_slices(a.shape,chunks)"
   ]
  },
  {
   "cell_type": "code",
   "execution_count": null,
   "id": "cf3ed893-d100-4c55-b11f-bca5b9762261",
   "metadata": {},
   "outputs": [],
   "source": [
    "#| export\n",
    "def all_chunk_slices_with_overlap(\n",
    "    shape, \n",
    "    chunks, \n",
    "    depths,\n",
    "):\n",
    "    '''get the slices for every input chunks with overlap'''\n",
    "    out_slices = []\n",
    "    for shape_, chunk_, depth_ in zip(shape,chunks,depths):\n",
    "        if chunk_ <0: chunk_ = shape_\n",
    "        starts_1dim = np.arange(-depth_,shape_-depth_,chunk_)\n",
    "        starts_1dim[starts_1dim<0] = 0\n",
    "        ends_1dim = np.arange(chunk_+depth_,shape_+chunk_+depth_,chunk_)\n",
    "        ends_1dim[ends_1dim>shape_] = shape_\n",
    "\n",
    "        slice_1dim = []\n",
    "        for j in range(starts_1dim.shape[0]):\n",
    "            slice_1dim.append(slice(starts_1dim[j],ends_1dim[j]))\n",
    "        out_slices.append(slice_1dim)\n",
    "    out_slices = list(itertools.product(*out_slices))\n",
    "    return out_slices"
   ]
  },
  {
   "cell_type": "code",
   "execution_count": null,
   "id": "2574622d-7d48-487a-9cc5-f8d2adc5ea24",
   "metadata": {},
   "outputs": [
    {
     "data": {
      "text/plain": [
       "[(slice(0, 16, None), slice(0, 42, None), slice(0, 8, None)),\n",
       " (slice(0, 16, None), slice(0, 42, None), slice(4, 11, None)),\n",
       " (slice(0, 16, None), slice(38, 82, None), slice(0, 8, None)),\n",
       " (slice(0, 16, None), slice(38, 82, None), slice(4, 11, None)),\n",
       " (slice(0, 16, None), slice(78, 100, None), slice(0, 8, None)),\n",
       " (slice(0, 16, None), slice(78, 100, None), slice(4, 11, None)),\n",
       " (slice(14, 31, None), slice(0, 42, None), slice(0, 8, None)),\n",
       " (slice(14, 31, None), slice(0, 42, None), slice(4, 11, None)),\n",
       " (slice(14, 31, None), slice(38, 82, None), slice(0, 8, None)),\n",
       " (slice(14, 31, None), slice(38, 82, None), slice(4, 11, None)),\n",
       " (slice(14, 31, None), slice(78, 100, None), slice(0, 8, None)),\n",
       " (slice(14, 31, None), slice(78, 100, None), slice(4, 11, None)),\n",
       " (slice(29, 46, None), slice(0, 42, None), slice(0, 8, None)),\n",
       " (slice(29, 46, None), slice(0, 42, None), slice(4, 11, None)),\n",
       " (slice(29, 46, None), slice(38, 82, None), slice(0, 8, None)),\n",
       " (slice(29, 46, None), slice(38, 82, None), slice(4, 11, None)),\n",
       " (slice(29, 46, None), slice(78, 100, None), slice(0, 8, None)),\n",
       " (slice(29, 46, None), slice(78, 100, None), slice(4, 11, None)),\n",
       " (slice(44, 50, None), slice(0, 42, None), slice(0, 8, None)),\n",
       " (slice(44, 50, None), slice(0, 42, None), slice(4, 11, None)),\n",
       " (slice(44, 50, None), slice(38, 82, None), slice(0, 8, None)),\n",
       " (slice(44, 50, None), slice(38, 82, None), slice(4, 11, None)),\n",
       " (slice(44, 50, None), slice(78, 100, None), slice(0, 8, None)),\n",
       " (slice(44, 50, None), slice(78, 100, None), slice(4, 11, None))]"
      ]
     },
     "execution_count": null,
     "metadata": {},
     "output_type": "execute_result"
    }
   ],
   "source": [
    "a = np.zeros((50,100,11))\n",
    "chunks = (15,40,6)\n",
    "depth = [1,2,2] # or {0:1, 1:2, 2:3}\n",
    "all_chunk_slices_with_overlap(a.shape,chunks,depth)"
   ]
  },
  {
   "cell_type": "code",
   "execution_count": null,
   "id": "f4afa15f-e896-437f-91c4-2c54a0af2d2f",
   "metadata": {},
   "outputs": [],
   "source": [
    "#| export\n",
    "def chunkwise_slicing_mapping(\n",
    "    shape,\n",
    "    chunks,\n",
    "    depths,\n",
    "):\n",
    "    '''get the slices for every input chunks with overlap\n",
    "    output chunks without overlap and their mapping slices'''\n",
    "    in_slices = []; out_slices = []; map_slices = []\n",
    "    for shape_, chunk_, depth_ in zip(shape,chunks,depths):\n",
    "        if chunk_ <0: chunk_ = shape_\n",
    "        in_starts_1dim = np.arange(-depth_,shape_-depth_,chunk_)\n",
    "        in_starts_1dim[in_starts_1dim<0] = 0\n",
    "        in_ends_1dim = np.arange(chunk_+depth_,shape_+chunk_+depth_,chunk_)\n",
    "        in_ends_1dim[in_ends_1dim>shape_] = shape_\n",
    "        out_starts_1dim = np.arange(0,shape_,chunk_)\n",
    "        out_ends_1dim = np.arange(chunk_,shape_+chunk_,chunk_)\n",
    "        out_ends_1dim[out_ends_1dim>shape_] = shape_\n",
    "\n",
    "        assert len(in_starts_1dim) == len(out_starts_1dim)\n",
    "        assert len(in_ends_1dim) == len(out_ends_1dim)\n",
    "\n",
    "        in_slice_1dim = []; out_slice_1dim = []; map_slice_1dim = []\n",
    "        for in_start, in_end, out_start, out_end in zip(in_starts_1dim, in_ends_1dim, out_starts_1dim, out_ends_1dim):\n",
    "            in_slice_1dim.append(slice(in_start,in_end))\n",
    "            out_slice_1dim.append(slice(out_start,out_end))\n",
    "            offset = out_start-in_start\n",
    "            map_slice_1dim.append(slice(offset,offset+out_end-out_start))\n",
    "\n",
    "        in_slices.append(in_slice_1dim)\n",
    "        out_slices.append(out_slice_1dim)\n",
    "        map_slices.append(map_slice_1dim)\n",
    "\n",
    "    in_slices = list(itertools.product(*in_slices))\n",
    "    out_slices = list(itertools.product(*out_slices))\n",
    "    map_slices = list(itertools.product(*map_slices))\n",
    "    return in_slices, out_slices, map_slices"
   ]
  },
  {
   "cell_type": "code",
   "execution_count": null,
   "id": "10308451-b550-48ab-90d3-575cc040466b",
   "metadata": {},
   "outputs": [
    {
     "data": {
      "text/plain": [
       "([(slice(0, 16, None), slice(0, 42, None)),\n",
       "  (slice(0, 16, None), slice(38, 82, None)),\n",
       "  (slice(0, 16, None), slice(78, 100, None)),\n",
       "  (slice(14, 31, None), slice(0, 42, None)),\n",
       "  (slice(14, 31, None), slice(38, 82, None)),\n",
       "  (slice(14, 31, None), slice(78, 100, None)),\n",
       "  (slice(29, 46, None), slice(0, 42, None)),\n",
       "  (slice(29, 46, None), slice(38, 82, None)),\n",
       "  (slice(29, 46, None), slice(78, 100, None)),\n",
       "  (slice(44, 50, None), slice(0, 42, None)),\n",
       "  (slice(44, 50, None), slice(38, 82, None)),\n",
       "  (slice(44, 50, None), slice(78, 100, None))],\n",
       " [(slice(0, 15, None), slice(0, 40, None)),\n",
       "  (slice(0, 15, None), slice(40, 80, None)),\n",
       "  (slice(0, 15, None), slice(80, 100, None)),\n",
       "  (slice(15, 30, None), slice(0, 40, None)),\n",
       "  (slice(15, 30, None), slice(40, 80, None)),\n",
       "  (slice(15, 30, None), slice(80, 100, None)),\n",
       "  (slice(30, 45, None), slice(0, 40, None)),\n",
       "  (slice(30, 45, None), slice(40, 80, None)),\n",
       "  (slice(30, 45, None), slice(80, 100, None)),\n",
       "  (slice(45, 50, None), slice(0, 40, None)),\n",
       "  (slice(45, 50, None), slice(40, 80, None)),\n",
       "  (slice(45, 50, None), slice(80, 100, None))],\n",
       " [(slice(0, 15, None), slice(0, 40, None)),\n",
       "  (slice(0, 15, None), slice(2, 42, None)),\n",
       "  (slice(0, 15, None), slice(2, 22, None)),\n",
       "  (slice(1, 16, None), slice(0, 40, None)),\n",
       "  (slice(1, 16, None), slice(2, 42, None)),\n",
       "  (slice(1, 16, None), slice(2, 22, None)),\n",
       "  (slice(1, 16, None), slice(0, 40, None)),\n",
       "  (slice(1, 16, None), slice(2, 42, None)),\n",
       "  (slice(1, 16, None), slice(2, 22, None)),\n",
       "  (slice(1, 6, None), slice(0, 40, None)),\n",
       "  (slice(1, 6, None), slice(2, 42, None)),\n",
       "  (slice(1, 6, None), slice(2, 22, None))])"
      ]
     },
     "execution_count": null,
     "metadata": {},
     "output_type": "execute_result"
    }
   ],
   "source": [
    "a = np.zeros((50,100))\n",
    "chunks = (15,40)\n",
    "depth = [1,2] # or {0:1, 1:2, 2:3}\n",
    "chunkwise_slicing_mapping(a.shape,chunks,depth)"
   ]
  },
  {
   "cell_type": "code",
   "execution_count": null,
   "id": "c4645ca1-d8d0-43ac-b34d-7d497345e685",
   "metadata": {},
   "outputs": [],
   "source": [
    "#| hide\n",
    "import nbdev; nbdev.nbdev_export()"
   ]
  },
  {
   "cell_type": "code",
   "execution_count": null,
   "id": "c30c3522-b063-4d2f-b0fb-33c4555aa85b",
   "metadata": {},
   "outputs": [],
   "source": []
  }
 ],
 "metadata": {
  "kernelspec": {
   "display_name": "python3",
   "language": "python",
   "name": "python3"
  }
 },
 "nbformat": 4,
 "nbformat_minor": 5
}
