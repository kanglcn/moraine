{
 "cells": [
  {
   "cell_type": "code",
   "execution_count": null,
   "id": "a6d47854-bbff-4018-a8c1-f659a52139ad",
   "metadata": {},
   "outputs": [],
   "source": [
    "#| default_exp coord_\n",
    "# internal utils for raster/pc transform."
   ]
  },
  {
   "cell_type": "code",
   "execution_count": null,
   "id": "72aaa8c4-93a7-4dcd-a49d-dbdcc1434105",
   "metadata": {},
   "outputs": [],
   "source": [
    "#| hide\n",
    "from nbdev.showdoc import *"
   ]
  },
  {
   "cell_type": "code",
   "execution_count": null,
   "id": "5ecc8942-ba04-4a7f-89a9-85c99c35a552",
   "metadata": {},
   "outputs": [],
   "source": [
    "#| export\n",
    "import numba\n",
    "import numpy as np\n",
    "import math\n",
    "from moraine.utils_ import ngjit,ngpjit\n",
    "from numba import prange"
   ]
  },
  {
   "cell_type": "code",
   "execution_count": null,
   "id": "eb3297e4-f909-46be-8732-d7ac904f6caf",
   "metadata": {},
   "outputs": [],
   "source": [
    "#| export\n",
    "# test shows this automatical parallel can accelerate 3x, \n",
    "# probablely because the data calculting is accelerated but the data writing is not\n",
    "@ngpjit\n",
    "def _coords2gixs(coords, x0, dx, nx, out):\n",
    "    '''input is 1d'''\n",
    "    for i in prange(coords.shape[0]):\n",
    "        _out = round((coords[i] - x0)/dx)\n",
    "        if _out < 0: _out = 0 # numba do not support raise error within prange, we can not raise error now\n",
    "        if _out > nx-1: _out=nx-1\n",
    "        out[i] = _out\n",
    "    # np.round((coords - x0)/dx,out=out) # the test shows the automatical parallel is not fast enough\n",
    "    # out[out < 0] = 0\n",
    "    # out[out > nx - 1] = nx - 1"
   ]
  },
  {
   "cell_type": "code",
   "execution_count": null,
   "id": "cc1f912b-ac67-4d6b-a6ea-71c96849afbc",
   "metadata": {},
   "outputs": [],
   "source": [
    "#| export\n",
    "class Coord(object):\n",
    "    '''utils for digitize raster and point cloud data, in a pyramid.\n",
    "    The coord is defined as the continuous coordinates, e.g., longitude & latitude.\n",
    "    The index is defined as the digitized index, (0,0,nx-1,ny-1).\n",
    "    '''\n",
    "    def __init__(self,x0,dx,nx,y0,dy,ny):\n",
    "        self.x0 = x0\n",
    "        self.dx = dx\n",
    "        assert nx <2**31-1, \"nx too big, may cause integer overflow.\"\n",
    "        self.nx = nx\n",
    "        self.xm = x0+(nx-1)*dx\n",
    "        self.y0 = y0\n",
    "        self.dy = dy\n",
    "        assert ny <2**31-1, \"ny too big, may cause integer overflow.\"\n",
    "        self.ny = ny\n",
    "        self.ym = y0+(ny-1)*dy\n",
    "        self.maxlevel = math.floor(math.log2(min(nx,ny)))\n",
    "        self.p = math.ceil(math.log2(max(nx,ny))) # order of the hillbert curve\n",
    "    \n",
    "    def max_gix(self,level):\n",
    "        return math.ceil(self.nx/(2**level))-1, math.ceil(self.ny/(2**level))-1\n",
    "    \n",
    "    def coord2gix(self,x,y,level):\n",
    "        # find the nearest xi and yi if x, y are not exactly on the grid\n",
    "        xi = round((x-self.x0)/self.dx/2**level)\n",
    "        yi = round((y-self.y0)/self.dy/2**level)\n",
    "        xi_max, yi_max = self.max_gix(level)\n",
    "        return sorted((0,xi,xi_max))[1], sorted((0,yi,yi_max))[1]\n",
    "    \n",
    "    def gix2coord(self,xi,yi,level):\n",
    "        xi_max, yi_max = self.max_gix(level)\n",
    "        xi, yi = sorted((0,xi,xi_max))[1], sorted((0,yi,yi_max))[1]\n",
    "        return xi*2**level*self.dx+self.x0, yi*2**level*self.dy+self.y0\n",
    "\n",
    "    def hv_bbox2gix_bbox(self,coord_bbox,level):\n",
    "        # holoview bounding box is always in continous coordinates\n",
    "        # index always truncated to include more data\n",
    "        x0, y0, xm, ym = coord_bbox\n",
    "        xi0 = math.floor((x0-self.x0)/self.dx/2**level+0.5)\n",
    "        yi0 = math.floor((y0-self.y0)/self.dy/2**level+0.5)\n",
    "        xim = math.ceil((xm-self.x0)/self.dx/2**level-0.5)\n",
    "        yim = math.ceil((ym-self.y0)/self.dy/2**level-0.5)\n",
    "\n",
    "        xi_max, yi_max = self.max_gix(level)\n",
    "        return sorted((0,xi0,xi_max))[1], sorted((0,yi0,yi_max))[1], sorted((0,xim,xi_max))[1], sorted((0,yim,yi_max))[1]\n",
    "\n",
    "    def gix_bbox2hv_bbox(self,gix_bbox, level):\n",
    "        # the bounding box in holoviews is not at the pixel center but at the pixel corner\n",
    "        xi_max, yi_max = self.max_gix(level)\n",
    "        xi0, yi0, xim, yim = gix_bbox\n",
    "        xi0, yi0, xim, yim = sorted((0,xi0,xi_max))[1], sorted((0,yi0,yi_max))[1], sorted((0,xim,xi_max))[1], sorted((0,yim,yi_max))[1]\n",
    "        return (xi0-0.5)*2**level*self.dx+self.x0, (yi0-0.5)*2**level*self.dy+self.y0, (xim+0.5)*2**level*self.dx+self.x0, (yim+0.5)*2**level*self.dy+self.y0\n",
    "    \n",
    "    def coords2gixs(\n",
    "        self,\n",
    "        coords, # shape [N, 2], first column: y coordinates, secondary column, x coordinates\n",
    "    ):\n",
    "        '''inputs are 2d arrays. Only zoom level = 0 supported.'''\n",
    "        out = np.empty_like(coords,dtype=np.int32)\n",
    "        _coords2gixs(coords[:,1], self.x0, self.dx, self.nx, out[:,1])\n",
    "        _coords2gixs(coords[:,0], self.y0, self.dy, self.ny, out[:,0])\n",
    "        return out\n",
    "    def rasterize_iidx(\n",
    "        self,\n",
    "        gix\n",
    "    ):\n",
    "        # the output is the inverse index (2D, same shape with ras), i.e., rasterized_ras = pc[iidx]\n",
    "        # but the nan value in rasterized ras is not filled\n",
    "        # it should be updated as rasterized_ras[iidx==-1] = np.nan\n",
    "        iidx = np.full((self.ny,self.nx),fill_value=-1,dtype=np.int64)\n",
    "        iidx[gix[:,0],gix[:,1]] = np.arange(gix.shape[0])\n",
    "        return iidx\n",
    "    def rasterize(self,pc, # point cloud data, can be a stack, shape (n_pc,...)\n",
    "                  gix, # 2D grid index of the pc, value within (0,0,im,jm), shape (2,n_pc)\n",
    "                  fill_value=np.nan, # fill value\n",
    "                 )->np.ndarray: # the raster data, the index of the original point cloud list \n",
    "        # the fill_value can not be np.nan if pc is integer\n",
    "        ras = np.full((self.ny,self.nx,*pc.shape[1:]),fill_value=fill_value,dtype=pc.dtype)\n",
    "        ras[gix[:,0],gix[:,1]] = pc\n",
    "        return ras"
   ]
  },
  {
   "cell_type": "code",
   "execution_count": null,
   "id": "5fd7539c-faee-462c-81b1-faed3fcad3c2",
   "metadata": {},
   "outputs": [],
   "source": [
    "coord = Coord(1.8,0.2,10,-1.2,0.2,10)\n",
    "\n",
    "pc = np.random.rand(5,3,2)\n",
    "x = np.array([1.91,1.88,1.87,3.43,2.8])\n",
    "y = np.array([-1.11,-1.09,-0.81,-0.4,0.11])\n",
    "gix = coord.coords2gixs(np.stack((y,x),axis=-1))\n",
    "np.testing.assert_array_equal(gix, np.stack(([0,1,2,4,7],[1,0,0,8,5]),axis=-1))\n",
    "# pc.shape, pc, gix"
   ]
  },
  {
   "cell_type": "code",
   "execution_count": null,
   "id": "8b6c6190-d4aa-403a-b8fc-be35754ff805",
   "metadata": {},
   "outputs": [],
   "source": [
    "ras = coord.rasterize(pc,gix)\n",
    "iidx = coord.rasterize_iidx(gix)\n",
    "assert ras.shape[2:] == pc.shape[1:]\n",
    "assert iidx.shape == (10,10)\n",
    "_ras = pc[iidx]\n",
    "_ras[iidx==-1] = np.nan\n",
    "np.testing.assert_array_equal(_ras, ras)"
   ]
  },
  {
   "cell_type": "code",
   "execution_count": null,
   "id": "2cd308d7-943d-45ec-984c-ecdeed499fb7",
   "metadata": {},
   "outputs": [
    {
     "data": {
      "text/plain": [
       "array([[0., 0.],\n",
       "       [0., 0.]])"
      ]
     },
     "execution_count": null,
     "metadata": {},
     "output_type": "execute_result"
    }
   ],
   "source": [
    "ras = np.zeros((2,2))\n",
    "ras"
   ]
  },
  {
   "cell_type": "code",
   "execution_count": null,
   "id": "c47c50c1-2a5f-4aaf-8e91-4aa13ad83aaa",
   "metadata": {},
   "outputs": [
    {
     "data": {
      "text/plain": [
       "array([[2., 0.],\n",
       "       [0., 0.]])"
      ]
     },
     "execution_count": null,
     "metadata": {},
     "output_type": "execute_result"
    }
   ],
   "source": [
    "ras[[0,0],[0,0]] = [1,2]\n",
    "ras # fill in the lastest value"
   ]
  },
  {
   "cell_type": "code",
   "execution_count": null,
   "id": "3b075189-fa1f-4177-817e-023cdc2455f9",
   "metadata": {},
   "outputs": [],
   "source": [
    "#| hide\n",
    "import nbdev; nbdev.nbdev_export()"
   ]
  },
  {
   "cell_type": "code",
   "execution_count": null,
   "id": "a8c173ba-a0ff-43fa-96e7-200da5904445",
   "metadata": {},
   "outputs": [],
   "source": []
  }
 ],
 "metadata": {
  "kernelspec": {
   "display_name": "python3",
   "language": "python",
   "name": "python3"
  }
 },
 "nbformat": 4,
 "nbformat_minor": 5
}
