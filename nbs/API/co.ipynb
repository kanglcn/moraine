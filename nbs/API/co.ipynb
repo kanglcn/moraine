{
 "cells": [
  {
   "cell_type": "markdown",
   "id": "ed055a83-94be-4d36-b89f-5347579058a1",
   "metadata": {},
   "source": [
    "# co\n",
    "\n",
    "> Covariance and Coherence Matrix Estimation"
   ]
  },
  {
   "cell_type": "code",
   "execution_count": null,
   "id": "812250d4-bf39-41ab-95ed-80911c2ab53a",
   "metadata": {},
   "outputs": [],
   "source": [
    "#| default_exp co"
   ]
  },
  {
   "cell_type": "code",
   "execution_count": null,
   "id": "02c2c334-26c2-466a-89bc-6b2f35eadcf3",
   "metadata": {},
   "outputs": [],
   "source": [
    "#| hide\n",
    "from nbdev.showdoc import *"
   ]
  },
  {
   "cell_type": "code",
   "execution_count": null,
   "id": "67bad67a-2e1c-43ba-a2f9-791a66320dc3",
   "metadata": {},
   "outputs": [],
   "source": [
    "import zarr\n",
    "import moraine as mr\n",
    "import math\n",
    "import itertools\n",
    "from moraine.utils_ import is_cuda_available\n",
    "if is_cuda_available():\n",
    "    import cupy as cp"
   ]
  },
  {
   "cell_type": "code",
   "execution_count": null,
   "id": "21218c00-7881-41e9-b422-5956c5ef4119",
   "metadata": {},
   "outputs": [],
   "source": [
    "#| export\n",
    "import math\n",
    "import numpy as np\n",
    "from moraine.utils_ import is_cuda_available, get_array_module\n",
    "if is_cuda_available():\n",
    "    import cupy as cp\n",
    "from typing import Union\n",
    "import moraine as mr\n",
    "from moraine.utils_ import ngpjit, ngjit\n",
    "from numba import prange"
   ]
  },
  {
   "cell_type": "markdown",
   "id": "7f442583-1b20-4e40-848d-1c9efc6a07fa",
   "metadata": {},
   "source": [
    "## interferograms"
   ]
  },
  {
   "cell_type": "code",
   "execution_count": null,
   "id": "c8638ffe-1de2-432c-bee5-c275462d1fb6",
   "metadata": {},
   "outputs": [],
   "source": [
    "#| export\n",
    "@ngpjit\n",
    "def multi_look(\n",
    "    rslc1, # reference rslc\n",
    "    rslc2, # secondary rslc\n",
    "    looks=(1,1), # # range and azimuth looks\n",
    "):\n",
    "    '''multi looked interferogram for raster data.'''\n",
    "    az_look, r_look = looks\n",
    "    out_ny = math.floor(rslc1.shape[0]/az_look)\n",
    "    out_nx = math.floor(rslc1.shape[1]/r_look)\n",
    "    out = np.empty((out_ny, out_nx),dtype=rslc1.dtype)\n",
    "    for i in prange(out_ny):\n",
    "        for j in range(out_nx):\n",
    "            az_start, az_stop = i*az_look, (i+1)*az_look\n",
    "            r_start, r_stop = j*r_look, (j+1)*r_look\n",
    "            rslc1_ = rslc1[az_start:az_stop, r_start:r_stop].flatten()\n",
    "            rslc2_ = rslc2[az_start:az_stop, r_start:r_stop].flatten()\n",
    "            dnmnt = math.sqrt(np.sum(rslc1_.real**2+rslc1_.imag**2)*np.sum(rslc2_.real**2+rslc2_.imag**2))\n",
    "            out[i,j] = np.sum(rslc1_*rslc2_.conj())/dnmnt\n",
    "    return out"
   ]
  },
  {
   "cell_type": "code",
   "execution_count": null,
   "id": "26b6e6bb-76d6-49c5-a6be-bda957bf659d",
   "metadata": {},
   "outputs": [],
   "source": [
    "#| export\n",
    "@ngpjit\n",
    "def intf(\n",
    "    rslc1, # reference rslc, arbitrary dims, e.g., 3D(raster stack), 2D(raster or point cloud stack) or 1D(point cloud)\n",
    "    rslc2, # secondary rslc\n",
    "):\n",
    "    '''1 by 1 look interferogram for both raster and point cloud.'''\n",
    "    shape = rslc1.shape\n",
    "    \n",
    "    rslc1 = rslc1.reshape(-1)\n",
    "    rslc2 = rslc2.reshape(-1)\n",
    "    intf = np.empty(rslc1.shape,dtype=rslc1.dtype)\n",
    "    for i in prange(rslc1.shape[0]):\n",
    "        intf[i] = rslc1[i]*np.conj(rslc2[i])/(np.abs(rslc1[i])*np.abs(rslc2[i]))\n",
    "    intf = intf.reshape(shape)\n",
    "    return intf"
   ]
  },
  {
   "cell_type": "markdown",
   "id": "c3af4f5d-3fcd-4446-96cc-b80b44a400d5",
   "metadata": {},
   "source": [
    "## Covariance and Coherence Matrix Estimator"
   ]
  },
  {
   "cell_type": "code",
   "execution_count": null,
   "id": "4a47217e-fca8-4cd3-8e42-d2f03305e5e6",
   "metadata": {},
   "outputs": [],
   "source": [
    "#| export\n",
    "if is_cuda_available():\n",
    "    _emperical_co_kernel = cp.ElementwiseKernel(\n",
    "        'raw T rslc, raw bool is_shp, int32 nlines, int32 width, int32 nimages, int32 az_half_win, int32 r_half_win',\n",
    "        'raw T cov, raw T coh',\n",
    "        '''\n",
    "        if (i >= nlines*width) return;\n",
    "        int az_win = 2*az_half_win+1;\n",
    "        int r_win = 2*r_half_win+1;\n",
    "        int win = az_win*r_win;\n",
    "        \n",
    "        int ref_az = i/width;\n",
    "        int ref_r = i -ref_az*width;\n",
    "    \n",
    "        int sec_az, sec_r;\n",
    "    \n",
    "        int m,j; // index of each coherence matrix\n",
    "        int k,l; // index of search window\n",
    "        T _cov; // covariance\n",
    "        float _amp2_m; // sum of amplitude square for image i\n",
    "        float _amp2_j; // sum of amplitude aquare for image j\n",
    "        int rslc_inx_m, rslc_inx_j;\n",
    "        int n; // number of shp\n",
    "    \n",
    "        for (m = 0; m < nimages; m++) {\n",
    "            for (j = 0; j < nimages; j++) {\n",
    "                _cov = T(0.0, 0.0);\n",
    "                _amp2_m = 0.0;\n",
    "                _amp2_j = 0.0;\n",
    "                n = 0;\n",
    "                for (k = 0; k < az_win; k++) {\n",
    "                    for (l = 0; l < r_win; l++) {\n",
    "                        sec_az = ref_az-az_half_win+k;\n",
    "                        sec_r = ref_r-r_half_win+l;\n",
    "                        if (is_shp[i*win+k*r_win+l] && sec_az >= 0 && sec_az < nlines && sec_r >= 0 && sec_r < width) {\n",
    "                            rslc_inx_m = (sec_az*width+sec_r)*nimages+m;\n",
    "                            rslc_inx_j = (sec_az*width+sec_r)*nimages+j;\n",
    "                            _amp2_m += norm(rslc[rslc_inx_m]);\n",
    "                            _amp2_j += norm(rslc[rslc_inx_j]);\n",
    "                            _cov += rslc[rslc_inx_m]*conj(rslc[rslc_inx_j]);\n",
    "                            n += 1;\n",
    "                            //if (i == 0 && m ==3 && j == 1) {\n",
    "                            //    printf(\"%f\",_cov.real());\n",
    "                            //}\n",
    "                        }\n",
    "                    }\n",
    "                }\n",
    "                cov[(i*nimages+m)*nimages+j] = _cov/(float)n;\n",
    "                //if ( i == 0 && m==3 && j ==1 ) printf(\"%d\",((i*nimages+m)*nimages+j));\n",
    "                _amp2_m = sqrt(_amp2_m*_amp2_j);\n",
    "                coh[(i*nimages+m)*nimages+j] = _cov/_amp2_m;\n",
    "            }\n",
    "        }\n",
    "        ''',\n",
    "        name = 'emperical_co_kernel',reduce_dims = False,no_return=True\n",
    "    )"
   ]
  },
  {
   "cell_type": "code",
   "execution_count": null,
   "id": "e457ce61-04b0-411a-a7ba-dd140c7967a6",
   "metadata": {},
   "outputs": [],
   "source": [
    "#| hide\n",
    "# havn't determine to use this one or not， don't use it as it launch more threads\n",
    "# and havn't determine to calculate only lower part of coh and cov and copy it to the upside.\n",
    "# Still worry about the index computing problem since only float64 works.\n",
    "# Since float64 works slow on most GPU, compute all coh and cov. \n",
    "if is_cuda_available():\n",
    "    _emperical_co_kernel1 = cp.ElementwiseKernel(\n",
    "        'raw T rslc, raw bool is_shp, int32 nlines, int32 width, int32 nimages, int32 az_half_win, int32 r_half_win',\n",
    "        'raw T cov, raw T coh',\n",
    "        '''\n",
    "        int az_win = 2*az_half_win+1;\n",
    "        int r_win = 2*r_half_win+1;\n",
    "        if (i >= nlines*width*az_win*r_win) return;\n",
    "        int win = az_win*r_win;\n",
    "        \n",
    "        int dim = i;\n",
    "        int j = dim%nimages; // (ref_az, ref_r, m, j)\n",
    "        dim = dim/nimages;\n",
    "        int m = dim%nimages;\n",
    "        dim = dim/nimages;\n",
    "        int ref_r = dim%width;\n",
    "        dim = dim/width;\n",
    "        int ref_az = dim%nlines;\n",
    "        \n",
    "        T _cov = T(0.0, 0.0); // covariance\n",
    "        float _amp2_m = 0; // sum of amplitude square for image i\n",
    "        float _amp2_j = 0; // sum of amplitude aquare for image j\n",
    "        int sec_az, sec_r;\n",
    "    \n",
    "        int n = 0;\n",
    "        int k,l; // index of search window\n",
    "        int rslc_inx_m, rslc_inx_j;\n",
    "    \n",
    "        for (k = 0; k < az_win; k++) {\n",
    "            for (l = 0; l < r_win; l++) {\n",
    "                sec_az = ref_az-az_half_win+k;\n",
    "                sec_r = ref_r-r_half_win+l;\n",
    "                if (is_shp[ref_az*width*win+ref_r*win+k*r_win+l] && sec_az >= 0 && sec_az < nlines && sec_r >= 0 && sec_r < width) {\n",
    "                    rslc_inx_m = (sec_az*width+sec_r)*nimages+m;\n",
    "                    rslc_inx_j = (sec_az*width+sec_r)*nimages+j;\n",
    "                    _amp2_m += norm(rslc[rslc_inx_m]);\n",
    "                    _amp2_j += norm(rslc[rslc_inx_j]);\n",
    "                    _cov += rslc[rslc_inx_m]*conj(rslc[rslc_inx_j]);\n",
    "                    n += 1;\n",
    "                }\n",
    "            }\n",
    "        }\n",
    "        int co_idx = ((ref_az*width+ref_r)*nimages+m)*nimages+j;\n",
    "        cov[co_idx] = _cov/(float)n;\n",
    "        _amp2_m = sqrt(_amp2_m*_amp2_j);\n",
    "        coh[co_idx] = _cov/_amp2_m;\n",
    "        ''',\n",
    "        name = 'emperical_co_kernel',reduce_dims = False,no_return=True\n",
    "    )\n",
    "    def emperical_co1(rslc:cp.ndarray, # rslc stack, dtype: `cupy.complexfloating`\n",
    "                     is_shp:cp.ndarray, # shp bool, dtype: `cupy.bool`\n",
    "                     block_size:int=128, # the CUDA block size, it only affects the calculation speed\n",
    "                    )-> tuple[cp.ndarray,cp.ndarray]: # the covariance and coherence matrix `cov` and `coh`\n",
    "        '''\n",
    "        Maximum likelihood covariance estimator.\n",
    "        '''\n",
    "        nlines, width, nimages = rslc.shape\n",
    "        az_win, r_win = is_shp.shape[-2:]\n",
    "        az_half_win = (az_win-1)//2\n",
    "        r_half_win = (r_win-1)//2\n",
    "    \n",
    "        cov = cp.empty((nlines,width,nimages,nimages),dtype=rslc.dtype)\n",
    "        coh = cp.empty((nlines,width,nimages,nimages),dtype=rslc.dtype)\n",
    "    \n",
    "        _emperical_co_kernel(rslc, is_shp, cp.int32(nlines),cp.int32(width),cp.int32(nimages),\n",
    "                        cp.int32(az_half_win),cp.int32(r_half_win),cov,coh,size = nlines*width*az_win*r_win,block_size=block_size)\n",
    "        return cov,coh"
   ]
  },
  {
   "cell_type": "code",
   "execution_count": null,
   "id": "fe0cfcec-4f28-48c2-b64c-8a1533373399",
   "metadata": {},
   "outputs": [],
   "source": [
    "#| export\n",
    "def emperical_co(rslc:np.ndarray, # rslc stack, dtype: `cupy.complexfloating`\n",
    "                 is_shp:np.ndarray, # shp bool, dtype: `cupy.bool`\n",
    "                 block_size:int=128, # the CUDA block size, it only affects the calculation speed\n",
    "                )-> tuple[np.ndarray,np.ndarray]: # the covariance and coherence matrix `cov` and `coh`\n",
    "    '''\n",
    "    Maximum likelihood covariance estimator.\n",
    "    '''\n",
    "    xp = get_array_module(rslc)\n",
    "    if xp is np:\n",
    "        raise NotImplementedError(\"Currently only cuda version available.\")\n",
    "    nlines, width, nimages = rslc.shape\n",
    "    az_win, r_win = is_shp.shape[-2:]\n",
    "    az_half_win = (az_win-1)//2\n",
    "    r_half_win = (r_win-1)//2\n",
    "\n",
    "    cov = cp.empty((nlines,width,nimages,nimages),dtype=rslc.dtype)\n",
    "    coh = cp.empty((nlines,width,nimages,nimages),dtype=rslc.dtype)\n",
    "\n",
    "    _emperical_co_kernel(rslc, is_shp, cp.int32(nlines),cp.int32(width),cp.int32(nimages),\n",
    "                    cp.int32(az_half_win),cp.int32(r_half_win),cov,coh,size = nlines*width,block_size=block_size)\n",
    "    return cov,coh"
   ]
  },
  {
   "cell_type": "markdown",
   "id": "d1b8070f-41b1-4afa-ba57-073bbc8be910",
   "metadata": {},
   "source": [
    "::: {.callout-warning}\n",
    "This function is deprecated as estimate coherence for all pixels are not necessary. Please use `emperical_co_pc` instead.\n",
    ":::"
   ]
  },
  {
   "cell_type": "markdown",
   "id": "f1a9112d-e913-4566-b98b-89766c640e78",
   "metadata": {},
   "source": [
    "The `cov` and `coh` is defined as:\n",
    "\n",
    "$$\n",
    "cov = E(z_1z_2^*) \\quad coh=\\frac{E(z_1z_2^*)}{\\sqrt{E(|z_1|^2)E(|z_2|^2)}}\n",
    "$$\n",
    "\n",
    "where $z_1$ and $z_2$ are the reference and secondary SLC images, respectively. `cov` and `coh` are estimated as:\n",
    "\n",
    "$$\n",
    "cov = \\frac{\\sum_{i=1}^{L}z_1^{i}z_2^{i*}}{L} \\quad coh = \\frac{\\sum_{i=1}^{L}z_1^{i}z_2^{i*}}{\\sqrt(\\sum_{i=1}^{L}|z_1^{i}|^2)(\\sum_{i=1}^{L}|z_2^{i}|^2)}\n",
    "$$\n",
    "\n",
    "using all selected SHPs. Their shapes are [nlines,width,nimages,nimages]. Note dim 2 and dim 3 are reference images and secondary images, respectively."
   ]
  },
  {
   "cell_type": "markdown",
   "id": "dd1add7f-708d-420c-9d9f-9d48baa52829",
   "metadata": {},
   "source": [
    "The `rslc` is a three dimentional cupy `ndarray`. The `dtype` should be `cupy.complex64`. From outerest to innerest, the three dimentions are azimuth, range and image.\n",
    "`is_shp` is a four dimentional cupy `ndarray`. It describes if pixels in the search window are SHP to the central pixel.\n",
    "From outerest ot innerest, they are azimuth, range, secondary pixel relative azimuth, secondary pixel relative range.\n",
    "\n",
    "Here is an example:"
   ]
  },
  {
   "cell_type": "code",
   "execution_count": null,
   "id": "b9b57ce6-0069-436b-b39e-d6072296be65",
   "metadata": {},
   "outputs": [],
   "source": [
    "# synthetic data\n",
    "rslc = np.random.rand(5,10,17).astype(np.float32) + 1j*np.random.rand(5,10,17).astype(np.float32)\n",
    "half_az_win = 1;\n",
    "half_r_win = 2;\n",
    "is_shp = np.random.choice(a=[False, True], size=(5,10,2*half_az_win+1,2*half_r_win+1), p=[0.3, 0.7])\n",
    "for i, j, k, l in itertools.product(range(is_shp.shape[0]),range(is_shp.shape[1]),range(is_shp.shape[2]),range(is_shp.shape[3])):\n",
    "    if (k == half_az_win) and (l == half_r_win):\n",
    "        is_shp[i,j,k,l] = True\n",
    "    if (i+k-half_az_win<0) or (i+k-half_az_win>=rslc.shape[0]) or (j+l-half_r_win<0) or (j+l-half_r_win>=rslc.shape[1]):\n",
    "        is_shp[i,j,k,l] = False"
   ]
  },
  {
   "cell_type": "code",
   "execution_count": null,
   "id": "2de5bedc-a805-45ab-b585-b081dda62dcd",
   "metadata": {},
   "outputs": [
    {
     "name": "stdout",
     "output_type": "stream",
     "text": [
      "(5, 10, 17) (5, 10, 3, 5) [[False False  True  True  True]\n",
      " [ True False  True  True  True]\n",
      " [False  True  True  True False]]\n"
     ]
    }
   ],
   "source": [
    "print(rslc.shape, is_shp.shape, is_shp[2,3])"
   ]
  },
  {
   "cell_type": "markdown",
   "id": "a8b42a0a-d146-46dd-bd06-7ed5f057100b",
   "metadata": {},
   "source": [
    "`rslc` is a stack of 17 rslc images. Each of the image has 5 pixel in azimuth dimention and 10 pixels in range dimention.\n",
    "It shows for pixel (2,3), the (3*5) window around it has 2 SHPs to it (the central one is itself)."
   ]
  },
  {
   "cell_type": "code",
   "execution_count": null,
   "id": "bb5514f7-38c1-451b-b7b5-a6df9d5cd3fc",
   "metadata": {},
   "outputs": [
    {
     "name": "stdout",
     "output_type": "stream",
     "text": [
      "(5, 10, 17, 17) (5, 10, 17, 17)\n"
     ]
    }
   ],
   "source": [
    "if is_cuda_available():\n",
    "    rslc_cp = cp.asarray(rslc)\n",
    "    is_shp_cp = cp.asarray(is_shp)\n",
    "    cov_cp,coh_cp = emperical_co(rslc_cp,is_shp_cp)\n",
    "    print(cov_cp.shape, coh_cp.shape)"
   ]
  },
  {
   "cell_type": "markdown",
   "id": "a03ce185-0be5-4067-9b4d-8268bccb25f9",
   "metadata": {},
   "source": [
    "Both `cov` and `coh` are complex data. The shape shows each covarience or coherence matrix is 17 by 17 since there are 17 images.\n",
    "And `cov` and `coh` are matrix for all 5*10 pixels."
   ]
  },
  {
   "cell_type": "code",
   "execution_count": null,
   "id": "add05abe-e482-41a6-bcba-3607a4329d22",
   "metadata": {},
   "outputs": [],
   "source": [
    "#| hide\n",
    "# test\n",
    "if is_cuda_available():\n",
    "    half_az_win = is_shp.shape[2]//2;\n",
    "    half_r_win = is_shp.shape[3]//2;\n",
    "    for i, j, k, l in itertools.product(range(rslc.shape[0]),range(rslc.shape[1]),range(rslc.shape[2]),range(rslc.shape[2])):\n",
    "        _cov = 0.0+0.0j\n",
    "        _amp2_k = 0.0\n",
    "        _amp2_l = 0.0\n",
    "        # shp_az, shp_r\n",
    "        n_shp = 0\n",
    "        for m, n in itertools.product(range(is_shp.shape[2]),range(is_shp.shape[3])):\n",
    "            if is_shp[i,j,m,n]:\n",
    "                _cov += rslc[i+m-half_az_win,j+n-half_r_win,k]*rslc[i+m-half_az_win,j+n-half_r_win,l].conj()\n",
    "                _amp2_k += abs(rslc[i+m-half_az_win,j+n-half_r_win,k])**2\n",
    "                _amp2_l += abs(rslc[i+m-half_az_win,j+n-half_r_win,l])**2\n",
    "                n_shp+=1\n",
    "        assert abs(_cov/n_shp-cov_cp[i,j,k,l])<1.0e-6\n",
    "        assert abs(_cov/math.sqrt(_amp2_k*_amp2_l) - coh_cp[i,j,k,l]) < 1.0e-6"
   ]
  },
  {
   "cell_type": "code",
   "execution_count": null,
   "id": "17e6debf-283d-48de-b687-ca2036754d50",
   "metadata": {},
   "outputs": [],
   "source": [
    "#| export\n",
    "if is_cuda_available():\n",
    "    _emperical_co_pc_kernel = cp.ElementwiseKernel(\n",
    "        'raw T rslc, raw I az_idx, raw I r_idx, raw bool pc_is_shp, raw I image_pair_ref, raw I image_pair_sec, int32 nlines, int32 width, int32 nimages, int32 az_half_win, int32 r_half_win, int32 n_pc, int32 n_image_pair',\n",
    "        'raw T coh',\n",
    "        '''\n",
    "        if (i >= n_pc) return;\n",
    "        int az_win = 2*az_half_win+1;\n",
    "        int r_win = 2*r_half_win+1;\n",
    "        int win = az_win*r_win;\n",
    "        \n",
    "        int ref_az = az_idx[i];\n",
    "        int ref_r = r_idx[i];\n",
    "    \n",
    "        int sec_az, sec_r;\n",
    "    \n",
    "        int m,j; // index of each coherence matrix\n",
    "        int pair_i; // index of image pairs\n",
    "        int k,l; // index of search window\n",
    "        T _co_nume; // covariance/coherence numerator\n",
    "        T _coh; // coherence\n",
    "        float _amp2_m; // sum of amplitude square for image i\n",
    "        float _amp2_j; // sum of amplitude aquare for image j\n",
    "        int rslc_inx_m, rslc_inx_j;\n",
    "\n",
    "        for (pair_i=0; pair_i < n_image_pair; pair_i++){\n",
    "            m = image_pair_ref[pair_i];\n",
    "            j = image_pair_sec[pair_i];\n",
    "            \n",
    "            _co_nume = T(0.0, 0.0);\n",
    "            _amp2_m = 0.0;\n",
    "            _amp2_j = 0.0;\n",
    "            for (k = 0; k < az_win; k++) {\n",
    "                for (l = 0; l < r_win; l++) {\n",
    "                    sec_az = ref_az-az_half_win+k;\n",
    "                    sec_r = ref_r-r_half_win+l;\n",
    "                    if (pc_is_shp[i*win+k*r_win+l] && sec_az >= 0 && sec_az < nlines && sec_r >= 0 && sec_r < width) {\n",
    "                        rslc_inx_m = (sec_az*width+sec_r)*nimages+m;\n",
    "                        rslc_inx_j = (sec_az*width+sec_r)*nimages+j;\n",
    "                        _amp2_m += norm(rslc[rslc_inx_m]);\n",
    "                        _amp2_j += norm(rslc[rslc_inx_j]);\n",
    "                        _co_nume += rslc[rslc_inx_m]*conj(rslc[rslc_inx_j]);\n",
    "                    }\n",
    "                }\n",
    "            }\n",
    "            _amp2_m = sqrt(_amp2_m*_amp2_j);\n",
    "            _coh = _co_nume/_amp2_m;\n",
    "            coh[i*n_image_pair+pair_i] = _coh;\n",
    "        }\n",
    "        ''',\n",
    "        name = 'emperical_co_pc_kernel',reduce_dims = False,no_return=True\n",
    "    )"
   ]
  },
  {
   "cell_type": "code",
   "execution_count": null,
   "id": "f13e8dac-db6c-4a2d-b90e-790ac4c0656d",
   "metadata": {},
   "outputs": [],
   "source": [
    "#| export\n",
    "@ngpjit\n",
    "def _emperical_co_pc_numba(\n",
    "    rslc,\n",
    "    az_idx,\n",
    "    r_idx,\n",
    "    pc_is_shp,\n",
    "    image_pairs,\n",
    "):\n",
    "    nlines, width, nimages = rslc.shape\n",
    "    n_pc = az_idx.shape[0]\n",
    "    az_win, r_win = pc_is_shp.shape[1:]\n",
    "    az_half_win, r_half_win = az_win//2, r_win//2\n",
    "    npairs = image_pairs.shape[0]\n",
    "\n",
    "    coh = np.empty((n_pc, npairs),dtype=rslc.dtype)\n",
    "\n",
    "    for i in prange(n_pc):\n",
    "        for pair_i in range(npairs):\n",
    "            m, j = image_pairs[pair_i]\n",
    "            _co_nume = 0.0 + 0.0j\n",
    "            _amp2_m = 0.0\n",
    "            _amp2_j = 0.0\n",
    "            for k in range(az_win):\n",
    "                for l in range(r_win):\n",
    "                    az_idx_ = az_idx[i] - az_half_win + k\n",
    "                    r_idx_ = r_idx[i] - r_half_win + l\n",
    "                    if (az_idx_ >= 0) and (az_idx_ < nlines) and (r_idx_ >= 0) and (r_idx_ < width) and pc_is_shp[i,k,l]:\n",
    "                        rslc_m = rslc[az_idx_, r_idx_, m]\n",
    "                        rslc_j = rslc[az_idx_, r_idx_, j]\n",
    "                        _amp2_m += rslc_m.real**2 + rslc_m.imag**2\n",
    "                        _amp2_j += rslc_j.real**2 + rslc_j.imag**2\n",
    "                        _co_nume += rslc_m*np.conj(rslc_j)\n",
    "            _coh = _co_nume/math.sqrt(_amp2_m*_amp2_j)\n",
    "            coh[i,pair_i] = _coh\n",
    "    return coh"
   ]
  },
  {
   "cell_type": "code",
   "execution_count": null,
   "id": "918f3c7b-9cdf-448b-a729-035c3c599c80",
   "metadata": {},
   "outputs": [],
   "source": [
    "#| export\n",
    "def emperical_co_pc(rslc:np.ndarray, # rslc stack, dtype: `np.complex64`\n",
    "                    idx:np.ndarray, # index of point target (azimuth_index, range_index), dtype: `np.int32`, shape: (n_pc, 2)\n",
    "                    pc_is_shp:np.ndarray, # shp bool, dtype: `bool`\n",
    "                    block_size:int=128, # the CUDA block size, it only affects the calculation speed\n",
    "                    image_pairs:np.ndarray=None, # only coherence of those image pairs will estimated, dtype: `np.int32`, shape: (n_image_pair, 2)\n",
    "                   )-> np.ndarray: # `coh`, dtype:`np.complex64`, shape(n_pc, n_image_pair)\n",
    "    '''\n",
    "    Maximum likelihood covariance estimator for point cloud data.\n",
    "    '''\n",
    "    xp = get_array_module(rslc)\n",
    "    nlines, width, nimages = rslc.shape\n",
    "    az_win, r_win = pc_is_shp.shape[-2:]\n",
    "    az_half_win = (az_win-1)//2\n",
    "    r_half_win = (r_win-1)//2\n",
    "    idx = idx.astype(np.int32)\n",
    "    az_idx = idx[:,0]; r_idx = idx[:,1]\n",
    "    n_pc = az_idx.shape[0]\n",
    "\n",
    "    if image_pairs is None:\n",
    "        image_pairs = mr.TempNet.from_bandwidth(nimages).image_pairs\n",
    "    image_pairs = image_pairs.astype(np.int32)\n",
    "\n",
    "    if xp is np:\n",
    "        return _emperical_co_pc_numba(rslc,az_idx,r_idx,pc_is_shp,image_pairs)\n",
    "\n",
    "    else:\n",
    "        image_pairs = cp.asarray(image_pairs)\n",
    "        coh = cp.empty((n_pc,image_pairs.shape[0]),dtype=rslc.dtype)\n",
    "        _emperical_co_pc_kernel(\n",
    "            rslc, az_idx, r_idx, pc_is_shp, image_pairs[:,0], image_pairs[:,1],\n",
    "            cp.int32(nlines),cp.int32(width),cp.int32(nimages),\n",
    "            cp.int32(az_half_win),cp.int32(r_half_win),\n",
    "            cp.int32(n_pc), cp.int32(image_pairs.shape[0]),\n",
    "            coh,\n",
    "            size = n_pc,block_size=block_size\n",
    "        )\n",
    "        return coh"
   ]
  },
  {
   "cell_type": "markdown",
   "id": "bb24a94c-d24c-4151-a33d-6eaeb7694d31",
   "metadata": {},
   "source": [
    "`emperical_co_pc` is the `emperical_co` on sparse data, e.g., DSs. `rslc` is same as `emperical_co`. `sp_idx` is the index, i.e., a tuple of (azimuth_idx, range_idx). Each index is 1D array. `pc_is_shp` is similar to `is_shp` in `emperical_co` but it only contains information about the point cloud data. It is a 3D array with shape [number_of_point,az_win,r_win].\n",
    "\n",
    "Compared with `emperical_co`, `emperical_co_pc` only estimate coherence at specific position so the memory usage is much small.\n",
    "\n",
    "`emperical_co` only return the coherence of specified image pairs to save data volume (compressed coherence).\n",
    "By default, only the upper triangle (with offset=1) of the coherence matrix is returned.\n",
    "\n",
    "Example:"
   ]
  },
  {
   "cell_type": "code",
   "execution_count": null,
   "id": "006c1590-0e18-47d2-aa63-68d84d49c543",
   "metadata": {},
   "outputs": [
    {
     "name": "stdout",
     "output_type": "stream",
     "text": [
      "(5, 10, 17) (15, 2) (15, 3, 5)\n"
     ]
    }
   ],
   "source": [
    "# synthetic data\n",
    "rslc = np.random.rand(5,10,17).astype(np.float32) + 1j*np.random.rand(5,10,17).astype(np.float32)\n",
    "half_az_win = 1;\n",
    "half_r_win = 2;\n",
    "\n",
    "is_shp = np.random.choice(a=[False, True], size=(5,10,2*half_az_win+1,2*half_r_win+1), p=[0.9, 0.1])\n",
    "# ensure the format of is_shp is correct:\n",
    "for i, j, k, l in itertools.product(range(is_shp.shape[0]),range(is_shp.shape[1]),range(is_shp.shape[2]),range(is_shp.shape[3])):\n",
    "    if (k == half_az_win) and (l == half_r_win):\n",
    "        is_shp[i,j,k,l] = True\n",
    "    if (i+k-half_az_win<0) or (i+k-half_az_win>=rslc.shape[0]) or (j+l-half_r_win<0) or (j+l-half_r_win>=rslc.shape[1]):\n",
    "        is_shp[i,j,k,l] = False\n",
    "\n",
    "shp_num = np.count_nonzero(is_shp,axis=(-2,-1))\n",
    "is_ds_can = shp_num >= 3\n",
    "ds_can_is_shp = is_shp[is_ds_can]\n",
    "ds_can_idx = np.stack(np.where(is_ds_can),axis=-1)\n",
    "\n",
    "print(rslc.shape,ds_can_idx.shape,ds_can_is_shp.shape)"
   ]
  },
  {
   "cell_type": "markdown",
   "id": "f0c49459-542f-4ce1-bdfa-28e41a9869b9",
   "metadata": {},
   "source": [
    "`rslc` is a stack of 17 rslc images. Each of the image has 5 pixel in azimuth dimention and 10 pixels in range dimention.\n",
    "`ds_can_idx` shows the index of the DS candidates and `ds_can_is_shp` shows the corrosponding SHPs."
   ]
  },
  {
   "cell_type": "code",
   "execution_count": null,
   "id": "a8504bf4-37be-4331-9a63-74d379d57b30",
   "metadata": {},
   "outputs": [],
   "source": [
    "ds_can_coh = emperical_co_pc(rslc,ds_can_idx,ds_can_is_shp)"
   ]
  },
  {
   "cell_type": "code",
   "execution_count": null,
   "id": "70e576c2-a925-43ee-a477-ba2001b1b2bc",
   "metadata": {},
   "outputs": [
    {
     "data": {
      "text/plain": [
       "(15, 136)"
      ]
     },
     "execution_count": null,
     "metadata": {},
     "output_type": "execute_result"
    }
   ],
   "source": [
    "ds_can_coh.shape"
   ]
  },
  {
   "cell_type": "markdown",
   "id": "08a69c4c-be01-4d65-9b33-a27473c66cfc",
   "metadata": {},
   "source": [
    "The shape of the coherence matrix is (17,17) while only the upper triangle of it is returned (136 elements)."
   ]
  },
  {
   "cell_type": "markdown",
   "id": "ffd3f168-155d-4784-99a0-6c53958528e7",
   "metadata": {},
   "source": [
    "Or, we can specify the image pairs:"
   ]
  },
  {
   "cell_type": "code",
   "execution_count": null,
   "id": "f7923fb6-b98a-47b2-8f80-d0a561d3a0ad",
   "metadata": {},
   "outputs": [
    {
     "name": "stdout",
     "output_type": "stream",
     "text": [
      "(9, 2)\n",
      "(15, 9)\n"
     ]
    }
   ],
   "source": [
    "tempnet = mr.TempNet.from_bandwidth(rslc.shape[0],bandwidth=3)\n",
    "print(tempnet.image_pairs.shape) # 9 rslc image pairs\n",
    "ds_can_coh = emperical_co_pc(rslc,ds_can_idx,ds_can_is_shp,image_pairs=tempnet.image_pairs)\n",
    "print(ds_can_coh.shape)"
   ]
  },
  {
   "cell_type": "markdown",
   "id": "6c36241d-df81-4e2b-87ab-504245e7bcd0",
   "metadata": {},
   "source": [
    "Input `cupy.ndarray` is also supported:"
   ]
  },
  {
   "cell_type": "code",
   "execution_count": null,
   "id": "761c6acb-9bcf-4e7b-9898-4a3481d0df71",
   "metadata": {},
   "outputs": [],
   "source": [
    "if is_cuda_available():\n",
    "    rslc_cp = cp.asarray(rslc)\n",
    "    ds_can_idx_cp = cp.asarray(ds_can_idx)\n",
    "    ds_can_is_shp_cp = cp.asarray(ds_can_is_shp)\n",
    "    ds_can_coh_cp = emperical_co_pc(rslc_cp,ds_can_idx_cp,ds_can_is_shp_cp)"
   ]
  },
  {
   "cell_type": "code",
   "execution_count": null,
   "id": "847adbc8-0f98-4904-863b-e922d2dfc2e9",
   "metadata": {},
   "outputs": [],
   "source": [
    "#| hide\n",
    "#| test if cpu and gpu version generate similar result\n",
    "if is_cuda_available():\n",
    "    ds_can_coh = emperical_co_pc(rslc,ds_can_idx,ds_can_is_shp)\n",
    "    rslc_cp = cp.asarray(rslc)\n",
    "    ds_can_idx_cp = cp.asarray(ds_can_idx)\n",
    "    ds_can_is_shp_cp = cp.asarray(ds_can_is_shp)\n",
    "    ds_can_coh_cp = emperical_co_pc(rslc_cp,ds_can_idx_cp,ds_can_is_shp_cp)\n",
    "    np.testing.assert_array_almost_equal(ds_can_coh, cp.asnumpy(ds_can_coh_cp))"
   ]
  },
  {
   "cell_type": "code",
   "execution_count": null,
   "id": "ab0b0b18-56f0-45a6-9a92-e914f2f60bc4",
   "metadata": {},
   "outputs": [],
   "source": [
    "#| hide\n",
    "if is_cuda_available():\n",
    "    #| test if return_cov change the returned coh for gpu version\n",
    "    rslc_cp = cp.asarray(rslc)\n",
    "    is_shp_cp = cp.asarray(is_shp)\n",
    "    ds_can_idx_cp = cp.asarray(ds_can_idx)\n",
    "    ds_can_is_shp_cp = cp.asarray(ds_can_is_shp)\n",
    "    ds_can_coh_cp = emperical_co_pc(rslc_cp,ds_can_idx_cp,ds_can_is_shp_cp)\n",
    "\n",
    "    #| test if emperical_co and emperical_co_pc generate same result\n",
    "    cov_cp,coh_cp = emperical_co(rslc_cp,is_shp_cp)\n",
    "    pairs = cp.triu_indices(rslc_cp.shape[2],1)\n",
    "    cp.testing.assert_array_almost_equal(coh_cp[is_ds_can][:,pairs[0],pairs[1]],ds_can_coh_cp)"
   ]
  },
  {
   "cell_type": "code",
   "execution_count": null,
   "id": "3bb27a4a-d09a-4689-b620-04b0d5176b33",
   "metadata": {},
   "outputs": [],
   "source": [
    "#| export\n",
    "#| hide\n",
    "@ngjit\n",
    "def uncompress_single_coh_numba(coh, nimages, image_pairs):\n",
    "    uncompressed_coh = np.zeros((nimages,nimages),dtype=coh.dtype)\n",
    "    ref_images, sec_images = image_pairs[:,0], image_pairs[:,1]\n",
    "    for i in range(ref_images.shape[0]):\n",
    "        uncompressed_coh[ref_images[i], sec_images[i]] = coh[i]\n",
    "        uncompressed_coh[sec_images[i], ref_images[i]] = np.conj(coh[i])\n",
    "    for i in range(nimages):\n",
    "        uncompressed_coh[i,i] = 1\n",
    "    return uncompressed_coh"
   ]
  },
  {
   "cell_type": "code",
   "execution_count": null,
   "id": "e8b23dde-5845-4688-8701-13d62116b31d",
   "metadata": {},
   "outputs": [],
   "source": [
    "#| export\n",
    "def uncompress_coh(\n",
    "    coh:np.ndarray, # compressed coherence stack, dtype: `np.complex64`, shape(...,n_image_pair)\n",
    "    image_pairs:np.ndarray=None, # image pairs, dtype: `np.int32`, shape: (n_image_pair, 2), all pairs by default\n",
    ")-> np.ndarray: # uncompressed, dtype:`np.complex64`, shape(..., n_image_pair)\n",
    "    '''\n",
    "    uncompress coh matrix to a hermitian matrix\n",
    "    '''\n",
    "    xp = get_array_module(coh)\n",
    "    if image_pairs is None:\n",
    "        nimages = mr.nimage_from_npair(coh.shape[-1])\n",
    "        image_pairs = mr.TempNet.from_bandwidth(nimages).image_pairs\n",
    "    else:\n",
    "        nimages = image_pairs[-1,-1]+1\n",
    "    uncompressed_coh = xp.zeros((*coh.shape[:-1],nimages,nimages),dtype=coh.dtype)\n",
    "    ref_images, sec_images = image_pairs[:,0], image_pairs[:,1]\n",
    "    uncompressed_coh[...,ref_images,sec_images] = coh\n",
    "    uncompressed_coh[...,sec_images,ref_images] = coh.conj()\n",
    "    uncompressed_coh[...,np.arange(nimages),np.arange(nimages)] = 1\n",
    "    return uncompressed_coh"
   ]
  },
  {
   "cell_type": "markdown",
   "id": "c82d5f6c-bb63-4515-abee-467cfdf50400",
   "metadata": {},
   "source": [
    "Example:"
   ]
  },
  {
   "cell_type": "code",
   "execution_count": null,
   "id": "cbc83da9-c6a9-4098-b17f-f5cc44ac75dc",
   "metadata": {},
   "outputs": [
    {
     "name": "stdout",
     "output_type": "stream",
     "text": [
      "(7, 2)\n"
     ]
    },
    {
     "data": {
      "text/plain": [
       "array([[1.        , 0.4716678 , 0.39860973, 0.        , 0.        ],\n",
       "       [0.4716678 , 1.        , 0.684652  , 0.02614279, 0.        ],\n",
       "       [0.39860973, 0.684652  , 1.        , 0.15002352, 0.7777326 ],\n",
       "       [0.        , 0.02614279, 0.15002352, 1.        , 0.31114686],\n",
       "       [0.        , 0.        , 0.7777326 , 0.31114686, 1.        ]],\n",
       "      dtype=float32)"
      ]
     },
     "execution_count": null,
     "metadata": {},
     "output_type": "execute_result"
    }
   ],
   "source": [
    "nimages = 5\n",
    "tempnet = mr.TempNet.from_bandwidth(nimages,bandwidth=2)\n",
    "print(tempnet.image_pairs.shape)\n",
    "coh = np.random.rand(tempnet.image_pairs.shape[0]).astype(np.float32) + 1j*np.random.rand(tempnet.image_pairs.shape[0]).astype(np.float32)\n",
    "uncompressed_coh = uncompress_coh(coh,tempnet.image_pairs)\n",
    "uncompressed_coh.real"
   ]
  },
  {
   "cell_type": "code",
   "execution_count": null,
   "id": "973bb7ca-8d12-4500-b5a8-e4c89033b215",
   "metadata": {},
   "outputs": [],
   "source": [
    "#| export\n",
    "@ngpjit\n",
    "def _ad_intf_pc_numba(\n",
    "    ref_rslc,\n",
    "    sec_rslc,\n",
    "    az_idx,\n",
    "    r_idx,\n",
    "    pc_is_shp,\n",
    "):\n",
    "    nlines, width = ref_rslc.shape\n",
    "    n_pc = az_idx.shape[0]\n",
    "    az_win, r_win = pc_is_shp.shape[1:]\n",
    "    az_half_win, r_half_win = az_win//2, r_win//2\n",
    "\n",
    "    inf = np.empty(n_pc,dtype=rslc.dtype)\n",
    "\n",
    "    for i in prange(n_pc):\n",
    "        _co_nume = 0.0 + 0.0j\n",
    "        _ref_amp2 = 0.0\n",
    "        _sec_amp2 = 0.0\n",
    "        for k in range(az_win):\n",
    "            for l in range(r_win):\n",
    "                az_idx_ = az_idx[i] - az_half_win + k\n",
    "                r_idx_ = r_idx[i] - r_half_win + l\n",
    "                if (az_idx_ >= 0) and (az_idx_ < nlines) and (r_idx_ >= 0) and (r_idx_ < width) and pc_is_shp[i,k,l]:\n",
    "                    _ref_rslc = ref_rslc[az_idx_, r_idx_]\n",
    "                    _sec_rslc = sec_rslc[az_idx_, r_idx_]\n",
    "                    _ref_amp2 += _ref_rslc.real**2 + _ref_rslc.imag**2\n",
    "                    _sec_amp2 += _sec_rslc.real**2 + _sec_rslc.imag**2\n",
    "                    _co_nume += _ref_rslc*np.conj(_sec_rslc)\n",
    "        _inf = _co_nume/math.sqrt(_ref_amp2*_sec_amp2)\n",
    "        inf[i] = _inf\n",
    "    return inf"
   ]
  },
  {
   "cell_type": "code",
   "execution_count": null,
   "id": "3a96aa6d-ca0e-475d-9447-d28ca53338a2",
   "metadata": {},
   "outputs": [],
   "source": [
    "#| export\n",
    "if is_cuda_available():\n",
    "    _ad_intf_pc_kernel = cp.ElementwiseKernel(\n",
    "        'raw T ref_rslc, raw T sec_rslc, raw I az_idx, raw I r_idx, raw bool pc_is_shp, int32 nlines, int32 width, int32 az_half_win, int32 r_half_win, int32 n_pc',\n",
    "        'raw T intf',\n",
    "        '''\n",
    "        if (i >= n_pc) return;\n",
    "        int az_win = 2*az_half_win+1;\n",
    "        int r_win = 2*r_half_win+1;\n",
    "        int win = az_win*r_win;\n",
    "        \n",
    "        int ref_az = az_idx[i];\n",
    "        int ref_r = r_idx[i];\n",
    "    \n",
    "        int sec_az, sec_r;\n",
    "    \n",
    "        int k,l; // index of search window\n",
    "        T _co_nume = T(0.0, 0.0); // covariance/coherence numerator\n",
    "        T _intf; // coherence\n",
    "        float _ref_amp2 = 0.0; // sum of amplitude square for ref image\n",
    "        float _sec_amp2 = 0.0; // sum of amplitude aquare for sec image\n",
    "        int _rslc_idx;\n",
    "        for (k = 0; k < az_win; k++) {\n",
    "            for (l = 0; l < r_win; l++) {\n",
    "                sec_az = ref_az-az_half_win+k;\n",
    "                sec_r = ref_r-r_half_win+l;\n",
    "                if (pc_is_shp[i*win+k*r_win+l] && sec_az >= 0 && sec_az < nlines && sec_r >= 0 && sec_r < width) {\n",
    "                    _rslc_idx = sec_az*width+sec_r;\n",
    "                    _ref_amp2 += norm(ref_rslc[_rslc_idx]);\n",
    "                    _sec_amp2 += norm(sec_rslc[_rslc_idx]);\n",
    "                    _co_nume += ref_rslc[_rslc_idx]*conj(sec_rslc[_rslc_idx]);\n",
    "                }\n",
    "            }\n",
    "        }\n",
    "        _intf = _co_nume/sqrt(_ref_amp2*_sec_amp2);\n",
    "        intf[i] = _intf;\n",
    "        ''',\n",
    "        name = 'ad_intf_pc_kernel',reduce_dims = False,no_return=True\n",
    "    )"
   ]
  },
  {
   "cell_type": "code",
   "execution_count": null,
   "id": "a828879b-fa6c-437c-b6de-44ca261b2109",
   "metadata": {},
   "outputs": [],
   "source": [
    "#| export\n",
    "def ad_intf_pc(\n",
    "    ref_rslc:np.ndarray, # reference rslc, dtype: `np.complex64`\n",
    "    sec_rslc:np.ndarray, # secondary rslc, dtype: `np.complex64`\n",
    "    idx:np.ndarray, # index of point target (azimuth_index, range_index), dtype: `np.int32`, shape: (n_pc, 2)\n",
    "    pc_is_shp:np.ndarray, # shp bool, dtype: `bool`\n",
    "    block_size:int=128, # the CUDA block size, it only affects the calculation speed\n",
    ")-> np.ndarray: # `coh`, dtype:`np.complex64`, shape(n_pc, n_image_pair)\n",
    "    '''\n",
    "    Adaptive multilooking interferogram generation for point cloud data.\n",
    "    '''\n",
    "    xp = get_array_module(ref_rslc)\n",
    "    if xp is np:\n",
    "        return _ad_intf_pc_numba(ref_rslc, sec_rslc, idx[:,0], idx[:,1], pc_is_shp)\n",
    "    else:\n",
    "        nlines, width = ref_rslc.shape\n",
    "        n_pc = idx.shape[0]\n",
    "        az_win, r_win = pc_is_shp.shape[-2:]\n",
    "        az_half_win = (az_win-1)//2\n",
    "        r_half_win = (r_win-1)//2\n",
    "        inf = cp.empty(n_pc,dtype=ref_rslc.dtype)\n",
    "        _ad_intf_pc_kernel(\n",
    "            ref_rslc, sec_rslc,\n",
    "            idx[:,0], idx[:,1],\n",
    "            pc_is_shp,\n",
    "            cp.int32(nlines), cp.int32(width),\n",
    "            cp.int32(az_half_win), cp.int32(r_half_win),\n",
    "            cp.int32(n_pc),\n",
    "            inf,\n",
    "            size = n_pc, block_size=block_size\n",
    "        )\n",
    "        return inf"
   ]
  },
  {
   "cell_type": "markdown",
   "id": "070c237d-ad13-4eef-9c34-487d2cbce777",
   "metadata": {},
   "source": [
    "`adf_intf_pc` is similar to `emperical_co_pc` but only one interferogram generated."
   ]
  },
  {
   "cell_type": "markdown",
   "id": "e99c35ad-76bd-4332-a560-b19300851d7b",
   "metadata": {},
   "source": [
    "Example:"
   ]
  },
  {
   "cell_type": "code",
   "execution_count": null,
   "id": "a1166a17-7d41-4d25-97fb-a83d66c7934c",
   "metadata": {},
   "outputs": [
    {
     "name": "stdout",
     "output_type": "stream",
     "text": [
      "(5, 10, 17) (14, 2) (14, 3, 5)\n"
     ]
    }
   ],
   "source": [
    "# synthetic data\n",
    "rslc = np.random.rand(5,10,17).astype(np.float32) + 1j*np.random.rand(5,10,17).astype(np.float32)\n",
    "half_az_win = 1;\n",
    "half_r_win = 2;\n",
    "\n",
    "is_shp = np.random.choice(a=[False, True], size=(5,10,2*half_az_win+1,2*half_r_win+1), p=[0.9, 0.1])\n",
    "# ensure the format of is_shp is correct:\n",
    "for i, j, k, l in itertools.product(range(is_shp.shape[0]),range(is_shp.shape[1]),range(is_shp.shape[2]),range(is_shp.shape[3])):\n",
    "    if (k == half_az_win) and (l == half_r_win):\n",
    "        is_shp[i,j,k,l] = True\n",
    "    if (i+k-half_az_win<0) or (i+k-half_az_win>=rslc.shape[0]) or (j+l-half_r_win<0) or (j+l-half_r_win>=rslc.shape[1]):\n",
    "        is_shp[i,j,k,l] = False\n",
    "\n",
    "shp_num = np.count_nonzero(is_shp,axis=(-2,-1))\n",
    "is_ds_can = shp_num >= 3\n",
    "ds_can_is_shp = is_shp[is_ds_can]\n",
    "ds_can_idx = np.stack(np.where(is_ds_can),axis=-1)\n",
    "\n",
    "print(rslc.shape,ds_can_idx.shape,ds_can_is_shp.shape)"
   ]
  },
  {
   "cell_type": "code",
   "execution_count": null,
   "id": "7605b2a8-a42a-4755-a4d6-6e0c74748716",
   "metadata": {},
   "outputs": [],
   "source": [
    "ds_can_coh = emperical_co_pc(rslc,ds_can_idx,ds_can_is_shp)\n",
    "inf = ad_intf_pc(rslc[:,:,0],rslc[:,:,1],ds_can_idx,ds_can_is_shp)\n",
    "np.testing.assert_array_equal(ds_can_coh[:,0],inf)"
   ]
  },
  {
   "cell_type": "code",
   "execution_count": null,
   "id": "9b49c57d-d56d-4f0a-9a6d-85c1b5113684",
   "metadata": {},
   "outputs": [],
   "source": [
    "#| hide\n",
    "if is_cuda_available:\n",
    "    ds_can_coh = emperical_co_pc(cp.asarray(rslc),cp.asarray(ds_can_idx),cp.asarray(ds_can_is_shp))\n",
    "    inf = ad_intf_pc(cp.asarray(rslc[:,:,0]),cp.asarray(rslc[:,:,1]),cp.asarray(ds_can_idx),cp.asarray(ds_can_is_shp))\n",
    "    np.testing.assert_array_equal(ds_can_coh[:,0].get(),inf.get())"
   ]
  },
  {
   "cell_type": "markdown",
   "id": "7838b3c1-3766-4d10-8c26-c181a046648e",
   "metadata": {},
   "source": [
    "## Covariance and Coherence Matrix Regularizer"
   ]
  },
  {
   "cell_type": "code",
   "execution_count": null,
   "id": "8d57844f-8b04-4da7-82c4-1d77a78e017b",
   "metadata": {},
   "outputs": [],
   "source": [
    "#| export\n",
    "def isPD(co:np.ndarray, # absolute value of complex coherence/covariance stack\n",
    "         )-> np.ndarray: # bool array indicating wheather coherence/covariance is positive define\n",
    "    xp = get_array_module(co)\n",
    "    L = xp.linalg.cholesky(co)\n",
    "    is_PD = xp.isfinite(L).all(axis=(-2,-1))\n",
    "    return is_PD"
   ]
  },
  {
   "cell_type": "markdown",
   "id": "55a8ac08-3084-45f4-a795-de4305a9b2ec",
   "metadata": {},
   "source": [
    "::: {.callout-warning}\n",
    "This function is deprecated.\n",
    ":::"
   ]
  },
  {
   "cell_type": "markdown",
   "id": "6d15f091-16c4-4f8a-ac79-9ac7f0a0e223",
   "metadata": {},
   "source": [
    "This function tells if the matrix is positive defined or not. "
   ]
  },
  {
   "cell_type": "code",
   "execution_count": null,
   "id": "64102a7e-790f-4e23-9032-3fff8081fa7c",
   "metadata": {},
   "outputs": [],
   "source": [
    "#| code-fold: true\n",
    "#| code-summary: \"Code for generating data for doc\"\n",
    "rslc = zarr.open('../../data/rslc.zarr/','r')[600:650,600:650]\n",
    "if is_cuda_available():\n",
    "    rslc = cp.asarray(rslc)\n",
    "    \n",
    "    # SHP selection\n",
    "    az_half_win = 5; r_half_win = 5\n",
    "    az_win = 2*az_half_win+1; r_win = 2*r_half_win+1\n",
    "    \n",
    "    rmli = cp.abs(rslc)**2\n",
    "    sorted_rmli = cp.sort(rmli,axis=-1)\n",
    "    p = mr.ks_test(sorted_rmli,az_half_win=az_half_win,r_half_win=r_half_win)\n",
    "    is_shp = p < 0.05\n",
    "    \n",
    "    # Select DS candidate\n",
    "    shp_num = cp.count_nonzero(is_shp,axis=(-2,-1))\n",
    "    is_ds_can = shp_num >= 50\n",
    "    ds_can_is_shp = is_shp[is_ds_can]\n",
    "    ds_can_idx = cp.stack(cp.where(is_ds_can),axis=-1)\n",
    "    \n",
    "    ds_can_coh = uncompress_coh(emperical_co_pc(rslc,ds_can_idx,ds_can_is_shp))"
   ]
  },
  {
   "cell_type": "code",
   "execution_count": null,
   "id": "a613fb00-cba5-4470-9d13-c08d22a59a7f",
   "metadata": {},
   "outputs": [
    {
     "name": "stdout",
     "output_type": "stream",
     "text": [
      "(0, 17, 17)\n"
     ]
    }
   ],
   "source": [
    "if is_cuda_available():\n",
    "    print(ds_can_coh.shape)"
   ]
  },
  {
   "cell_type": "code",
   "execution_count": null,
   "id": "1c483118-6d27-44fa-9ea7-e5173c220fdb",
   "metadata": {},
   "outputs": [
    {
     "name": "stdout",
     "output_type": "stream",
     "text": [
      "[]\n"
     ]
    }
   ],
   "source": [
    "if is_cuda_available():\n",
    "    isPD_ds_can = isPD(ds_can_coh)\n",
    "    print(isPD_ds_can)"
   ]
  },
  {
   "cell_type": "markdown",
   "id": "6c772a36-2c72-49a6-9a8e-be3529597085",
   "metadata": {},
   "source": [
    "All coherence matrix are positive defined."
   ]
  },
  {
   "cell_type": "code",
   "execution_count": null,
   "id": "4e2b92ca-af8d-4a4e-9f51-753accf08fcd",
   "metadata": {},
   "outputs": [],
   "source": [
    "#| export\n",
    "'''\n",
    "    The method is presented in [1]. John D'Errico implented it in MATLAB [2] under BSD\n",
    "    Licence and [3] implented it with Python/Numpy based on [2] also under BSD Licence.\n",
    "    This is a cupy implentation with stack of matrix supported.\n",
    "\n",
    "    [1] N.J. Higham, \"Computing a nearest symmetric positive semidefinite\n",
    "    matrix\" (1988): https://doi.org/10.1016/0024-3795(88)90223-6\n",
    "    \n",
    "    [2] https://www.mathworks.com/matlabcentral/fileexchange/42885-nearestspd\n",
    "    \n",
    "    [3] https://gist.github.com/fasiha/fdb5cec2054e6f1c6ae35476045a0bbd\n",
    "'''\n",
    "def nearestPD(co:np.ndarray, # stack of matrix with shape [...,N,N]\n",
    "             )-> np.ndarray: # nearest positive definite matrix of input, shape [...,N,N]\n",
    "    \"\"\"Find the nearest positive-definite matrix to input matrix.\"\"\"\n",
    "    xp = get_array_module(co)\n",
    "    B = (co + xp.swapaxes(co,-1,-2))/2\n",
    "    s, V = xp.linalg.svd(co)[1:]\n",
    "    I = xp.eye(co.shape[-1],dtype=co.dtype)\n",
    "    S = s[...,None]*I\n",
    "    del s\n",
    "\n",
    "    H = xp.matmul(xp.swapaxes(V,-1,-2), xp.matmul(S, V))\n",
    "    del S, V\n",
    "    A2 = (B + H) / 2\n",
    "    del B, H\n",
    "    A3 = (A2 + xp.swapaxes(A2,-1,-2))/2\n",
    "    del A2\n",
    "\n",
    "    if wherePD(A3).all():\n",
    "        return A3\n",
    "    \n",
    "    co_norm = xp.linalg.norm(co,axis=(-2,-1))\n",
    "    spacing = xp.nextafter(co_norm,co_norm+1.0)-co_norm\n",
    "    \n",
    "    k = 0\n",
    "    while True:\n",
    "        isPD = wherePD(A3)\n",
    "        isPD_all = isPD.all()\n",
    "        if isPD_all or k>=100:\n",
    "            break\n",
    "        k+=1\n",
    "        mineig = xp.amin(xp.linalg.eigvalsh(A3),axis=-1)\n",
    "        assert xp.isfinite(mineig).all()\n",
    "        A3 += (~isPD[...,None,None] * I) * (-mineig * k**2 + spacing)[...,None,None]\n",
    "    #print(k)\n",
    "    return A3"
   ]
  },
  {
   "cell_type": "markdown",
   "id": "370ec907-2733-4bb7-891d-6169997a5f9e",
   "metadata": {},
   "source": [
    "`nearest` means the Frobenius norm of the difference is minimized."
   ]
  },
  {
   "cell_type": "code",
   "execution_count": null,
   "id": "4ed89f9c-87e7-4ebe-853b-59c742e45d18",
   "metadata": {},
   "outputs": [],
   "source": [
    "#| export\n",
    "def regularize_spectral(coh:np.ndarray, # stack of matrix with shape [...,N,N]\n",
    "                        beta:Union[float, np.ndarray], # the regularization parameter, a float number or cupy ndarray with shape [...]\n",
    "                        )-> np.ndarray: # regularized matrix, shape [...,N,N]\n",
    "    '''\n",
    "    Spectral regularizer for coherence matrix.\n",
    "    '''\n",
    "    xp = get_array_module(coh)\n",
    "    I = xp.eye(coh.shape[-1],dtype=coh.dtype)\n",
    "    beta = xp.asarray(beta)[...,None,None]\n",
    "\n",
    "    regularized_coh = (1-beta)*coh + beta* I\n",
    "    return regularized_coh"
   ]
  },
  {
   "cell_type": "markdown",
   "id": "c1322000-1c4a-4c6b-8b53-f979ecaefbab",
   "metadata": {},
   "source": [
    "::: {.callout-warning}\n",
    "This function is deprecated.\n",
    ":::"
   ]
  },
  {
   "cell_type": "markdown",
   "id": "a1062aa0-c908-41d3-ba34-c47b80eedf86",
   "metadata": {},
   "source": [
    "`regularize_spectral` can regularize the absolute value of coherence matrix for better phase linking.\n",
    "It is first presented in [@zwiebackCheapValidRegularizers2022a]."
   ]
  },
  {
   "cell_type": "markdown",
   "id": "90cf906e-e467-4247-9543-b7b17db17e93",
   "metadata": {},
   "source": [
    "Examples:"
   ]
  },
  {
   "cell_type": "code",
   "execution_count": null,
   "id": "d2c8deda-51a2-41a2-bad9-695dd634fe30",
   "metadata": {},
   "outputs": [],
   "source": [
    "#| code-fold: true\n",
    "#| code-summary: \"Code for generating data for doc\"\n",
    "rslc = zarr.open('../../data/rslc.zarr/','r')[600:605,600:610]\n",
    "if is_cuda_available():\n",
    "    rslc = cp.asarray(rslc)\n",
    "    \n",
    "    # SHP selection\n",
    "    az_half_win = 1; r_half_win = 2\n",
    "    az_win = 2*az_half_win+1; r_win = 2*r_half_win+1\n",
    "    \n",
    "    rmli = cp.abs(rslc)**2\n",
    "    sorted_rmli = cp.sort(rmli,axis=-1)\n",
    "    p = mr.ks_test(sorted_rmli,az_half_win=az_half_win,r_half_win=r_half_win)\n",
    "    is_shp = p < 0.05\n",
    "    \n",
    "    cov,coh = emperical_co(rslc,is_shp)"
   ]
  },
  {
   "cell_type": "code",
   "execution_count": null,
   "id": "d1ecdf5a-2fb7-4241-a29d-6c89755f0af4",
   "metadata": {},
   "outputs": [
    {
     "name": "stdout",
     "output_type": "stream",
     "text": [
      "(5, 10, 17, 17)\n"
     ]
    }
   ],
   "source": [
    "if is_cuda_available():\n",
    "    print(coh.shape)"
   ]
  },
  {
   "cell_type": "code",
   "execution_count": null,
   "id": "2e7aedb4-8bc4-4a11-93c3-7c29331416d1",
   "metadata": {},
   "outputs": [],
   "source": [
    "if is_cuda_available():\n",
    "    regularized_coh1 = regularize_spectral(coh,0.1)"
   ]
  },
  {
   "cell_type": "markdown",
   "id": "d0606a6d-3048-4e5e-b6c1-d1f32b749a98",
   "metadata": {},
   "source": [
    "More general, `bata` can be a `cp.ndarray`:"
   ]
  },
  {
   "cell_type": "code",
   "execution_count": null,
   "id": "735f8970-8c67-4401-844c-219e981117b5",
   "metadata": {},
   "outputs": [],
   "source": [
    "if is_cuda_available():\n",
    "    beta = cp.ones(coh.shape[:-2])/10\n",
    "    regularized_coh2 = regularize_spectral(coh,beta)"
   ]
  },
  {
   "cell_type": "code",
   "execution_count": null,
   "id": "51962d9c-83a4-47d4-83ce-e149683c1002",
   "metadata": {},
   "outputs": [],
   "source": [
    "#| hide\n",
    "if is_cuda_available():\n",
    "    cp.testing.assert_array_almost_equal(regularized_coh1,regularized_coh2)"
   ]
  },
  {
   "cell_type": "code",
   "execution_count": null,
   "id": "ce82e557-133d-43bd-a9c5-2f48a68b0021",
   "metadata": {},
   "outputs": [],
   "source": [
    "#| hide\n",
    "import nbdev; nbdev.nbdev_export()"
   ]
  },
  {
   "cell_type": "code",
   "execution_count": null,
   "id": "0b5fa32f-6fd5-45be-b5d0-2b9b726b8d7d",
   "metadata": {},
   "outputs": [],
   "source": []
  }
 ],
 "metadata": {
  "kernelspec": {
   "display_name": "python3",
   "language": "python",
   "name": "python3"
  }
 },
 "nbformat": 4,
 "nbformat_minor": 5
}
