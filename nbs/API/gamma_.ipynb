{
 "cells": [
  {
   "cell_type": "markdown",
   "id": "f73eaee7-9b60-4032-967f-48cdc0193b03",
   "metadata": {},
   "source": [
    "# gamma\n",
    "\n",
    "> internal utilities for working with gamma software"
   ]
  },
  {
   "cell_type": "code",
   "execution_count": null,
   "id": "334ba58a-2f73-473e-a63c-275c7f5496bc",
   "metadata": {},
   "outputs": [],
   "source": [
    "#| default_exp gamma_"
   ]
  },
  {
   "cell_type": "code",
   "execution_count": null,
   "id": "576a6770-de43-462c-be1d-b4999b15bb3a",
   "metadata": {},
   "outputs": [],
   "source": [
    "#| hide\n",
    "from nbdev.showdoc import *"
   ]
  },
  {
   "cell_type": "code",
   "execution_count": null,
   "id": "461813db-672c-4410-8529-d165b4755fd1",
   "metadata": {},
   "outputs": [],
   "source": [
    "#| hide\n",
    "try:\n",
    "    import py_gamma as pg\n",
    "except:\n",
    "    pass"
   ]
  },
  {
   "cell_type": "code",
   "execution_count": null,
   "id": "bc104c8a-1a49-4fbe-9453-1198ca9c4be6",
   "metadata": {},
   "outputs": [],
   "source": [
    "#| export\n",
    "import numpy as np\n",
    "import os"
   ]
  },
  {
   "cell_type": "code",
   "execution_count": null,
   "id": "31eb9f38-d856-4419-b59f-22d0cecd9b1f",
   "metadata": {},
   "outputs": [],
   "source": [
    "#| export\n",
    "def read_gamma_image(imag:str, # gamma raster data\n",
    "                     width:int, # data width\n",
    "                     dtype:str='float', # data format, only 'float', 'fcomplex', 'double' and 'int' are supported.\n",
    "                     y0:int=0, # line number to start reading\n",
    "                     ny:int=None, # number of lines to read, default: to the last line\n",
    "                    ):\n",
    "    # zero value in the image is transformed to \n",
    "    # gpu:bool=False, # return a cupy array if true \n",
    "    # !! nvidia gpu do not support big endian data, so no way to directly read it\n",
    "    '''read gamma image into numpy array.'''\n",
    "    if dtype == 'float':\n",
    "        dt = '>f4'\n",
    "    elif dtype == 'fcomplex':\n",
    "        dt = '>c8'\n",
    "    elif dtype == 'int':\n",
    "        dt = '>i4'\n",
    "    elif dtype =='double':\n",
    "        dt = '>f8'\n",
    "    else: raise ValueError('Unsupported data type')\n",
    "\n",
    "    with open(imag,\"rb\") as datf:\n",
    "        datf.seek(0,os.SEEK_END)\n",
    "        size = datf.tell()\n",
    "    n_byte = int(dt[-1]) # number of byte per data point\n",
    "    nlines = int(size / n_byte / width)\n",
    "    assert y0 <= nlines, 'y0 is larger than height.'\n",
    "    if ny is None: ny = nlines-y0\n",
    "    assert y0+ny <= nlines, 'y0+ny is larger than height.'\n",
    "    offset = y0*width*n_byte\n",
    "    count = ny*width*n_byte\n",
    "    # if gpu:\n",
    "    #     import cupy as cp\n",
    "    #     import kvikio\n",
    "    #     import kvikio.zarr\n",
    "    #     with kvikio.CuFile(imag,'rb') as cufile:\n",
    "    #         gpu_dt = dt.replace('>','=')\n",
    "    #         data = cp.empty((ny,width),dtype=dt)\n",
    "    #         cufile.read(data,size=count,file_offset=offset)\n",
    "    #     return data\n",
    "    # else:\n",
    "    with open(imag,'rb') as datf:\n",
    "        data = np.fromfile(datf,dtype=dt,offset=offset,count=ny*width)\n",
    "    if dt != '>i4':\n",
    "        mask = data==0\n",
    "        if dt == '>c8':\n",
    "            data[mask] = np.nan+1j*np.nan\n",
    "        else:\n",
    "            data[mask] = np.nan\n",
    "    data = data.astype(data.dtype.newbyteorder('native'))\n",
    "    return data.reshape(-1,width)"
   ]
  },
  {
   "cell_type": "code",
   "execution_count": null,
   "id": "b411f5c8-19e2-4b99-af3c-4dedab6a6f4c",
   "metadata": {},
   "outputs": [],
   "source": [
    "#| export\n",
    "def read_gamma_pdata(\n",
    "    imag:str, # gamma point cloud data\n",
    "    dtype:str='float', # data format, only 'float', 'fcomplex', 'double' and 'int' are supported.\n",
    "):\n",
    "    # zero value in the data is transformed to nan\n",
    "    '''read gamma image into numpy array.'''\n",
    "    if dtype == 'float':\n",
    "        dt = '>f4'\n",
    "    elif dtype == 'fcomplex':\n",
    "        dt = '>c8'\n",
    "    elif dtype == 'int':\n",
    "        dt = '>i4'\n",
    "    elif dtype =='double':\n",
    "        dt = '>f8'\n",
    "    else: raise ValueError('Unsupported data type')\n",
    "\n",
    "    data = np.fromfile(imag,dtype=dt)\n",
    "    if dt != '>i4':\n",
    "        mask = data==0\n",
    "        if dt == '>c8':\n",
    "            data[mask] = np.nan+1j*np.nan\n",
    "        else:\n",
    "            data[mask] = np.nan\n",
    "    data = data.astype(data.dtype.newbyteorder('native'))\n",
    "    return data"
   ]
  },
  {
   "cell_type": "code",
   "execution_count": null,
   "id": "397a7be4-fdaa-45db-996b-8916f6418a93",
   "metadata": {},
   "outputs": [],
   "source": [
    "#| export\n",
    "def write_gamma_image(imag,path):\n",
    "    # support both raster and point cloud\n",
    "    imag = imag.astype(imag.dtype.newbyteorder('big'))\n",
    "    imag.tofile(path)"
   ]
  },
  {
   "cell_type": "code",
   "execution_count": null,
   "id": "57c6fa0d-c355-4686-850c-945a60ef6d38",
   "metadata": {},
   "outputs": [],
   "source": [
    "#| export\n",
    "def read_gamma_plist(plist:str,dtype='int'):\n",
    "    return read_gamma_image(plist,width=2,dtype=dtype)"
   ]
  },
  {
   "cell_type": "code",
   "execution_count": null,
   "id": "1a8cae5e-0e79-49a7-980a-4ffd1faf886d",
   "metadata": {},
   "outputs": [],
   "source": [
    "#| export\n",
    "def write_gamma_plist(imag,path):\n",
    "    return write_gamma_image(imag,path)"
   ]
  },
  {
   "cell_type": "code",
   "execution_count": null,
   "id": "bd466ecb-110f-4f9c-9c71-85a26eac3bd5",
   "metadata": {},
   "outputs": [
    {
     "name": "stdout",
     "output_type": "stream",
     "text": [
      "image:\n",
      "  width: 1834  number of lines: 2500\n",
      "data read from image:\n",
      "  column offset (x0): 0  row offset (y0): 0  \n",
      "  width: 1834  number of lines: 2500\n"
     ]
    }
   ],
   "source": [
    "#| hide\n",
    "np.testing.assert_array_equal(read_gamma_image('../../data/gamma/rslc/20210802.rslc',1834,dtype='fcomplex'),\n",
    "                              pg.read_image('../../data/gamma/rslc/20210802.rslc',width= 1834, dtype= 'fcomplex'))"
   ]
  },
  {
   "cell_type": "code",
   "execution_count": null,
   "id": "01b9dee6-c31c-41b6-bcbc-604618aa6fb2",
   "metadata": {},
   "outputs": [],
   "source": [
    "#| hide\n",
    "# import kvikio\n",
    "# import kvikio.zarr\n",
    "# import cupy as cp\n",
    "# gpu_rslc = cp.empty_like(cpu_rslc,dtype = '>c8')\n",
    "# with kvikio.CuFile('../../data/gamma/rslc/20210802.rslc','r') as cu_file:\n",
    "#     cu_file.read(gpu_rslc)\n",
    "# np.testing.assert_array_equal(cpu_rslc,gpu_rslc.get())"
   ]
  },
  {
   "cell_type": "code",
   "execution_count": null,
   "id": "cfb3e4b6-8d19-4338-87f6-4c50457dcc7b",
   "metadata": {},
   "outputs": [],
   "source": [
    "#| hide\n",
    "import nbdev; nbdev.nbdev_export()"
   ]
  },
  {
   "cell_type": "code",
   "execution_count": null,
   "id": "04c61d11-521c-44ff-881d-c90a79e58034",
   "metadata": {},
   "outputs": [],
   "source": []
  }
 ],
 "metadata": {
  "kernelspec": {
   "display_name": "python3",
   "language": "python",
   "name": "python3"
  }
 },
 "nbformat": 4,
 "nbformat_minor": 5
}
