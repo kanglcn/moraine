{
 "cells": [
  {
   "cell_type": "markdown",
   "metadata": {},
   "source": [
    "# Moraine"
   ]
  },
  {
   "cell_type": "markdown",
   "metadata": {},
   "source": [
    "> Modern Radar Interferometry Environment; A simple, stupid InSAR postprocessing tool in big data era"
   ]
  },
  {
   "cell_type": "markdown",
   "metadata": {},
   "source": [
    "This package provide functions for InSAR post-processing which refers as processing after SAR images co-registration and geocoding. The functions include PS/DS identification, coherence matrix estimation, phase linking etc."
   ]
  },
  {
   "cell_type": "markdown",
   "metadata": {},
   "source": [
    "::: {.callout-warning}\n",
    "Due to the heavy dependence on CuPy and CUDA, this package only works on device with Nivida GPU.\n",
    ":::"
   ]
  },
  {
   "cell_type": "markdown",
   "metadata": {},
   "source": [
    "::: {.callout-warning}\n",
    "This package is under intensive development. API is subjected to change without any noticement.\n",
    ":::"
   ]
  },
  {
   "cell_type": "markdown",
   "metadata": {},
   "source": [
    "## Principle[^1]\n",
    "\n",
    "### Simplicity\n",
    "\n",
    "There is no perfect workflow that always generate satisfactory InSAR result,\n",
    "mostly due to decorrelation, strong atmospheric artifact and high deformation gradient.\n",
    "Different methods implemented in different packages need to be tried which is\n",
    "frustrating especially when the packages are over-encapsulated and no detailed\n",
    "documentations are provided.\n",
    "Furthermore, it brings more dirty work when users need to save intermediate data from one software\n",
    "and prepared them in a designated format and structure required by another software.\n",
    "\n",
    "Moraine defines simplicity as *without complex data structure and over-encapsulation*.\n",
    "Most data in Moraine is just the basic multi-dimentional array,\n",
    "i.e., [NumPy](https://numpy.org/) array or [CuPy](https://cupy.dev/) array in memory, or\n",
    "[Zarr](https://zarr.readthedocs.io/en/stable/) on disk.\n",
    "Instead of providing a standard workflow as [StamPS](https://homepages.see.leeds.ac.uk/~earahoo/stamps/)\n",
    "and [MintPy](https://mintpy.readthedocs.io/en/latest/),\n",
    "Moraine is designed as a collection of functions that implement specific InSAR processing techniques\n",
    "and data manipulation infrastructure.\n",
    "\n",
    "\n",
    "### Modernity\n",
    "Moraine strives to implement state-of-art InSAR techniques,\n",
    "including advanced PS/DS identification, phase linking and deep-learning-based methods.\n",
    "\n",
    "Moraine also emphasizes performance, especially in this big data era.\n",
    "Most Moraine functions are implemented with well-optimized GPU code or OpenMP code.\n",
    "Furthermore, with the support of [Dask](https://docs.dask.org/en/stable/),\n",
    "Moraine can be runed on multi-GPUs to further accelerate the processing,\n",
    "get rid of the limitation of memory and achieve asynchronous IO.\n",
    "\n",
    "### Pragmatism\n",
    "Moraine is a pragmatic library rather than an ideological workflow.\n",
    "The large number of functions in MOraine offer free and open source implementation\n",
    "for many InSAR techniques.\n",
    "Ultimately, workflow designs are made on a case-by-case basis by the user.\n",
    "We provide the necessary infrastructure and your role is to be innovative!\n",
    "\n",
    "### User centrality\n",
    "Whereas many InSAR packages attempt to be more user-friendly,\n",
    "Moraine has always been, and shall always remain user-centric.\n",
    "This package is intended to fill the needs of those contributing to it,\n",
    "rather than trying to appeal to as many users as possible.\n",
    "It is targeted at the proficient InSAR user, or anyone with a do-it-yourself attitude\n",
    "who is willing to read the documentation, and solve their own problems.\n",
    "\n",
    "All users are encouraged to participate and contribute to this package.\n",
    "Reporting bugs and requesting new features by raising a \n",
    "Github [issue](https://github.com/kanglcn/moraine/issues) is highly valued and\n",
    "bugs fixing, documentation improving and features implementation by make a \n",
    "Github [pull request](https://github.com/kanglcn/moraine/pulls) are very appreciated.\n",
    "Users can also freely ask questions, provide technical assistance to others or just exchange opinions in the\n",
    "[discussions](https://github.com/kanglcn/moraine/discussions).\n",
    "\n",
    "[^1]: The pronciples are modified from the [principle](https://wiki.archlinux.org/title/Arch_Linux) of Arch Linux."
   ]
  },
  {
   "cell_type": "markdown",
   "metadata": {},
   "source": [
    "## Install"
   ]
  },
  {
   "cell_type": "markdown",
   "metadata": {},
   "source": [
    "Because of GPU driver and CUDA Version Compatibility, there is no simple solution for CUDA related packages installation. Users need to successfully install [cupy](https://docs.cupy.dev/en/stable/install.html#installation) and [dask_cuda](https://docs.rapids.ai/api/dask-cuda/stable/) first.\n",
    "\n",
    "Here is some tips for installing them. Generally, the cuda driver is alrealy installed and maintained by the system administrator. Users only need to determine the right cudatoolkit version. Frist run\n",
    "```bash\n",
    "nvidia-smi\n",
    "```\n",
    "It will prints something like:\n",
    "```\n",
    "...\n",
    "+-----------------------------------------------------------------------------+\n",
    "| NVIDIA-SMI 525.105.17   Driver Version: 525.105.17   CUDA Version: 12.0     |\n",
    "|-------------------------------+----------------------+----------------------+\n",
    "...\n",
    "```\n",
    "The `CUDA Version` is the maxminum cudatoolkit version that supported by the current CUDA driver. Here we use version 11.8 as an example. Then you can install the needed `cudatoolkit`, `cupy`, `dask_cuda` by:\n",
    "```bash\n",
    "conda install -c \"nvidia/label/cuda-11.8.0\" cuda-toolkit\n",
    "conda install -c conda-forge cupy cuda-version=11.8\n",
    "conda install -c rapidsai -c conda-forge -c nvidia dask-cuda rmm cuda-version=11.8\n",
    "```"
   ]
  },
  {
   "cell_type": "markdown",
   "metadata": {},
   "source": [
    "Then\n",
    "\n",
    "With conda:\n",
    "\n",
    "```bash\n",
    "conda install -c conda-forge moraine\n",
    "```\n",
    "\n",
    "Or with pip:\n",
    "\n",
    "```bash\n",
    "pip install moraine\n",
    "```\n",
    "\n",
    "In development mode:\n",
    "\n",
    "```bash\n",
    "git clone git@github.com:kanglcn/moraine.git ./moraine\n",
    "cd ./moraine\n",
    "pip install -e '.[dev]'\n",
    "```"
   ]
  },
  {
   "cell_type": "markdown",
   "metadata": {},
   "source": [
    "## How to use"
   ]
  },
  {
   "cell_type": "markdown",
   "metadata": {},
   "source": [
    "Read the [software architecture](./Introduction/software_architecture.ipynb) for an overview of the software design.\n",
    "Refer to [Tutorials](./Tutorials) for the examples.\n",
    "Refer to [API](./API/) and [CLI](./CLI) for the detailed usage of every functions."
   ]
  },
  {
   "cell_type": "markdown",
   "metadata": {},
   "source": [
    "## Contact us"
   ]
  },
  {
   "cell_type": "markdown",
   "metadata": {},
   "source": [
    "- Most discussion happens on [GitHub](https://github.com/kanglcn/moraine). Feel free to [open an issue](https://github.com/kanglcn/moraine/issues/new) or comment on any open issue or pull request.\n",
    "- use github [discussions](https://github.com/kanglcn/moraine/discussions) to ask questions or leave comments."
   ]
  },
  {
   "cell_type": "markdown",
   "metadata": {},
   "source": [
    "## License"
   ]
  },
  {
   "cell_type": "markdown",
   "metadata": {},
   "source": [
    "- This package is opened under [GPL-v3](https://www.gnu.org/licenses/gpl-3.0.en.html).\n",
    "- The deep learning models under `moraine/dl_model/*` are opened under [CC BY-NC-SA 4.0](https://creativecommons.org/licenses/by-nc-sa/4.0/)."
   ]
  },
  {
   "cell_type": "markdown",
   "metadata": {},
   "source": [
    "## General Guidelines for Making a Pull Request (PR)[^2]\n",
    "\n",
    "We follow the [git pull request workflow](https://www.asmeurer.com/git-workflow/) to make changes to our codebase.\n",
    "\n",
    "Before you make a PR, have a quick look at the titles of all the existing issues first. If there is already an issue that matches your PR, leave a comment there to let us know what you plan to do. Otherwise, open an issue describing what you want to do.\n",
    "\n",
    "What should be included in a PR\n",
    "\n",
    "- Each pull request should consist of a small and logical collection of changes; larger changes should be broken down into smaller parts and integrated separately.\n",
    "\n",
    "- Bug fixes should be submitted in separate PRs.\n",
    "\n",
    "How to write and submit a PR\n",
    "\n",
    "- This package is developed with the [nbdev](https://nbdev.fast.ai/), a notebook-driven development platform.\n",
    "Developers should write or edit the notebooks rather than the `.py` files.\n",
    "After than, run `nbdev_export` to export the code in the notebooks to `.py` files and run `nbdev_clean` to clean the notebooks.\n",
    "\n",
    "- The github bot to generate docs do not support GPU, so all GPU related packages (`dask_cuda`) should be prevented in import cells and export cells.\n",
    "`cupy` v13 now allow `import cupy` on a cpu-only machine. So it can be used now.\n",
    "\n",
    "- Describe what your PR changes and why this is a good thing. Be as specific as you can. The PR description is how we keep track of the changes made to the project over time.\n",
    "\n",
    "- Do not commit changes to files that are irrelevant to your feature or bugfix (e.g.: .gitignore, IDE project files, etc).\n",
    "\n",
    "- Write descriptive commit messages. Chris Beams has written a [guide](https://cbea.ms/git-commit/) on how to write good commit messages.\n",
    "\n",
    "PR review\n",
    "\n",
    "Be willing to accept criticism and work on improving your code; we don’t want to break other users’ code, so care must be taken not to introduce bugs.\n",
    "\n",
    "Be aware that the pull request review process is not immediate, and is generally proportional to the size of the pull request.\n",
    "\n",
    "[^2]: this is modified from the [Contributers Guide](https://www.pygmt.org/latest/contributing.html) of [PyGMT](https://www.pygmt.org/latest/index.html)."
   ]
  },
  {
   "cell_type": "code",
   "execution_count": null,
   "metadata": {},
   "outputs": [],
   "source": []
  }
 ],
 "metadata": {
  "kernelspec": {
   "display_name": "python3",
   "language": "python",
   "name": "python3"
  }
 },
 "nbformat": 4,
 "nbformat_minor": 4
}
